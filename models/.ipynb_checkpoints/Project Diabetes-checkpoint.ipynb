{
 "cells": [
  {
   "cell_type": "markdown",
   "id": "138351a4",
   "metadata": {},
   "source": [
    "# 1.Import Libraries"
   ]
  },
  {
   "cell_type": "code",
   "execution_count": 31,
   "id": "40eff218",
   "metadata": {},
   "outputs": [],
   "source": [
    "import numpy as np\n",
    "import pandas as pd\n",
    "\n",
    "from sklearn.linear_model import LogisticRegression\n",
    "from sklearn.model_selection import train_test_split\n",
    "\n",
    "from sklearn.metrics import confusion_matrix, classification_report, accuracy_score\n",
    "from sklearn.metrics import precision_score, recall_score, f1_score\n",
    "from sklearn.metrics import plot_confusion_matrix\n",
    "from sklearn.metrics import roc_curve\n",
    "\n",
    "import matplotlib.pyplot as plt\n",
    "import seaborn as sns\n",
    "\n",
    "import warnings\n",
    "warnings.filterwarnings(\"ignore\")"
   ]
  },
  {
   "cell_type": "markdown",
   "id": "3cd88c64",
   "metadata": {},
   "source": [
    "# 2.Problem Statement"
   ]
  },
  {
   "cell_type": "code",
   "execution_count": null,
   "id": "93143634",
   "metadata": {},
   "outputs": [],
   "source": [
    "To predict whther patient is diabetic or not."
   ]
  },
  {
   "cell_type": "markdown",
   "id": "4212687d",
   "metadata": {},
   "source": [
    "# 3.Data Gathering"
   ]
  },
  {
   "cell_type": "code",
   "execution_count": 4,
   "id": "824fbe1d",
   "metadata": {},
   "outputs": [
    {
     "data": {
      "text/html": [
       "<div>\n",
       "<style scoped>\n",
       "    .dataframe tbody tr th:only-of-type {\n",
       "        vertical-align: middle;\n",
       "    }\n",
       "\n",
       "    .dataframe tbody tr th {\n",
       "        vertical-align: top;\n",
       "    }\n",
       "\n",
       "    .dataframe thead th {\n",
       "        text-align: right;\n",
       "    }\n",
       "</style>\n",
       "<table border=\"1\" class=\"dataframe\">\n",
       "  <thead>\n",
       "    <tr style=\"text-align: right;\">\n",
       "      <th></th>\n",
       "      <th>Glucose</th>\n",
       "      <th>BloodPressure</th>\n",
       "      <th>SkinThickness</th>\n",
       "      <th>Insulin</th>\n",
       "      <th>BMI</th>\n",
       "      <th>DiabetesPedigreeFunction</th>\n",
       "      <th>Age</th>\n",
       "      <th>Outcome</th>\n",
       "    </tr>\n",
       "  </thead>\n",
       "  <tbody>\n",
       "    <tr>\n",
       "      <th>0</th>\n",
       "      <td>148</td>\n",
       "      <td>50</td>\n",
       "      <td>35</td>\n",
       "      <td>0</td>\n",
       "      <td>33.6</td>\n",
       "      <td>0.627</td>\n",
       "      <td>50</td>\n",
       "      <td>1</td>\n",
       "    </tr>\n",
       "    <tr>\n",
       "      <th>1</th>\n",
       "      <td>85</td>\n",
       "      <td>66</td>\n",
       "      <td>29</td>\n",
       "      <td>0</td>\n",
       "      <td>26.6</td>\n",
       "      <td>0.351</td>\n",
       "      <td>31</td>\n",
       "      <td>0</td>\n",
       "    </tr>\n",
       "    <tr>\n",
       "      <th>2</th>\n",
       "      <td>183</td>\n",
       "      <td>64</td>\n",
       "      <td>0</td>\n",
       "      <td>0</td>\n",
       "      <td>23.3</td>\n",
       "      <td>0.672</td>\n",
       "      <td>52</td>\n",
       "      <td>1</td>\n",
       "    </tr>\n",
       "    <tr>\n",
       "      <th>3</th>\n",
       "      <td>150</td>\n",
       "      <td>66</td>\n",
       "      <td>23</td>\n",
       "      <td>94</td>\n",
       "      <td>28.1</td>\n",
       "      <td>0.167</td>\n",
       "      <td>21</td>\n",
       "      <td>0</td>\n",
       "    </tr>\n",
       "    <tr>\n",
       "      <th>4</th>\n",
       "      <td>150</td>\n",
       "      <td>40</td>\n",
       "      <td>35</td>\n",
       "      <td>168</td>\n",
       "      <td>43.1</td>\n",
       "      <td>2.288</td>\n",
       "      <td>33</td>\n",
       "      <td>1</td>\n",
       "    </tr>\n",
       "    <tr>\n",
       "      <th>...</th>\n",
       "      <td>...</td>\n",
       "      <td>...</td>\n",
       "      <td>...</td>\n",
       "      <td>...</td>\n",
       "      <td>...</td>\n",
       "      <td>...</td>\n",
       "      <td>...</td>\n",
       "      <td>...</td>\n",
       "    </tr>\n",
       "    <tr>\n",
       "      <th>763</th>\n",
       "      <td>101</td>\n",
       "      <td>76</td>\n",
       "      <td>48</td>\n",
       "      <td>180</td>\n",
       "      <td>32.9</td>\n",
       "      <td>0.171</td>\n",
       "      <td>63</td>\n",
       "      <td>0</td>\n",
       "    </tr>\n",
       "    <tr>\n",
       "      <th>764</th>\n",
       "      <td>122</td>\n",
       "      <td>70</td>\n",
       "      <td>27</td>\n",
       "      <td>0</td>\n",
       "      <td>36.8</td>\n",
       "      <td>0.340</td>\n",
       "      <td>27</td>\n",
       "      <td>0</td>\n",
       "    </tr>\n",
       "    <tr>\n",
       "      <th>765</th>\n",
       "      <td>121</td>\n",
       "      <td>72</td>\n",
       "      <td>23</td>\n",
       "      <td>112</td>\n",
       "      <td>26.2</td>\n",
       "      <td>0.245</td>\n",
       "      <td>30</td>\n",
       "      <td>0</td>\n",
       "    </tr>\n",
       "    <tr>\n",
       "      <th>766</th>\n",
       "      <td>126</td>\n",
       "      <td>60</td>\n",
       "      <td>0</td>\n",
       "      <td>0</td>\n",
       "      <td>30.1</td>\n",
       "      <td>0.349</td>\n",
       "      <td>47</td>\n",
       "      <td>1</td>\n",
       "    </tr>\n",
       "    <tr>\n",
       "      <th>767</th>\n",
       "      <td>93</td>\n",
       "      <td>70</td>\n",
       "      <td>31</td>\n",
       "      <td>0</td>\n",
       "      <td>30.4</td>\n",
       "      <td>0.315</td>\n",
       "      <td>23</td>\n",
       "      <td>0</td>\n",
       "    </tr>\n",
       "  </tbody>\n",
       "</table>\n",
       "<p>768 rows × 8 columns</p>\n",
       "</div>"
      ],
      "text/plain": [
       "     Glucose  BloodPressure  SkinThickness  Insulin   BMI  \\\n",
       "0        148             50             35        0  33.6   \n",
       "1         85             66             29        0  26.6   \n",
       "2        183             64              0        0  23.3   \n",
       "3        150             66             23       94  28.1   \n",
       "4        150             40             35      168  43.1   \n",
       "..       ...            ...            ...      ...   ...   \n",
       "763      101             76             48      180  32.9   \n",
       "764      122             70             27        0  36.8   \n",
       "765      121             72             23      112  26.2   \n",
       "766      126             60              0        0  30.1   \n",
       "767       93             70             31        0  30.4   \n",
       "\n",
       "     DiabetesPedigreeFunction  Age  Outcome  \n",
       "0                       0.627   50        1  \n",
       "1                       0.351   31        0  \n",
       "2                       0.672   52        1  \n",
       "3                       0.167   21        0  \n",
       "4                       2.288   33        1  \n",
       "..                        ...  ...      ...  \n",
       "763                     0.171   63        0  \n",
       "764                     0.340   27        0  \n",
       "765                     0.245   30        0  \n",
       "766                     0.349   47        1  \n",
       "767                     0.315   23        0  \n",
       "\n",
       "[768 rows x 8 columns]"
      ]
     },
     "execution_count": 4,
     "metadata": {},
     "output_type": "execute_result"
    }
   ],
   "source": [
    "df=pd.read_csv(\"diabetes.csv\")\n",
    "df"
   ]
  },
  {
   "cell_type": "markdown",
   "id": "7c85de6a",
   "metadata": {},
   "source": [
    "# 4.EDA(Exploratory Data Analysis)"
   ]
  },
  {
   "cell_type": "code",
   "execution_count": 5,
   "id": "c7f7323f",
   "metadata": {},
   "outputs": [
    {
     "name": "stdout",
     "output_type": "stream",
     "text": [
      "<class 'pandas.core.frame.DataFrame'>\n",
      "RangeIndex: 768 entries, 0 to 767\n",
      "Data columns (total 8 columns):\n",
      " #   Column                    Non-Null Count  Dtype  \n",
      "---  ------                    --------------  -----  \n",
      " 0   Glucose                   768 non-null    int64  \n",
      " 1   BloodPressure             768 non-null    int64  \n",
      " 2   SkinThickness             768 non-null    int64  \n",
      " 3   Insulin                   768 non-null    int64  \n",
      " 4   BMI                       768 non-null    float64\n",
      " 5   DiabetesPedigreeFunction  768 non-null    float64\n",
      " 6   Age                       768 non-null    int64  \n",
      " 7   Outcome                   768 non-null    int64  \n",
      "dtypes: float64(2), int64(6)\n",
      "memory usage: 48.1 KB\n"
     ]
    }
   ],
   "source": [
    "df.info()"
   ]
  },
  {
   "cell_type": "code",
   "execution_count": null,
   "id": "ed51939c",
   "metadata": {},
   "outputs": [],
   "source": [
    "# As all columns are numeric so no need to do any eda parts here..."
   ]
  },
  {
   "cell_type": "code",
   "execution_count": 6,
   "id": "dae92953",
   "metadata": {},
   "outputs": [
    {
     "data": {
      "text/plain": [
       "0      1\n",
       "1      0\n",
       "2      1\n",
       "3      0\n",
       "4      1\n",
       "      ..\n",
       "763    0\n",
       "764    0\n",
       "765    0\n",
       "766    1\n",
       "767    0\n",
       "Name: Outcome, Length: 768, dtype: int64"
      ]
     },
     "execution_count": 6,
     "metadata": {},
     "output_type": "execute_result"
    }
   ],
   "source": [
    "df[\"Outcome\"]"
   ]
  },
  {
   "cell_type": "code",
   "execution_count": 7,
   "id": "902a8675",
   "metadata": {},
   "outputs": [
    {
     "data": {
      "text/plain": [
       "0    500\n",
       "1    268\n",
       "Name: Outcome, dtype: int64"
      ]
     },
     "execution_count": 7,
     "metadata": {},
     "output_type": "execute_result"
    }
   ],
   "source": [
    "df[\"Outcome\"].value_counts()"
   ]
  },
  {
   "cell_type": "code",
   "execution_count": 8,
   "id": "5d2ef819",
   "metadata": {},
   "outputs": [
    {
     "data": {
      "text/plain": [
       "<AxesSubplot:xlabel='Outcome', ylabel='count'>"
      ]
     },
     "execution_count": 8,
     "metadata": {},
     "output_type": "execute_result"
    },
    {
     "data": {
      "image/png": "[encoded data removed]",
      "text/plain": [
       "<Figure size 432x288 with 1 Axes>"
      ]
     },
     "metadata": {
      "needs_background": "light"
     },
     "output_type": "display_data"
    }
   ],
   "source": [
    "sns.countplot(x  = df['Outcome'])"
   ]
  },
  {
   "cell_type": "markdown",
   "id": "9ebaca3b",
   "metadata": {},
   "source": [
    "# 5.Feature Engineering"
   ]
  },
  {
   "cell_type": "code",
   "execution_count": null,
   "id": "b5e4d6a5",
   "metadata": {},
   "outputs": [],
   "source": []
  },
  {
   "cell_type": "markdown",
   "id": "6ddc6e4f",
   "metadata": {},
   "source": [
    "# 6.Feature Selection"
   ]
  },
  {
   "cell_type": "code",
   "execution_count": null,
   "id": "8281ca94",
   "metadata": {},
   "outputs": [],
   "source": []
  },
  {
   "cell_type": "markdown",
   "id": "df1be929",
   "metadata": {},
   "source": [
    "# 7.Model Training"
   ]
  },
  {
   "cell_type": "markdown",
   "id": "3b0dd99a",
   "metadata": {},
   "source": [
    "### 7.1 splitting dataset"
   ]
  },
  {
   "cell_type": "code",
   "execution_count": 11,
   "id": "96a42911",
   "metadata": {},
   "outputs": [],
   "source": [
    "x = df.drop('Outcome', axis=1)\n",
    "y = df['Outcome']  # target column\n",
    "\n",
    "x_train, x_test, y_train, y_test = train_test_split(x,y, test_size=0.25, random_state=1, stratify=y)\n"
   ]
  },
  {
   "cell_type": "code",
   "execution_count": 12,
   "id": "ea5652c5",
   "metadata": {},
   "outputs": [
    {
     "data": {
      "text/html": [
       "<div>\n",
       "<style scoped>\n",
       "    .dataframe tbody tr th:only-of-type {\n",
       "        vertical-align: middle;\n",
       "    }\n",
       "\n",
       "    .dataframe tbody tr th {\n",
       "        vertical-align: top;\n",
       "    }\n",
       "\n",
       "    .dataframe thead th {\n",
       "        text-align: right;\n",
       "    }\n",
       "</style>\n",
       "<table border=\"1\" class=\"dataframe\">\n",
       "  <thead>\n",
       "    <tr style=\"text-align: right;\">\n",
       "      <th></th>\n",
       "      <th>Glucose</th>\n",
       "      <th>BloodPressure</th>\n",
       "      <th>SkinThickness</th>\n",
       "      <th>Insulin</th>\n",
       "      <th>BMI</th>\n",
       "      <th>DiabetesPedigreeFunction</th>\n",
       "      <th>Age</th>\n",
       "    </tr>\n",
       "  </thead>\n",
       "  <tbody>\n",
       "    <tr>\n",
       "      <th>610</th>\n",
       "      <td>106</td>\n",
       "      <td>54</td>\n",
       "      <td>21</td>\n",
       "      <td>158</td>\n",
       "      <td>30.9</td>\n",
       "      <td>0.292</td>\n",
       "      <td>24</td>\n",
       "    </tr>\n",
       "    <tr>\n",
       "      <th>681</th>\n",
       "      <td>162</td>\n",
       "      <td>76</td>\n",
       "      <td>36</td>\n",
       "      <td>0</td>\n",
       "      <td>49.6</td>\n",
       "      <td>0.364</td>\n",
       "      <td>26</td>\n",
       "    </tr>\n",
       "    <tr>\n",
       "      <th>706</th>\n",
       "      <td>115</td>\n",
       "      <td>0</td>\n",
       "      <td>0</td>\n",
       "      <td>0</td>\n",
       "      <td>0.0</td>\n",
       "      <td>0.261</td>\n",
       "      <td>30</td>\n",
       "    </tr>\n",
       "    <tr>\n",
       "      <th>281</th>\n",
       "      <td>129</td>\n",
       "      <td>76</td>\n",
       "      <td>28</td>\n",
       "      <td>122</td>\n",
       "      <td>35.9</td>\n",
       "      <td>0.280</td>\n",
       "      <td>39</td>\n",
       "    </tr>\n",
       "    <tr>\n",
       "      <th>625</th>\n",
       "      <td>90</td>\n",
       "      <td>88</td>\n",
       "      <td>47</td>\n",
       "      <td>54</td>\n",
       "      <td>37.7</td>\n",
       "      <td>0.362</td>\n",
       "      <td>29</td>\n",
       "    </tr>\n",
       "    <tr>\n",
       "      <th>...</th>\n",
       "      <td>...</td>\n",
       "      <td>...</td>\n",
       "      <td>...</td>\n",
       "      <td>...</td>\n",
       "      <td>...</td>\n",
       "      <td>...</td>\n",
       "      <td>...</td>\n",
       "    </tr>\n",
       "    <tr>\n",
       "      <th>214</th>\n",
       "      <td>112</td>\n",
       "      <td>82</td>\n",
       "      <td>32</td>\n",
       "      <td>175</td>\n",
       "      <td>34.2</td>\n",
       "      <td>0.260</td>\n",
       "      <td>36</td>\n",
       "    </tr>\n",
       "    <tr>\n",
       "      <th>137</th>\n",
       "      <td>93</td>\n",
       "      <td>60</td>\n",
       "      <td>25</td>\n",
       "      <td>92</td>\n",
       "      <td>28.7</td>\n",
       "      <td>0.532</td>\n",
       "      <td>22</td>\n",
       "    </tr>\n",
       "    <tr>\n",
       "      <th>645</th>\n",
       "      <td>157</td>\n",
       "      <td>74</td>\n",
       "      <td>35</td>\n",
       "      <td>440</td>\n",
       "      <td>39.4</td>\n",
       "      <td>0.134</td>\n",
       "      <td>30</td>\n",
       "    </tr>\n",
       "    <tr>\n",
       "      <th>17</th>\n",
       "      <td>107</td>\n",
       "      <td>74</td>\n",
       "      <td>0</td>\n",
       "      <td>0</td>\n",
       "      <td>29.6</td>\n",
       "      <td>0.254</td>\n",
       "      <td>31</td>\n",
       "    </tr>\n",
       "    <tr>\n",
       "      <th>746</th>\n",
       "      <td>147</td>\n",
       "      <td>94</td>\n",
       "      <td>41</td>\n",
       "      <td>0</td>\n",
       "      <td>49.3</td>\n",
       "      <td>0.358</td>\n",
       "      <td>27</td>\n",
       "    </tr>\n",
       "  </tbody>\n",
       "</table>\n",
       "<p>576 rows × 7 columns</p>\n",
       "</div>"
      ],
      "text/plain": [
       "     Glucose  BloodPressure  SkinThickness  Insulin   BMI  \\\n",
       "610      106             54             21      158  30.9   \n",
       "681      162             76             36        0  49.6   \n",
       "706      115              0              0        0   0.0   \n",
       "281      129             76             28      122  35.9   \n",
       "625       90             88             47       54  37.7   \n",
       "..       ...            ...            ...      ...   ...   \n",
       "214      112             82             32      175  34.2   \n",
       "137       93             60             25       92  28.7   \n",
       "645      157             74             35      440  39.4   \n",
       "17       107             74              0        0  29.6   \n",
       "746      147             94             41        0  49.3   \n",
       "\n",
       "     DiabetesPedigreeFunction  Age  \n",
       "610                     0.292   24  \n",
       "681                     0.364   26  \n",
       "706                     0.261   30  \n",
       "281                     0.280   39  \n",
       "625                     0.362   29  \n",
       "..                        ...  ...  \n",
       "214                     0.260   36  \n",
       "137                     0.532   22  \n",
       "645                     0.134   30  \n",
       "17                      0.254   31  \n",
       "746                     0.358   27  \n",
       "\n",
       "[576 rows x 7 columns]"
      ]
     },
     "execution_count": 12,
     "metadata": {},
     "output_type": "execute_result"
    }
   ],
   "source": [
    "x_train"
   ]
  },
  {
   "cell_type": "code",
   "execution_count": 13,
   "id": "ea805839",
   "metadata": {},
   "outputs": [
    {
     "data": {
      "text/html": [
       "<div>\n",
       "<style scoped>\n",
       "    .dataframe tbody tr th:only-of-type {\n",
       "        vertical-align: middle;\n",
       "    }\n",
       "\n",
       "    .dataframe tbody tr th {\n",
       "        vertical-align: top;\n",
       "    }\n",
       "\n",
       "    .dataframe thead th {\n",
       "        text-align: right;\n",
       "    }\n",
       "</style>\n",
       "<table border=\"1\" class=\"dataframe\">\n",
       "  <thead>\n",
       "    <tr style=\"text-align: right;\">\n",
       "      <th></th>\n",
       "      <th>Glucose</th>\n",
       "      <th>BloodPressure</th>\n",
       "      <th>SkinThickness</th>\n",
       "      <th>Insulin</th>\n",
       "      <th>BMI</th>\n",
       "      <th>DiabetesPedigreeFunction</th>\n",
       "      <th>Age</th>\n",
       "    </tr>\n",
       "  </thead>\n",
       "  <tbody>\n",
       "    <tr>\n",
       "      <th>118</th>\n",
       "      <td>97</td>\n",
       "      <td>60</td>\n",
       "      <td>23</td>\n",
       "      <td>0</td>\n",
       "      <td>28.2</td>\n",
       "      <td>0.443</td>\n",
       "      <td>22</td>\n",
       "    </tr>\n",
       "    <tr>\n",
       "      <th>132</th>\n",
       "      <td>170</td>\n",
       "      <td>64</td>\n",
       "      <td>37</td>\n",
       "      <td>225</td>\n",
       "      <td>34.5</td>\n",
       "      <td>0.356</td>\n",
       "      <td>30</td>\n",
       "    </tr>\n",
       "    <tr>\n",
       "      <th>3</th>\n",
       "      <td>150</td>\n",
       "      <td>66</td>\n",
       "      <td>23</td>\n",
       "      <td>94</td>\n",
       "      <td>28.1</td>\n",
       "      <td>0.167</td>\n",
       "      <td>21</td>\n",
       "    </tr>\n",
       "    <tr>\n",
       "      <th>693</th>\n",
       "      <td>129</td>\n",
       "      <td>68</td>\n",
       "      <td>49</td>\n",
       "      <td>125</td>\n",
       "      <td>38.5</td>\n",
       "      <td>0.439</td>\n",
       "      <td>43</td>\n",
       "    </tr>\n",
       "    <tr>\n",
       "      <th>654</th>\n",
       "      <td>106</td>\n",
       "      <td>70</td>\n",
       "      <td>28</td>\n",
       "      <td>135</td>\n",
       "      <td>34.2</td>\n",
       "      <td>0.142</td>\n",
       "      <td>22</td>\n",
       "    </tr>\n",
       "    <tr>\n",
       "      <th>...</th>\n",
       "      <td>...</td>\n",
       "      <td>...</td>\n",
       "      <td>...</td>\n",
       "      <td>...</td>\n",
       "      <td>...</td>\n",
       "      <td>...</td>\n",
       "      <td>...</td>\n",
       "    </tr>\n",
       "    <tr>\n",
       "      <th>427</th>\n",
       "      <td>181</td>\n",
       "      <td>64</td>\n",
       "      <td>30</td>\n",
       "      <td>180</td>\n",
       "      <td>34.1</td>\n",
       "      <td>0.328</td>\n",
       "      <td>38</td>\n",
       "    </tr>\n",
       "    <tr>\n",
       "      <th>135</th>\n",
       "      <td>125</td>\n",
       "      <td>60</td>\n",
       "      <td>20</td>\n",
       "      <td>140</td>\n",
       "      <td>33.8</td>\n",
       "      <td>0.088</td>\n",
       "      <td>31</td>\n",
       "    </tr>\n",
       "    <tr>\n",
       "      <th>501</th>\n",
       "      <td>84</td>\n",
       "      <td>72</td>\n",
       "      <td>32</td>\n",
       "      <td>0</td>\n",
       "      <td>37.2</td>\n",
       "      <td>0.267</td>\n",
       "      <td>28</td>\n",
       "    </tr>\n",
       "    <tr>\n",
       "      <th>392</th>\n",
       "      <td>131</td>\n",
       "      <td>64</td>\n",
       "      <td>14</td>\n",
       "      <td>415</td>\n",
       "      <td>23.7</td>\n",
       "      <td>0.389</td>\n",
       "      <td>21</td>\n",
       "    </tr>\n",
       "    <tr>\n",
       "      <th>367</th>\n",
       "      <td>101</td>\n",
       "      <td>64</td>\n",
       "      <td>17</td>\n",
       "      <td>0</td>\n",
       "      <td>21.0</td>\n",
       "      <td>0.252</td>\n",
       "      <td>21</td>\n",
       "    </tr>\n",
       "  </tbody>\n",
       "</table>\n",
       "<p>192 rows × 7 columns</p>\n",
       "</div>"
      ],
      "text/plain": [
       "     Glucose  BloodPressure  SkinThickness  Insulin   BMI  \\\n",
       "118       97             60             23        0  28.2   \n",
       "132      170             64             37      225  34.5   \n",
       "3        150             66             23       94  28.1   \n",
       "693      129             68             49      125  38.5   \n",
       "654      106             70             28      135  34.2   \n",
       "..       ...            ...            ...      ...   ...   \n",
       "427      181             64             30      180  34.1   \n",
       "135      125             60             20      140  33.8   \n",
       "501       84             72             32        0  37.2   \n",
       "392      131             64             14      415  23.7   \n",
       "367      101             64             17        0  21.0   \n",
       "\n",
       "     DiabetesPedigreeFunction  Age  \n",
       "118                     0.443   22  \n",
       "132                     0.356   30  \n",
       "3                       0.167   21  \n",
       "693                     0.439   43  \n",
       "654                     0.142   22  \n",
       "..                        ...  ...  \n",
       "427                     0.328   38  \n",
       "135                     0.088   31  \n",
       "501                     0.267   28  \n",
       "392                     0.389   21  \n",
       "367                     0.252   21  \n",
       "\n",
       "[192 rows x 7 columns]"
      ]
     },
     "execution_count": 13,
     "metadata": {},
     "output_type": "execute_result"
    }
   ],
   "source": [
    "x_test"
   ]
  },
  {
   "cell_type": "code",
   "execution_count": 14,
   "id": "0b65737e",
   "metadata": {},
   "outputs": [
    {
     "data": {
      "text/plain": [
       "610    0\n",
       "681    1\n",
       "706    1\n",
       "281    0\n",
       "625    0\n",
       "      ..\n",
       "214    1\n",
       "137    0\n",
       "645    0\n",
       "17     1\n",
       "746    1\n",
       "Name: Outcome, Length: 576, dtype: int64"
      ]
     },
     "execution_count": 14,
     "metadata": {},
     "output_type": "execute_result"
    }
   ],
   "source": [
    "y_train"
   ]
  },
  {
   "cell_type": "code",
   "execution_count": 15,
   "id": "2421356a",
   "metadata": {},
   "outputs": [
    {
     "data": {
      "text/plain": [
       "118    0\n",
       "132    1\n",
       "3      0\n",
       "693    1\n",
       "654    0\n",
       "      ..\n",
       "427    1\n",
       "135    0\n",
       "501    0\n",
       "392    0\n",
       "367    0\n",
       "Name: Outcome, Length: 192, dtype: int64"
      ]
     },
     "execution_count": 15,
     "metadata": {},
     "output_type": "execute_result"
    }
   ],
   "source": [
    "y_test"
   ]
  },
  {
   "cell_type": "code",
   "execution_count": 16,
   "id": "e1ef8338",
   "metadata": {},
   "outputs": [
    {
     "data": {
      "text/plain": [
       "0    500\n",
       "1    268\n",
       "Name: Outcome, dtype: int64"
      ]
     },
     "execution_count": 16,
     "metadata": {},
     "output_type": "execute_result"
    }
   ],
   "source": [
    "y.value_counts()"
   ]
  },
  {
   "cell_type": "code",
   "execution_count": 17,
   "id": "90492d83",
   "metadata": {},
   "outputs": [
    {
     "data": {
      "text/plain": [
       "0    375\n",
       "1    201\n",
       "Name: Outcome, dtype: int64"
      ]
     },
     "execution_count": 17,
     "metadata": {},
     "output_type": "execute_result"
    }
   ],
   "source": [
    "y_train.value_counts()"
   ]
  },
  {
   "cell_type": "code",
   "execution_count": 18,
   "id": "92947afa",
   "metadata": {},
   "outputs": [
    {
     "data": {
      "text/plain": [
       "0    125\n",
       "1     67\n",
       "Name: Outcome, dtype: int64"
      ]
     },
     "execution_count": 18,
     "metadata": {},
     "output_type": "execute_result"
    }
   ],
   "source": [
    "y_test.value_counts()"
   ]
  },
  {
   "cell_type": "markdown",
   "id": "15132073",
   "metadata": {},
   "source": [
    "### 7.2 Creating instance "
   ]
  },
  {
   "cell_type": "code",
   "execution_count": 19,
   "id": "b8c335b3",
   "metadata": {},
   "outputs": [
    {
     "data": {
      "text/html": [
       "<style>#sk-container-id-1 {color: black;background-color: white;}#sk-container-id-1 pre{padding: 0;}#sk-container-id-1 div.sk-toggleable {background-color: white;}#sk-container-id-1 label.sk-toggleable__label {cursor: pointer;display: block;width: 100%;margin-bottom: 0;padding: 0.3em;box-sizing: border-box;text-align: center;}#sk-container-id-1 label.sk-toggleable__label-arrow:before {content: \"▸\";float: left;margin-right: 0.25em;color: #696969;}#sk-container-id-1 label.sk-toggleable__label-arrow:hover:before {color: black;}#sk-container-id-1 div.sk-estimator:hover label.sk-toggleable__label-arrow:before {color: black;}#sk-container-id-1 div.sk-toggleable__content {max-height: 0;max-width: 0;overflow: hidden;text-align: left;background-color: #f0f8ff;}#sk-container-id-1 div.sk-toggleable__content pre {margin: 0.2em;color: black;border-radius: 0.25em;background-color: #f0f8ff;}#sk-container-id-1 input.sk-toggleable__control:checked~div.sk-toggleable__content {max-height: 200px;max-width: 100%;overflow: auto;}#sk-container-id-1 input.sk-toggleable__control:checked~label.sk-toggleable__label-arrow:before {content: \"▾\";}#sk-container-id-1 div.sk-estimator input.sk-toggleable__control:checked~label.sk-toggleable__label {background-color: #d4ebff;}#sk-container-id-1 div.sk-label input.sk-toggleable__control:checked~label.sk-toggleable__label {background-color: #d4ebff;}#sk-container-id-1 input.sk-hidden--visually {border: 0;clip: rect(1px 1px 1px 1px);clip: rect(1px, 1px, 1px, 1px);height: 1px;margin: -1px;overflow: hidden;padding: 0;position: absolute;width: 1px;}#sk-container-id-1 div.sk-estimator {font-family: monospace;background-color: #f0f8ff;border: 1px dotted black;border-radius: 0.25em;box-sizing: border-box;margin-bottom: 0.5em;}#sk-container-id-1 div.sk-estimator:hover {background-color: #d4ebff;}#sk-container-id-1 div.sk-parallel-item::after {content: \"\";width: 100%;border-bottom: 1px solid gray;flex-grow: 1;}#sk-container-id-1 div.sk-label:hover label.sk-toggleable__label {background-color: #d4ebff;}#sk-container-id-1 div.sk-serial::before {content: \"\";position: absolute;border-left: 1px solid gray;box-sizing: border-box;top: 0;bottom: 0;left: 50%;z-index: 0;}#sk-container-id-1 div.sk-serial {display: flex;flex-direction: column;align-items: center;background-color: white;padding-right: 0.2em;padding-left: 0.2em;position: relative;}#sk-container-id-1 div.sk-item {position: relative;z-index: 1;}#sk-container-id-1 div.sk-parallel {display: flex;align-items: stretch;justify-content: center;background-color: white;position: relative;}#sk-container-id-1 div.sk-item::before, #sk-container-id-1 div.sk-parallel-item::before {content: \"\";position: absolute;border-left: 1px solid gray;box-sizing: border-box;top: 0;bottom: 0;left: 50%;z-index: -1;}#sk-container-id-1 div.sk-parallel-item {display: flex;flex-direction: column;z-index: 1;position: relative;background-color: white;}#sk-container-id-1 div.sk-parallel-item:first-child::after {align-self: flex-end;width: 50%;}#sk-container-id-1 div.sk-parallel-item:last-child::after {align-self: flex-start;width: 50%;}#sk-container-id-1 div.sk-parallel-item:only-child::after {width: 0;}#sk-container-id-1 div.sk-dashed-wrapped {border: 1px dashed gray;margin: 0 0.4em 0.5em 0.4em;box-sizing: border-box;padding-bottom: 0.4em;background-color: white;}#sk-container-id-1 div.sk-label label {font-family: monospace;font-weight: bold;display: inline-block;line-height: 1.2em;}#sk-container-id-1 div.sk-label-container {text-align: center;}#sk-container-id-1 div.sk-container {/* jupyter's `normalize.less` sets `[hidden] { display: none; }` but bootstrap.min.css set `[hidden] { display: none !important; }` so we also need the `!important` here to be able to override the default hidden behavior on the sphinx rendered scikit-learn.org. See: https://github.com/scikit-learn/scikit-learn/issues/21755 */display: inline-block !important;position: relative;}#sk-container-id-1 div.sk-text-repr-fallback {display: none;}</style><div id=\"sk-container-id-1\" class=\"sk-top-container\"><div class=\"sk-text-repr-fallback\"><pre>LogisticRegression()</pre><b>In a Jupyter environment, please rerun this cell to show the HTML representation or trust the notebook. <br />On GitHub, the HTML representation is unable to render, please try loading this page with nbviewer.org.</b></div><div class=\"sk-container\" hidden><div class=\"sk-item\"><div class=\"sk-estimator sk-toggleable\"><input class=\"sk-toggleable__control sk-hidden--visually\" id=\"sk-estimator-id-1\" type=\"checkbox\" checked><label for=\"sk-estimator-id-1\" class=\"sk-toggleable__label sk-toggleable__label-arrow\">LogisticRegression</label><div class=\"sk-toggleable__content\"><pre>LogisticRegression()</pre></div></div></div></div></div>"
      ],
      "text/plain": [
       "LogisticRegression()"
      ]
     },
     "execution_count": 19,
     "metadata": {},
     "output_type": "execute_result"
    }
   ],
   "source": [
    "# Create Instance\n",
    "model = LogisticRegression()\n",
    "model.fit(x_train, y_train)"
   ]
  },
  {
   "cell_type": "code",
   "execution_count": 22,
   "id": "4fba576a",
   "metadata": {},
   "outputs": [
    {
     "data": {
      "text/plain": [
       "<sklearn.metrics._plot.confusion_matrix.ConfusionMatrixDisplay at 0x1f4a0419160>"
      ]
     },
     "execution_count": 22,
     "metadata": {},
     "output_type": "execute_result"
    },
    {
     "data": {
      "image/png": "[encoded data removed]",
      "text/plain": [
       "<Figure size 432x288 with 2 Axes>"
      ]
     },
     "metadata": {
      "needs_background": "light"
     },
     "output_type": "display_data"
    }
   ],
   "source": [
    "# Training Data\n",
    "plot_confusion_matrix(model, x_train, y_train)"
   ]
  },
  {
   "cell_type": "code",
   "execution_count": 23,
   "id": "f9dd9446",
   "metadata": {},
   "outputs": [
    {
     "data": {
      "text/plain": [
       "<sklearn.metrics._plot.confusion_matrix.ConfusionMatrixDisplay at 0x1f4a262bbb0>"
      ]
     },
     "execution_count": 23,
     "metadata": {},
     "output_type": "execute_result"
    },
    {
     "data": {
      "image/png": "[encoded data removed]",
      "text/plain": [
       "<Figure size 432x288 with 2 Axes>"
      ]
     },
     "metadata": {
      "needs_background": "light"
     },
     "output_type": "display_data"
    }
   ],
   "source": [
    "# Testing Data\n",
    "plot_confusion_matrix(model, x_test, y_test)"
   ]
  },
  {
   "cell_type": "code",
   "execution_count": 24,
   "id": "3868f70c",
   "metadata": {},
   "outputs": [
    {
     "data": {
      "text/plain": [
       "0.7881944444444444"
      ]
     },
     "execution_count": 24,
     "metadata": {},
     "output_type": "execute_result"
    }
   ],
   "source": [
    "# Training Accuracy\n",
    "model.score(x_train, y_train)"
   ]
  },
  {
   "cell_type": "code",
   "execution_count": 25,
   "id": "4f763f3d",
   "metadata": {},
   "outputs": [
    {
     "data": {
      "text/plain": [
       "0.7552083333333334"
      ]
     },
     "execution_count": 25,
     "metadata": {},
     "output_type": "execute_result"
    }
   ],
   "source": [
    "# Testing Accuracy\n",
    "model.score(x_test, y_test)"
   ]
  },
  {
   "cell_type": "markdown",
   "id": "1bf32a4e",
   "metadata": {},
   "source": [
    "# 8. Model Evaluation"
   ]
  },
  {
   "cell_type": "code",
   "execution_count": 26,
   "id": "b8774a82",
   "metadata": {},
   "outputs": [
    {
     "data": {
      "text/plain": [
       "array([0, 1, 0, 1, 0, 0, 1, 1, 1, 0, 1, 0, 0, 1, 0, 0, 1, 0, 1, 0, 0, 0,\n",
       "       0, 0, 0, 1, 1, 0, 0, 0, 0, 1, 0, 1, 0, 0, 0, 0, 0, 1, 0, 1, 0, 1,\n",
       "       0, 1, 1, 0, 0, 0, 1, 0, 0, 1, 0, 0, 1, 1, 1, 0, 0, 0, 0, 0, 0, 0,\n",
       "       0, 0, 0, 0, 0, 0, 0, 1, 1, 0, 0, 0, 0, 1, 0, 0, 0, 0, 0, 0, 0, 0,\n",
       "       0, 0, 0, 1, 0, 0, 1, 0, 0, 1, 0, 0, 1, 0, 1, 0, 0, 0, 0, 1, 1, 0,\n",
       "       0, 1, 0, 0, 0, 0, 0, 0, 0, 1, 0, 0, 0, 1, 1, 1, 0, 1, 0, 0, 0, 0,\n",
       "       0, 1, 0, 0, 1, 0, 1, 0, 1, 0, 1, 0, 1, 0, 0, 0, 1, 0, 0, 0, 0, 0,\n",
       "       0, 1, 0, 0, 0, 0, 0, 0, 0, 0, 0, 1, 1, 0, 0, 1, 0, 0, 0, 0, 1, 0,\n",
       "       0, 0, 0, 0, 0, 0, 0, 1, 0, 1, 0, 1, 0, 0, 0, 0], dtype=int64)"
      ]
     },
     "execution_count": 26,
     "metadata": {},
     "output_type": "execute_result"
    }
   ],
   "source": [
    "# prediction\n",
    "y_pred = model.predict(x_test)\n",
    "y_pred"
   ]
  },
  {
   "cell_type": "code",
   "execution_count": 27,
   "id": "e073cd62",
   "metadata": {},
   "outputs": [
    {
     "data": {
      "text/plain": [
       "array([[0.91636268, 0.08363732],\n",
       "       [0.32428013, 0.67571987],\n",
       "       [0.74017864, 0.25982136],\n",
       "       [0.46076793, 0.53923207],\n",
       "       [0.87524548, 0.12475452],\n",
       "       [0.9781938 , 0.0218062 ],\n",
       "       [0.10279795, 0.89720205],\n",
       "       [0.19030759, 0.80969241],\n",
       "       [0.05624062, 0.94375938],\n",
       "       [0.99751194, 0.00248806],\n",
       "       [0.1577149 , 0.8422851 ],\n",
       "       [0.54536833, 0.45463167],\n",
       "       [0.91238787, 0.08761213],\n",
       "       [0.28324099, 0.71675901],\n",
       "       [0.57008621, 0.42991379],\n",
       "       [0.87831789, 0.12168211],\n",
       "       [0.48520573, 0.51479427],\n",
       "       [0.93661324, 0.06338676],\n",
       "       [0.45232158, 0.54767842],\n",
       "       [0.89634949, 0.10365051],\n",
       "       [0.93461294, 0.06538706],\n",
       "       [0.80408353, 0.19591647],\n",
       "       [0.84465043, 0.15534957],\n",
       "       [0.81671133, 0.18328867],\n",
       "       [0.87760845, 0.12239155],\n",
       "       [0.22831291, 0.77168709],\n",
       "       [0.36399675, 0.63600325],\n",
       "       [0.94689242, 0.05310758],\n",
       "       [0.63962909, 0.36037091],\n",
       "       [0.61420653, 0.38579347],\n",
       "       [0.72168566, 0.27831434],\n",
       "       [0.26450898, 0.73549102],\n",
       "       [0.70026612, 0.29973388],\n",
       "       [0.4012552 , 0.5987448 ],\n",
       "       [0.56470812, 0.43529188],\n",
       "       [0.58200803, 0.41799197],\n",
       "       [0.86289487, 0.13710513],\n",
       "       [0.82452719, 0.17547281],\n",
       "       [0.88947821, 0.11052179],\n",
       "       [0.44227978, 0.55772022],\n",
       "       [0.91333759, 0.08666241],\n",
       "       [0.20202495, 0.79797505],\n",
       "       [0.68180653, 0.31819347],\n",
       "       [0.28624136, 0.71375864],\n",
       "       [0.90275353, 0.09724647],\n",
       "       [0.44267276, 0.55732724],\n",
       "       [0.1760771 , 0.8239229 ],\n",
       "       [0.92035091, 0.07964909],\n",
       "       [0.82447702, 0.17552298],\n",
       "       [0.80672006, 0.19327994],\n",
       "       [0.20723692, 0.79276308],\n",
       "       [0.6487896 , 0.3512104 ],\n",
       "       [0.78242348, 0.21757652],\n",
       "       [0.33192759, 0.66807241],\n",
       "       [0.83305928, 0.16694072],\n",
       "       [0.5141285 , 0.4858715 ],\n",
       "       [0.42568083, 0.57431917],\n",
       "       [0.13396617, 0.86603383],\n",
       "       [0.40058124, 0.59941876],\n",
       "       [0.932697  , 0.067303  ],\n",
       "       [0.89981368, 0.10018632],\n",
       "       [0.93407322, 0.06592678],\n",
       "       [0.66205863, 0.33794137],\n",
       "       [0.85060238, 0.14939762],\n",
       "       [0.86437809, 0.13562191],\n",
       "       [0.6914945 , 0.3085055 ],\n",
       "       [0.71957078, 0.28042922],\n",
       "       [0.66283399, 0.33716601],\n",
       "       [0.94153855, 0.05846145],\n",
       "       [0.58775063, 0.41224937],\n",
       "       [0.93832453, 0.06167547],\n",
       "       [0.94456159, 0.05543841],\n",
       "       [0.91017677, 0.08982323],\n",
       "       [0.29504307, 0.70495693],\n",
       "       [0.38451887, 0.61548113],\n",
       "       [0.75415358, 0.24584642],\n",
       "       [0.74023847, 0.25976153],\n",
       "       [0.686444  , 0.313556  ],\n",
       "       [0.91071528, 0.08928472],\n",
       "       [0.46427242, 0.53572758],\n",
       "       [0.74246871, 0.25753129],\n",
       "       [0.93735558, 0.06264442],\n",
       "       [0.72155165, 0.27844835],\n",
       "       [0.91058316, 0.08941684],\n",
       "       [0.95997304, 0.04002696],\n",
       "       [0.84012203, 0.15987797],\n",
       "       [0.99564995, 0.00435005],\n",
       "       [0.96771468, 0.03228532],\n",
       "       [0.86611283, 0.13388717],\n",
       "       [0.56356836, 0.43643164],\n",
       "       [0.58477926, 0.41522074],\n",
       "       [0.12208226, 0.87791774],\n",
       "       [0.81875314, 0.18124686],\n",
       "       [0.77812548, 0.22187452],\n",
       "       [0.34453404, 0.65546596],\n",
       "       [0.70695055, 0.29304945],\n",
       "       [0.99266204, 0.00733796],\n",
       "       [0.16840132, 0.83159868],\n",
       "       [0.9003201 , 0.0996799 ],\n",
       "       [0.97449413, 0.02550587],\n",
       "       [0.3753533 , 0.6246467 ],\n",
       "       [0.88427894, 0.11572106],\n",
       "       [0.14910919, 0.85089081],\n",
       "       [0.73162225, 0.26837775],\n",
       "       [0.83288546, 0.16711454],\n",
       "       [0.83815003, 0.16184997],\n",
       "       [0.96364282, 0.03635718],\n",
       "       [0.16458695, 0.83541305],\n",
       "       [0.32089765, 0.67910235],\n",
       "       [0.68866957, 0.31133043],\n",
       "       [0.93080735, 0.06919265],\n",
       "       [0.26765437, 0.73234563],\n",
       "       [0.77821265, 0.22178735],\n",
       "       [0.6603044 , 0.3396956 ],\n",
       "       [0.91716966, 0.08283034],\n",
       "       [0.91447934, 0.08552066],\n",
       "       [0.89293984, 0.10706016],\n",
       "       [0.71631146, 0.28368854],\n",
       "       [0.89712856, 0.10287144],\n",
       "       [0.37930412, 0.62069588],\n",
       "       [0.86370124, 0.13629876],\n",
       "       [0.55360167, 0.44639833],\n",
       "       [0.76623372, 0.23376628],\n",
       "       [0.11637311, 0.88362689],\n",
       "       [0.21398443, 0.78601557],\n",
       "       [0.39519857, 0.60480143],\n",
       "       [0.91542823, 0.08457177],\n",
       "       [0.33580522, 0.66419478],\n",
       "       [0.8585953 , 0.1414047 ],\n",
       "       [0.81646251, 0.18353749],\n",
       "       [0.67592798, 0.32407202],\n",
       "       [0.78787911, 0.21212089],\n",
       "       [0.94950143, 0.05049857],\n",
       "       [0.22358859, 0.77641141],\n",
       "       [0.85313457, 0.14686543],\n",
       "       [0.71729266, 0.28270734],\n",
       "       [0.19938025, 0.80061975],\n",
       "       [0.67404674, 0.32595326],\n",
       "       [0.46498155, 0.53501845],\n",
       "       [0.79865283, 0.20134717],\n",
       "       [0.47177726, 0.52822274],\n",
       "       [0.81827927, 0.18172073],\n",
       "       [0.1942937 , 0.8057063 ],\n",
       "       [0.87809291, 0.12190709],\n",
       "       [0.34344758, 0.65655242],\n",
       "       [0.75651978, 0.24348022],\n",
       "       [0.88954936, 0.11045064],\n",
       "       [0.96216935, 0.03783065],\n",
       "       [0.48412014, 0.51587986],\n",
       "       [0.80725092, 0.19274908],\n",
       "       [0.69453968, 0.30546032],\n",
       "       [0.77111858, 0.22888142],\n",
       "       [0.53422487, 0.46577513],\n",
       "       [0.89874084, 0.10125916],\n",
       "       [0.68574252, 0.31425748],\n",
       "       [0.339309  , 0.660691  ],\n",
       "       [0.71814372, 0.28185628],\n",
       "       [0.93512941, 0.06487059],\n",
       "       [0.74062742, 0.25937258],\n",
       "       [0.71369096, 0.28630904],\n",
       "       [0.98167158, 0.01832842],\n",
       "       [0.58913091, 0.41086909],\n",
       "       [0.81450806, 0.18549194],\n",
       "       [0.67702286, 0.32297714],\n",
       "       [0.69537778, 0.30462222],\n",
       "       [0.21805886, 0.78194114],\n",
       "       [0.01772484, 0.98227516],\n",
       "       [0.96202549, 0.03797451],\n",
       "       [0.50785654, 0.49214346],\n",
       "       [0.23168556, 0.76831444],\n",
       "       [0.96519475, 0.03480525],\n",
       "       [0.887678  , 0.112322  ],\n",
       "       [0.78336975, 0.21663025],\n",
       "       [0.74424869, 0.25575131],\n",
       "       [0.48183176, 0.51816824],\n",
       "       [0.54918062, 0.45081938],\n",
       "       [0.84594806, 0.15405194],\n",
       "       [0.8846397 , 0.1153603 ],\n",
       "       [0.66581024, 0.33418976],\n",
       "       [0.51571341, 0.48428659],\n",
       "       [0.80793575, 0.19206425],\n",
       "       [0.98607564, 0.01392436],\n",
       "       [0.9497881 , 0.0502119 ],\n",
       "       [0.49189451, 0.50810549],\n",
       "       [0.83288018, 0.16711982],\n",
       "       [0.21207992, 0.78792008],\n",
       "       [0.92394121, 0.07605879],\n",
       "       [0.2069783 , 0.7930217 ],\n",
       "       [0.70917642, 0.29082358],\n",
       "       [0.89529174, 0.10470826],\n",
       "       [0.83506799, 0.16493201],\n",
       "       [0.9612592 , 0.0387408 ]])"
      ]
     },
     "execution_count": 27,
     "metadata": {},
     "output_type": "execute_result"
    }
   ],
   "source": [
    "# prediction probability\n",
    "y_pred_proba = model.predict_proba(x_test)\n",
    "y_pred_proba"
   ]
  },
  {
   "cell_type": "code",
   "execution_count": 28,
   "id": "1b5ea9b3",
   "metadata": {},
   "outputs": [
    {
     "name": "stdout",
     "output_type": "stream",
     "text": [
      "Confusion Matrix:\n",
      " [[108  17]\n",
      " [ 30  37]]\n",
      "*********************************************\n",
      "Accuracy Score: 0.7552083333333334\n",
      "*********************************************\n",
      "Classification report:\n",
      "               precision    recall  f1-score   support\n",
      "\n",
      "           0       0.78      0.86      0.82       125\n",
      "           1       0.69      0.55      0.61        67\n",
      "\n",
      "    accuracy                           0.76       192\n",
      "   macro avg       0.73      0.71      0.72       192\n",
      "weighted avg       0.75      0.76      0.75       192\n",
      "\n"
     ]
    }
   ],
   "source": [
    "# Testing data\n",
    "cnf_matrix = confusion_matrix(y_test, y_pred)\n",
    "print(\"Confusion Matrix:\\n\",cnf_matrix)\n",
    "\n",
    "print(\"*\"*45)\n",
    "accuracy = accuracy_score(y_test, y_pred)\n",
    "print(\"Accuracy Score:\",accuracy)\n",
    "print(\"*\"*45)\n",
    "\n",
    "clf_report = classification_report(y_test, y_pred)\n",
    "print(\"Classification report:\\n\",clf_report)"
   ]
  },
  {
   "cell_type": "code",
   "execution_count": 29,
   "id": "23417ccc",
   "metadata": {},
   "outputs": [
    {
     "name": "stdout",
     "output_type": "stream",
     "text": [
      "Confusion Matrix:\n",
      " [[336  39]\n",
      " [ 83 118]]\n",
      "*********************************************\n",
      "Accuracy Score: 0.7881944444444444\n",
      "*********************************************\n",
      "Classification report:\n",
      "               precision    recall  f1-score   support\n",
      "\n",
      "           0       0.80      0.90      0.85       375\n",
      "           1       0.75      0.59      0.66       201\n",
      "\n",
      "    accuracy                           0.79       576\n",
      "   macro avg       0.78      0.74      0.75       576\n",
      "weighted avg       0.78      0.79      0.78       576\n",
      "\n"
     ]
    }
   ],
   "source": [
    "# Testing data\n",
    "cnf_matrix = confusion_matrix(y_test, y_pred)\n",
    "print(\"Confusion Matrix:\\n\",cnf_matrix)\n",
    "\n",
    "print(\"*\"*45)\n",
    "accuracy = accuracy_score(y_test, y_pred)\n",
    "print(\"Accuracy Score:\",accuracy)\n",
    "print(\"*\"*45)\n",
    "\n",
    "clf_report = classification_report(y_test, y_pred)\n",
    "print(\"Classification report:\\n\",clf_report)"
   ]
  },
  {
   "cell_type": "markdown",
   "id": "1e89d69c",
   "metadata": {},
   "source": [
    "# 9.AUC-ROC Curve"
   ]
  },
  {
   "cell_type": "code",
   "execution_count": 32,
   "id": "aafb59f8",
   "metadata": {},
   "outputs": [
    {
     "data": {
      "text/plain": [
       "array([1.99272552, 0.99272552, 0.97542289, 0.96591652, 0.95922174,\n",
       "       0.91750859, 0.91653835, 0.90790653, 0.89684045, 0.81404226,\n",
       "       0.80569521, 0.79994734, 0.7972925 , 0.77792583, 0.77731446,\n",
       "       0.772829  , 0.7697499 , 0.76622723, 0.76444427, 0.76339967,\n",
       "       0.75949176, 0.75692479, 0.7506523 , 0.74135653, 0.73190356,\n",
       "       0.72943528, 0.72934919, 0.71544861, 0.71069172, 0.69338437,\n",
       "       0.68828441, 0.68281595, 0.67944581, 0.67216837, 0.66874109,\n",
       "       0.6656969 , 0.66308985, 0.64849259, 0.64827151, 0.63825981,\n",
       "       0.63457558, 0.6290556 , 0.61662191, 0.61119773, 0.60701154,\n",
       "       0.59989203, 0.59164584, 0.58768307, 0.58485243, 0.58039752,\n",
       "       0.5759626 , 0.55404803, 0.55322821, 0.53787721, 0.53663669,\n",
       "       0.53061606, 0.5292855 , 0.51346379, 0.51140977, 0.5101787 ,\n",
       "       0.50621615, 0.50350169, 0.49851434, 0.49777746, 0.49324983,\n",
       "       0.49219427, 0.48504663, 0.48206974, 0.47928013, 0.47685856,\n",
       "       0.47639109, 0.46303398, 0.45996873, 0.4527099 , 0.44428754,\n",
       "       0.44369017, 0.44146633, 0.43870907, 0.43863709, 0.43632763,\n",
       "       0.42824606, 0.42730877, 0.42596779, 0.41980881, 0.41963359,\n",
       "       0.40957667, 0.40778126, 0.39544993, 0.39429202, 0.39418332,\n",
       "       0.39159908, 0.38866448, 0.38813423, 0.38798333, 0.37684956,\n",
       "       0.37545765, 0.37127351, 0.3679924 , 0.35503539, 0.35317655,\n",
       "       0.35094203, 0.35086284, 0.35039077, 0.350014  , 0.34710698,\n",
       "       0.3441592 , 0.32156519, 0.32076554, 0.31902088, 0.31075652,\n",
       "       0.31052521, 0.30211826, 0.29574224, 0.29418416, 0.29262605,\n",
       "       0.29095374, 0.29055849, 0.2900754 , 0.28760787, 0.28528003,\n",
       "       0.28218929, 0.28116311, 0.27691161, 0.2723203 , 0.26713467,\n",
       "       0.26622826, 0.25690643, 0.25575095, 0.25547009, 0.25501549,\n",
       "       0.25307682, 0.25275317, 0.2475721 , 0.24484097, 0.24161241,\n",
       "       0.23861778, 0.23515008, 0.23449568, 0.23208489, 0.2278722 ,\n",
       "       0.22365272, 0.22088951, 0.21819044, 0.21654709, 0.21224794,\n",
       "       0.21209719, 0.21148948, 0.21011221, 0.20644184, 0.20603456,\n",
       "       0.2007096 , 0.20021417, 0.19674324, 0.19671977, 0.17039539,\n",
       "       0.17014972, 0.16959006, 0.16938184, 0.15989055, 0.15923724,\n",
       "       0.1504874 , 0.14875196, 0.1367934 , 0.13666183, 0.13046201,\n",
       "       0.12857042, 0.1253743 , 0.12489703, 0.11550831, 0.11537806,\n",
       "       0.11325219, 0.11294731, 0.10306689, 0.10245438, 0.09619339,\n",
       "       0.09590768, 0.03420691, 0.03255404, 0.02377286, 0.02273125,\n",
       "       0.01502948, 0.01455637, 0.00259798])"
      ]
     },
     "execution_count": 32,
     "metadata": {},
     "output_type": "execute_result"
    }
   ],
   "source": [
    "# prediction probability\n",
    "y_pred_proba = model.predict_proba(x_train)\n",
    "y_pred_proba[:,1]  # We are getting cklass 1 probability\n",
    "\n",
    "fpr, tpr, thresh = roc_curve(y_train, y_pred_proba[:,1])\n",
    "thresh"
   ]
  },
  {
   "cell_type": "code",
   "execution_count": 33,
   "id": "45006896",
   "metadata": {},
   "outputs": [
    {
     "data": {
      "text/plain": [
       "Text(0.5, 1.0, 'Reciever Operating Characteristics')"
      ]
     },
     "execution_count": 33,
     "metadata": {},
     "output_type": "execute_result"
    },
    {
     "data": {
      "image/png": "[encoded data removed]",
      "text/plain": [
       "<Figure size 432x288 with 1 Axes>"
      ]
     },
     "metadata": {
      "needs_background": "light"
     },
     "output_type": "display_data"
    }
   ],
   "source": [
    "# Plot AUC-ROC\n",
    "plt.plot(fpr,tpr)\n",
    "plt.xlabel(\"False Positive Rate -->\")\n",
    "plt.ylabel(\"True Positive Rate -->\")\n",
    "plt.title(\"Reciever Operating Characteristics\")"
   ]
  },
  {
   "cell_type": "markdown",
   "id": "b996fa3b",
   "metadata": {},
   "source": [
    "# 10.testing on single row"
   ]
  },
  {
   "cell_type": "code",
   "execution_count": 34,
   "id": "756d6218",
   "metadata": {},
   "outputs": [
    {
     "data": {
      "text/plain": [
       "Index(['Glucose', 'BloodPressure', 'SkinThickness', 'Insulin', 'BMI',\n",
       "       'DiabetesPedigreeFunction', 'Age'],\n",
       "      dtype='object')"
      ]
     },
     "execution_count": 34,
     "metadata": {},
     "output_type": "execute_result"
    }
   ],
   "source": [
    "columns_names=x.columns\n",
    "columns_names"
   ]
  },
  {
   "cell_type": "code",
   "execution_count": 37,
   "id": "b9004d11",
   "metadata": {},
   "outputs": [
    {
     "data": {
      "text/plain": [
       "{'columns': ['Glucose',\n",
       "  'BloodPressure',\n",
       "  'SkinThickness',\n",
       "  'Insulin',\n",
       "  'BMI',\n",
       "  'DiabetesPedigreeFunction',\n",
       "  'Age']}"
      ]
     },
     "execution_count": 37,
     "metadata": {},
     "output_type": "execute_result"
    }
   ],
   "source": [
    "project_data = {\"columns\":list(x.columns)}\n",
    "project_data"
   ]
  },
  {
   "cell_type": "code",
   "execution_count": 39,
   "id": "f8c71f52",
   "metadata": {},
   "outputs": [],
   "source": [
    "import json\n",
    "with open (\"diabetics.json\",\"w\") as f:\n",
    "    json.dump(project_data,f)"
   ]
  },
  {
   "cell_type": "code",
   "execution_count": 41,
   "id": "688deff3",
   "metadata": {},
   "outputs": [],
   "source": [
    "import pickle\n",
    "with open (\"model.pkl\",\"wb\") as f:\n",
    "    pickle.dump(model,f)"
   ]
  },
  {
   "cell_type": "code",
   "execution_count": 35,
   "id": "d4e03f7d",
   "metadata": {},
   "outputs": [
    {
     "data": {
      "text/html": [
       "<div>\n",
       "<style scoped>\n",
       "    .dataframe tbody tr th:only-of-type {\n",
       "        vertical-align: middle;\n",
       "    }\n",
       "\n",
       "    .dataframe tbody tr th {\n",
       "        vertical-align: top;\n",
       "    }\n",
       "\n",
       "    .dataframe thead th {\n",
       "        text-align: right;\n",
       "    }\n",
       "</style>\n",
       "<table border=\"1\" class=\"dataframe\">\n",
       "  <thead>\n",
       "    <tr style=\"text-align: right;\">\n",
       "      <th></th>\n",
       "      <th>0</th>\n",
       "    </tr>\n",
       "  </thead>\n",
       "  <tbody>\n",
       "    <tr>\n",
       "      <th>Glucose</th>\n",
       "      <td>148.000</td>\n",
       "    </tr>\n",
       "    <tr>\n",
       "      <th>BloodPressure</th>\n",
       "      <td>50.000</td>\n",
       "    </tr>\n",
       "    <tr>\n",
       "      <th>SkinThickness</th>\n",
       "      <td>35.000</td>\n",
       "    </tr>\n",
       "    <tr>\n",
       "      <th>Insulin</th>\n",
       "      <td>0.000</td>\n",
       "    </tr>\n",
       "    <tr>\n",
       "      <th>BMI</th>\n",
       "      <td>33.600</td>\n",
       "    </tr>\n",
       "    <tr>\n",
       "      <th>DiabetesPedigreeFunction</th>\n",
       "      <td>0.627</td>\n",
       "    </tr>\n",
       "    <tr>\n",
       "      <th>Age</th>\n",
       "      <td>50.000</td>\n",
       "    </tr>\n",
       "  </tbody>\n",
       "</table>\n",
       "</div>"
      ],
      "text/plain": [
       "                                0\n",
       "Glucose                   148.000\n",
       "BloodPressure              50.000\n",
       "SkinThickness              35.000\n",
       "Insulin                     0.000\n",
       "BMI                        33.600\n",
       "DiabetesPedigreeFunction    0.627\n",
       "Age                        50.000"
      ]
     },
     "execution_count": 35,
     "metadata": {},
     "output_type": "execute_result"
    }
   ],
   "source": [
    "x.head(1).T"
   ]
  },
  {
   "cell_type": "code",
   "execution_count": 38,
   "id": "2a61b25a",
   "metadata": {},
   "outputs": [],
   "source": [
    "Glucose=148.000\n",
    "BloodPressure=50.000\n",
    "SkinThickness=35.000\n",
    "Insulin=0.000\n",
    "BMI=33.600\n",
    "DiabetesPedigreeFunction=0.627\n",
    "Age=50.000\n",
    "\n",
    "# Outcome =?"
   ]
  },
  {
   "cell_type": "code",
   "execution_count": 43,
   "id": "2866bdc2",
   "metadata": {},
   "outputs": [
    {
     "data": {
      "text/plain": [
       "array([0., 0., 0., 0., 0., 0., 0.])"
      ]
     },
     "execution_count": 43,
     "metadata": {},
     "output_type": "execute_result"
    }
   ],
   "source": [
    "array=np.zeros(len(x.columns))\n",
    "array"
   ]
  },
  {
   "cell_type": "code",
   "execution_count": 44,
   "id": "a30f1362",
   "metadata": {},
   "outputs": [
    {
     "data": {
      "text/plain": [
       "array([148.   ,  50.   ,  35.   ,   0.   ,  33.6  ,   0.627,  50.   ])"
      ]
     },
     "execution_count": 44,
     "metadata": {},
     "output_type": "execute_result"
    }
   ],
   "source": [
    "array[0] = Glucose\n",
    "array[1] = BloodPressure\n",
    "array[2] = SkinThickness\n",
    "array[3] = Insulin\n",
    "array[4] = BMI\n",
    "array[5] = DiabetesPedigreeFunction\n",
    "array[6] = Age\n",
    "array"
   ]
  },
  {
   "cell_type": "code",
   "execution_count": null,
   "id": "56a12afc",
   "metadata": {},
   "outputs": [],
   "source": [
    "prediction=model.predict([array])[0]\n",
    "print()"
   ]
  }
 ],
 "metadata": {
  "kernelspec": {
   "display_name": "Python 3 (ipykernel)",
   "language": "python",
   "name": "python3"
  },
  "language_info": {
   "codemirror_mode": {
    "name": "ipython",
    "version": 3
   },
   "file_extension": ".py",
   "mimetype": "text/x-python",
   "name": "python",
   "nbconvert_exporter": "python",
   "pygments_lexer": "ipython3",
   "version": "3.9.12"
  }
 },
 "nbformat": 4,
 "nbformat_minor": 5
}
