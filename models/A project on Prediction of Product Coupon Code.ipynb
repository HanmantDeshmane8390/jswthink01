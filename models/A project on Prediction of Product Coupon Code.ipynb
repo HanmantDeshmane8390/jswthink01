{
 "cells": [
  {
   "cell_type": "markdown",
   "id": "264c0070",
   "metadata": {},
   "source": [
    "# A project on Prediction of Product Coupon Code whether is valid or invalid"
   ]
  },
  {
   "cell_type": "markdown",
   "id": "378a08a8",
   "metadata": {},
   "source": [
    "# Feature Details"
   ]
  },
  {
   "cell_type": "code",
   "execution_count": null,
   "id": "81395c28",
   "metadata": {},
   "outputs": [],
   "source": []
  },
  {
   "cell_type": "code",
   "execution_count": 1,
   "id": "28465bec",
   "metadata": {},
   "outputs": [],
   "source": [
    "#Importing Liabraries"
   ]
  },
  {
   "cell_type": "code",
   "execution_count": 2,
   "id": "46a56342",
   "metadata": {},
   "outputs": [],
   "source": [
    "\n",
    "#Basic and Numerical\n",
    "\n",
    "import pandas as pd\n",
    "import numpy as np\n",
    "import lazypredict\n",
    "from lazypredict.Supervised import LazyClassifier\n",
    "\n",
    "# visualization\n",
    "import matplotlib.pyplot as plt\n",
    "import seaborn as sns\n",
    "from sklearn.metrics import roc_curve\n",
    "from sklearn.linear_model import LogisticRegression\n",
    "from sklearn.neighbors import KNeighborsClassifier\n",
    "from sklearn.tree import DecisionTreeClassifier\n",
    "from sklearn.ensemble import AdaBoostClassifier,RandomForestClassifier\n",
    "\n",
    "\n",
    "from statsmodels.stats.outliers_influence import variance_inflation_factor\n",
    "from sklearn.model_selection import train_test_split,RandomizedSearchCV,GridSearchCV\n",
    "from sklearn.metrics import confusion_matrix,classification_report,accuracy_score\n",
    "from sklearn.metrics import precision_score,recall_score,f1_score\n",
    "from sklearn.metrics import plot_confusion_matrix\n",
    "\n",
    "from scipy.stats import shapiro, skew, kstest, normaltest\n",
    "\n",
    "\n",
    "from sklearn.preprocessing import MinMaxScaler, StandardScaler\n",
    "\n",
    "# To avoid warnings\n",
    "import warnings\n",
    "warnings.filterwarnings('ignore')\n",
    "\n"
   ]
  },
  {
   "cell_type": "markdown",
   "id": "4e1d48a7",
   "metadata": {},
   "source": [
    "# 1.Problem Statement"
   ]
  },
  {
   "cell_type": "markdown",
   "id": "b254f4d1",
   "metadata": {},
   "source": [
    "To identify whether the printed product coupan code is valid or invalid by using some important parameter"
   ]
  },
  {
   "cell_type": "code",
   "execution_count": 3,
   "id": "6c36219e",
   "metadata": {},
   "outputs": [],
   "source": [
    "test_accuracy_list=[]\n",
    "train_accuracy_list= []\n",
    "model_name_list =[]"
   ]
  },
  {
   "cell_type": "markdown",
   "id": "c449a65a",
   "metadata": {},
   "source": [
    "# 2.Data Gathering"
   ]
  },
  {
   "cell_type": "markdown",
   "id": "c17bd6ad",
   "metadata": {},
   "source": [
    "Data is provided by company side/client side in Excel sheet format"
   ]
  },
  {
   "cell_type": "code",
   "execution_count": 4,
   "id": "458b3579",
   "metadata": {},
   "outputs": [
    {
     "data": {
      "text/html": [
       "<div>\n",
       "<style scoped>\n",
       "    .dataframe tbody tr th:only-of-type {\n",
       "        vertical-align: middle;\n",
       "    }\n",
       "\n",
       "    .dataframe tbody tr th {\n",
       "        vertical-align: top;\n",
       "    }\n",
       "\n",
       "    .dataframe thead th {\n",
       "        text-align: right;\n",
       "    }\n",
       "</style>\n",
       "<table border=\"1\" class=\"dataframe\">\n",
       "  <thead>\n",
       "    <tr style=\"text-align: right;\">\n",
       "      <th></th>\n",
       "      <th>Manufacturing_Plant</th>\n",
       "      <th>Plant</th>\n",
       "      <th>Hub_Location</th>\n",
       "      <th>ASM</th>\n",
       "      <th>Brand</th>\n",
       "      <th>Surface</th>\n",
       "      <th>Pack</th>\n",
       "      <th>Price</th>\n",
       "      <th>Year</th>\n",
       "      <th>Awarded_points</th>\n",
       "      <th>Remark</th>\n",
       "    </tr>\n",
       "  </thead>\n",
       "  <tbody>\n",
       "    <tr>\n",
       "      <th>0</th>\n",
       "      <td>Bellary</td>\n",
       "      <td>One</td>\n",
       "      <td>Aurangabad</td>\n",
       "      <td>Rahul</td>\n",
       "      <td>ASI</td>\n",
       "      <td>INTERIOR</td>\n",
       "      <td>20</td>\n",
       "      <td>9140</td>\n",
       "      <td>2019</td>\n",
       "      <td>87.00</td>\n",
       "      <td>Yes</td>\n",
       "    </tr>\n",
       "    <tr>\n",
       "      <th>1</th>\n",
       "      <td>Bellary</td>\n",
       "      <td>One</td>\n",
       "      <td>Aurangabad</td>\n",
       "      <td>Rahul</td>\n",
       "      <td>ASI</td>\n",
       "      <td>INTERIOR</td>\n",
       "      <td>20</td>\n",
       "      <td>9140</td>\n",
       "      <td>2019</td>\n",
       "      <td>87.00</td>\n",
       "      <td>Yes</td>\n",
       "    </tr>\n",
       "    <tr>\n",
       "      <th>2</th>\n",
       "      <td>Bellary</td>\n",
       "      <td>One</td>\n",
       "      <td>Aurangabad</td>\n",
       "      <td>Rahul</td>\n",
       "      <td>ASI</td>\n",
       "      <td>INTERIOR</td>\n",
       "      <td>20</td>\n",
       "      <td>9140</td>\n",
       "      <td>2022</td>\n",
       "      <td>87.00</td>\n",
       "      <td>Yes</td>\n",
       "    </tr>\n",
       "    <tr>\n",
       "      <th>3</th>\n",
       "      <td>Bellary</td>\n",
       "      <td>One</td>\n",
       "      <td>Aurangabad</td>\n",
       "      <td>Rahul</td>\n",
       "      <td>ASI</td>\n",
       "      <td>INTERIOR</td>\n",
       "      <td>20</td>\n",
       "      <td>9140</td>\n",
       "      <td>2022</td>\n",
       "      <td>87.00</td>\n",
       "      <td>Yes</td>\n",
       "    </tr>\n",
       "    <tr>\n",
       "      <th>4</th>\n",
       "      <td>Bellary</td>\n",
       "      <td>One</td>\n",
       "      <td>Aurangabad</td>\n",
       "      <td>Rahul</td>\n",
       "      <td>ASI</td>\n",
       "      <td>INTERIOR</td>\n",
       "      <td>20</td>\n",
       "      <td>9140</td>\n",
       "      <td>2022</td>\n",
       "      <td>87.00</td>\n",
       "      <td>Yes</td>\n",
       "    </tr>\n",
       "    <tr>\n",
       "      <th>...</th>\n",
       "      <td>...</td>\n",
       "      <td>...</td>\n",
       "      <td>...</td>\n",
       "      <td>...</td>\n",
       "      <td>...</td>\n",
       "      <td>...</td>\n",
       "      <td>...</td>\n",
       "      <td>...</td>\n",
       "      <td>...</td>\n",
       "      <td>...</td>\n",
       "      <td>...</td>\n",
       "    </tr>\n",
       "    <tr>\n",
       "      <th>700</th>\n",
       "      <td>Bellary</td>\n",
       "      <td>Five</td>\n",
       "      <td>Nashik</td>\n",
       "      <td>Sandip</td>\n",
       "      <td>IWP</td>\n",
       "      <td>INTERIOR</td>\n",
       "      <td>1</td>\n",
       "      <td>235</td>\n",
       "      <td>2020</td>\n",
       "      <td>2.20</td>\n",
       "      <td>No</td>\n",
       "    </tr>\n",
       "    <tr>\n",
       "      <th>701</th>\n",
       "      <td>Bellary</td>\n",
       "      <td>Five</td>\n",
       "      <td>Nashik</td>\n",
       "      <td>Sandip</td>\n",
       "      <td>IWP</td>\n",
       "      <td>INTERIOR</td>\n",
       "      <td>1</td>\n",
       "      <td>235</td>\n",
       "      <td>2020</td>\n",
       "      <td>2.20</td>\n",
       "      <td>No</td>\n",
       "    </tr>\n",
       "    <tr>\n",
       "      <th>702</th>\n",
       "      <td>Bellary</td>\n",
       "      <td>Five</td>\n",
       "      <td>Nashik</td>\n",
       "      <td>Sandip</td>\n",
       "      <td>IWP</td>\n",
       "      <td>INTERIOR</td>\n",
       "      <td>20</td>\n",
       "      <td>3740</td>\n",
       "      <td>2020</td>\n",
       "      <td>35.60</td>\n",
       "      <td>Yes</td>\n",
       "    </tr>\n",
       "    <tr>\n",
       "      <th>703</th>\n",
       "      <td>Bellary</td>\n",
       "      <td>Five</td>\n",
       "      <td>Nashik</td>\n",
       "      <td>Sandip</td>\n",
       "      <td>IWP</td>\n",
       "      <td>INTERIOR</td>\n",
       "      <td>20</td>\n",
       "      <td>3740</td>\n",
       "      <td>2020</td>\n",
       "      <td>35.60</td>\n",
       "      <td>Yes</td>\n",
       "    </tr>\n",
       "    <tr>\n",
       "      <th>704</th>\n",
       "      <td>Bellary</td>\n",
       "      <td>Five</td>\n",
       "      <td>Nashik</td>\n",
       "      <td>Sandip</td>\n",
       "      <td>IWP</td>\n",
       "      <td>INTERIOR</td>\n",
       "      <td>20</td>\n",
       "      <td>3740</td>\n",
       "      <td>2020</td>\n",
       "      <td>35.60</td>\n",
       "      <td>Yes</td>\n",
       "    </tr>\n",
       "  </tbody>\n",
       "</table>\n",
       "<p>705 rows × 11 columns</p>\n",
       "</div>"
      ],
      "text/plain": [
       "    Manufacturing_Plant Plant Hub_Location     ASM Brand    Surface  Pack  \\\n",
       "0               Bellary   One   Aurangabad   Rahul   ASI  INTERIOR     20   \n",
       "1               Bellary   One   Aurangabad   Rahul   ASI  INTERIOR     20   \n",
       "2               Bellary   One   Aurangabad   Rahul   ASI  INTERIOR     20   \n",
       "3               Bellary   One   Aurangabad   Rahul   ASI  INTERIOR     20   \n",
       "4               Bellary   One   Aurangabad   Rahul   ASI  INTERIOR     20   \n",
       "..                  ...   ...          ...     ...   ...        ...   ...   \n",
       "700             Bellary  Five       Nashik  Sandip   IWP  INTERIOR      1   \n",
       "701             Bellary  Five       Nashik  Sandip   IWP  INTERIOR      1   \n",
       "702             Bellary  Five       Nashik  Sandip   IWP  INTERIOR     20   \n",
       "703             Bellary  Five       Nashik  Sandip   IWP  INTERIOR     20   \n",
       "704             Bellary  Five       Nashik  Sandip   IWP  INTERIOR     20   \n",
       "\n",
       "     Price  Year  Awarded_points Remark  \n",
       "0     9140  2019           87.00    Yes  \n",
       "1     9140  2019           87.00    Yes  \n",
       "2     9140  2022           87.00    Yes  \n",
       "3     9140  2022           87.00    Yes  \n",
       "4     9140  2022           87.00    Yes  \n",
       "..     ...   ...             ...    ...  \n",
       "700    235  2020            2.20     No  \n",
       "701    235  2020            2.20     No  \n",
       "702   3740  2020           35.60    Yes  \n",
       "703   3740  2020           35.60    Yes  \n",
       "704   3740  2020           35.60    Yes  \n",
       "\n",
       "[705 rows x 11 columns]"
      ]
     },
     "execution_count": 4,
     "metadata": {},
     "output_type": "execute_result"
    }
   ],
   "source": [
    "df = pd.read_excel(\"jsw.xlsx\")\n",
    "df"
   ]
  },
  {
   "cell_type": "markdown",
   "id": "eac7203e",
   "metadata": {},
   "source": [
    "# 3.Exploratory Data Analysis"
   ]
  },
  {
   "cell_type": "code",
   "execution_count": 5,
   "id": "5a6220a3",
   "metadata": {},
   "outputs": [
    {
     "name": "stdout",
     "output_type": "stream",
     "text": [
      "<class 'pandas.core.frame.DataFrame'>\n",
      "RangeIndex: 705 entries, 0 to 704\n",
      "Data columns (total 11 columns):\n",
      " #   Column               Non-Null Count  Dtype  \n",
      "---  ------               --------------  -----  \n",
      " 0   Manufacturing_Plant  705 non-null    object \n",
      " 1   Plant                705 non-null    object \n",
      " 2   Hub_Location         705 non-null    object \n",
      " 3   ASM                  705 non-null    object \n",
      " 4   Brand                705 non-null    object \n",
      " 5   Surface              705 non-null    object \n",
      " 6   Pack                 705 non-null    int64  \n",
      " 7   Price                705 non-null    int64  \n",
      " 8   Year                 705 non-null    int64  \n",
      " 9   Awarded_points       705 non-null    float64\n",
      " 10  Remark               705 non-null    object \n",
      "dtypes: float64(1), int64(3), object(7)\n",
      "memory usage: 60.7+ KB\n"
     ]
    }
   ],
   "source": [
    "df.info()"
   ]
  },
  {
   "cell_type": "markdown",
   "id": "482d7159",
   "metadata": {},
   "source": [
    "# 4.Feature Engiineering"
   ]
  },
  {
   "cell_type": "markdown",
   "id": "417b0a7e",
   "metadata": {},
   "source": [
    "# Manufacturing_Plant"
   ]
  },
  {
   "cell_type": "code",
   "execution_count": 6,
   "id": "b6e51713",
   "metadata": {},
   "outputs": [
    {
     "data": {
      "text/plain": [
       "Bellary    591\n",
       "Vasind     114\n",
       "Name: Manufacturing_Plant, dtype: int64"
      ]
     },
     "execution_count": 6,
     "metadata": {},
     "output_type": "execute_result"
    }
   ],
   "source": [
    "df['Manufacturing_Plant'].value_counts()"
   ]
  },
  {
   "cell_type": "code",
   "execution_count": 7,
   "id": "6ead872c",
   "metadata": {},
   "outputs": [],
   "source": [
    "df=pd.get_dummies(df,columns=['Manufacturing_Plant'])"
   ]
  },
  {
   "cell_type": "markdown",
   "id": "24d23723",
   "metadata": {},
   "source": [
    "# Plant"
   ]
  },
  {
   "cell_type": "code",
   "execution_count": 8,
   "id": "eb619cf1",
   "metadata": {},
   "outputs": [],
   "source": [
    "df['Plant'].replace({'One':1,'Two':2,'Three':3,'Four':4,'Five':5},inplace=True)"
   ]
  },
  {
   "cell_type": "code",
   "execution_count": 9,
   "id": "9e5dd2db",
   "metadata": {},
   "outputs": [
    {
     "data": {
      "text/plain": [
       "{'One': 1, 'Two': 2, 'Three': 3, 'Four': 4, 'Five': 5}"
      ]
     },
     "execution_count": 9,
     "metadata": {},
     "output_type": "execute_result"
    }
   ],
   "source": [
    "Plant_dict = {'One':1,'Two':2,'Three':3,'Four':4,'Five':5}\n",
    "Plant_dict"
   ]
  },
  {
   "cell_type": "markdown",
   "id": "d2679900",
   "metadata": {},
   "source": [
    "# Hub_Location"
   ]
  },
  {
   "cell_type": "code",
   "execution_count": 10,
   "id": "7de3e4cd",
   "metadata": {},
   "outputs": [],
   "source": [
    "df=pd.get_dummies(df,columns=['Hub_Location'])"
   ]
  },
  {
   "cell_type": "markdown",
   "id": "01df5d72",
   "metadata": {},
   "source": [
    "# ASM"
   ]
  },
  {
   "cell_type": "code",
   "execution_count": 11,
   "id": "4d24b0fa",
   "metadata": {},
   "outputs": [
    {
     "data": {
      "text/plain": [
       "Jayprakash     253\n",
       "Rahul          232\n",
       "Saurabh        114\n",
       "Sandip          76\n",
       "Vinay           30\n",
       "Name: ASM, dtype: int64"
      ]
     },
     "execution_count": 11,
     "metadata": {},
     "output_type": "execute_result"
    }
   ],
   "source": [
    "df['ASM'].value_counts()"
   ]
  },
  {
   "cell_type": "code",
   "execution_count": 12,
   "id": "133ce35c",
   "metadata": {},
   "outputs": [],
   "source": [
    "df.drop(['ASM'],axis=1,inplace=True)"
   ]
  },
  {
   "cell_type": "markdown",
   "id": "b61ea0d2",
   "metadata": {},
   "source": [
    "# Surface"
   ]
  },
  {
   "cell_type": "code",
   "execution_count": 13,
   "id": "19b15461",
   "metadata": {},
   "outputs": [],
   "source": [
    "df['Surface'].replace({'INTERIOR ':0,'EXTERIOR':1,},inplace=True)"
   ]
  },
  {
   "cell_type": "code",
   "execution_count": 14,
   "id": "dba7607a",
   "metadata": {},
   "outputs": [
    {
     "data": {
      "text/plain": [
       "{'INTERIOR': 0, 'EXTERIOR': 1}"
      ]
     },
     "execution_count": 14,
     "metadata": {},
     "output_type": "execute_result"
    }
   ],
   "source": [
    "Surface_dict = {'INTERIOR': 0,'EXTERIOR': 1}\n",
    "Surface_dict"
   ]
  },
  {
   "cell_type": "code",
   "execution_count": 15,
   "id": "0afed6dc",
   "metadata": {},
   "outputs": [
    {
     "data": {
      "text/plain": [
       "0    440\n",
       "1    265\n",
       "Name: Surface, dtype: int64"
      ]
     },
     "execution_count": 15,
     "metadata": {},
     "output_type": "execute_result"
    }
   ],
   "source": [
    "df['Surface'].value_counts()"
   ]
  },
  {
   "cell_type": "markdown",
   "id": "4879a0ed",
   "metadata": {},
   "source": [
    "# Pack"
   ]
  },
  {
   "cell_type": "code",
   "execution_count": 16,
   "id": "6335f3a6",
   "metadata": {},
   "outputs": [
    {
     "data": {
      "text/plain": [
       "1     315\n",
       "20    175\n",
       "4     124\n",
       "10     91\n",
       "Name: Pack, dtype: int64"
      ]
     },
     "execution_count": 16,
     "metadata": {},
     "output_type": "execute_result"
    }
   ],
   "source": [
    "df['Pack'].value_counts()"
   ]
  },
  {
   "cell_type": "code",
   "execution_count": 17,
   "id": "fafbdbfd",
   "metadata": {},
   "outputs": [
    {
     "data": {
      "image/png": "[encoded data removed]",
      "text/plain": [
       "<Figure size 432x288 with 1 Axes>"
      ]
     },
     "metadata": {
      "needs_background": "light"
     },
     "output_type": "display_data"
    }
   ],
   "source": [
    "sns.barplot(x=df['Year'],y=df['Pack'])\n",
    "plt.xticks(rotation='vertical')\n",
    "plt.show()"
   ]
  },
  {
   "cell_type": "code",
   "execution_count": 18,
   "id": "74028c33",
   "metadata": {},
   "outputs": [
    {
     "data": {
      "text/plain": [
       "0    20\n",
       "1    20\n",
       "2    20\n",
       "3    20\n",
       "4    20\n",
       "Name: Pack, dtype: int64"
      ]
     },
     "execution_count": 18,
     "metadata": {},
     "output_type": "execute_result"
    }
   ],
   "source": [
    "df['Pack'].head()"
   ]
  },
  {
   "cell_type": "markdown",
   "id": "5c4fb231",
   "metadata": {},
   "source": [
    "# Price"
   ]
  },
  {
   "cell_type": "code",
   "execution_count": 19,
   "id": "e051aab2",
   "metadata": {},
   "outputs": [
    {
     "data": {
      "text/plain": [
       "450     91\n",
       "455     61\n",
       "1735    41\n",
       "3740    38\n",
       "630     36\n",
       "Name: Price, dtype: int64"
      ]
     },
     "execution_count": 19,
     "metadata": {},
     "output_type": "execute_result"
    }
   ],
   "source": [
    "df['Price'].value_counts().head()"
   ]
  },
  {
   "cell_type": "markdown",
   "id": "d0c4557f",
   "metadata": {},
   "source": [
    "# Year"
   ]
  },
  {
   "cell_type": "code",
   "execution_count": 20,
   "id": "96ffff50",
   "metadata": {},
   "outputs": [
    {
     "data": {
      "text/plain": [
       "2020    420\n",
       "2022    225\n",
       "2021     47\n",
       "2019     13\n",
       "Name: Year, dtype: int64"
      ]
     },
     "execution_count": 20,
     "metadata": {},
     "output_type": "execute_result"
    }
   ],
   "source": [
    "df['Year'].value_counts().head()"
   ]
  },
  {
   "cell_type": "code",
   "execution_count": 21,
   "id": "e51c0bf5",
   "metadata": {},
   "outputs": [
    {
     "data": {
      "text/plain": [
       "<function matplotlib.pyplot.show(close=None, block=None)>"
      ]
     },
     "execution_count": 21,
     "metadata": {},
     "output_type": "execute_result"
    },
    {
     "data": {
      "image/png": "[encoded data removed]",
      "text/plain": [
       "<Figure size 360x360 with 1 Axes>"
      ]
     },
     "metadata": {},
     "output_type": "display_data"
    }
   ],
   "source": [
    "Year=['2020','2022','2021','2019']\n",
    "count = [420,225,47,13]\n",
    "fig=plt.figure(figsize=(5,5))\n",
    "plt.pie(count,labels=Year)\n",
    "plt.show\n",
    "                   "
   ]
  },
  {
   "cell_type": "markdown",
   "id": "2225ab30",
   "metadata": {},
   "source": [
    "# Awarded_points"
   ]
  },
  {
   "cell_type": "code",
   "execution_count": 22,
   "id": "76a17abb",
   "metadata": {},
   "outputs": [
    {
     "data": {
      "text/plain": [
       "2.70     79\n",
       "4.30     61\n",
       "4.25     46\n",
       "10.00    40\n",
       "6.00     36\n",
       "Name: Awarded_points, dtype: int64"
      ]
     },
     "execution_count": 22,
     "metadata": {},
     "output_type": "execute_result"
    }
   ],
   "source": [
    "df['Awarded_points'].value_counts().head()"
   ]
  },
  {
   "cell_type": "code",
   "execution_count": 23,
   "id": "d481de7b",
   "metadata": {},
   "outputs": [
    {
     "data": {
      "image/png": "[encoded data removed]",
      "text/plain": [
       "<Figure size 432x288 with 1 Axes>"
      ]
     },
     "metadata": {
      "needs_background": "light"
     },
     "output_type": "display_data"
    },
    {
     "data": {
      "text/plain": [
       "<Figure size 720x720 with 0 Axes>"
      ]
     },
     "metadata": {},
     "output_type": "display_data"
    }
   ],
   "source": [
    "sns.barplot(x=df['Awarded_points'],y=df['Pack'])\n",
    "plt.xticks(rotation='horizontal')\n",
    "fig=plt.figure(figsize=(10,10))\n",
    "plt.show()"
   ]
  },
  {
   "cell_type": "markdown",
   "id": "b4ab3ec3",
   "metadata": {},
   "source": [
    "# Remark"
   ]
  },
  {
   "cell_type": "code",
   "execution_count": 24,
   "id": "1e7d2808",
   "metadata": {},
   "outputs": [
    {
     "data": {
      "text/plain": [
       "{'Yes': 384, 'No': 321}"
      ]
     },
     "execution_count": 24,
     "metadata": {},
     "output_type": "execute_result"
    }
   ],
   "source": [
    "df['Remark'].value_counts().to_dict()"
   ]
  },
  {
   "cell_type": "code",
   "execution_count": 25,
   "id": "f878e629",
   "metadata": {},
   "outputs": [
    {
     "data": {
      "text/html": [
       "<div>\n",
       "<style scoped>\n",
       "    .dataframe tbody tr th:only-of-type {\n",
       "        vertical-align: middle;\n",
       "    }\n",
       "\n",
       "    .dataframe tbody tr th {\n",
       "        vertical-align: top;\n",
       "    }\n",
       "\n",
       "    .dataframe thead th {\n",
       "        text-align: right;\n",
       "    }\n",
       "</style>\n",
       "<table border=\"1\" class=\"dataframe\">\n",
       "  <thead>\n",
       "    <tr style=\"text-align: right;\">\n",
       "      <th></th>\n",
       "      <th>Plant</th>\n",
       "      <th>Brand</th>\n",
       "      <th>Surface</th>\n",
       "      <th>Pack</th>\n",
       "      <th>Price</th>\n",
       "      <th>Year</th>\n",
       "      <th>Awarded_points</th>\n",
       "      <th>Remark</th>\n",
       "      <th>Manufacturing_Plant_Bellary</th>\n",
       "      <th>Manufacturing_Plant_Vasind</th>\n",
       "      <th>Hub_Location_Aurangabad</th>\n",
       "      <th>Hub_Location_Goa</th>\n",
       "      <th>Hub_Location_Kolhapur</th>\n",
       "      <th>Hub_Location_Nagpur</th>\n",
       "      <th>Hub_Location_Nashik</th>\n",
       "    </tr>\n",
       "  </thead>\n",
       "  <tbody>\n",
       "    <tr>\n",
       "      <th>0</th>\n",
       "      <td>1</td>\n",
       "      <td>ASI</td>\n",
       "      <td>0</td>\n",
       "      <td>20</td>\n",
       "      <td>9140</td>\n",
       "      <td>2019</td>\n",
       "      <td>87.00</td>\n",
       "      <td>1</td>\n",
       "      <td>1</td>\n",
       "      <td>0</td>\n",
       "      <td>1</td>\n",
       "      <td>0</td>\n",
       "      <td>0</td>\n",
       "      <td>0</td>\n",
       "      <td>0</td>\n",
       "    </tr>\n",
       "    <tr>\n",
       "      <th>1</th>\n",
       "      <td>1</td>\n",
       "      <td>ASI</td>\n",
       "      <td>0</td>\n",
       "      <td>20</td>\n",
       "      <td>9140</td>\n",
       "      <td>2019</td>\n",
       "      <td>87.00</td>\n",
       "      <td>1</td>\n",
       "      <td>1</td>\n",
       "      <td>0</td>\n",
       "      <td>1</td>\n",
       "      <td>0</td>\n",
       "      <td>0</td>\n",
       "      <td>0</td>\n",
       "      <td>0</td>\n",
       "    </tr>\n",
       "    <tr>\n",
       "      <th>2</th>\n",
       "      <td>1</td>\n",
       "      <td>ASI</td>\n",
       "      <td>0</td>\n",
       "      <td>20</td>\n",
       "      <td>9140</td>\n",
       "      <td>2022</td>\n",
       "      <td>87.00</td>\n",
       "      <td>1</td>\n",
       "      <td>1</td>\n",
       "      <td>0</td>\n",
       "      <td>1</td>\n",
       "      <td>0</td>\n",
       "      <td>0</td>\n",
       "      <td>0</td>\n",
       "      <td>0</td>\n",
       "    </tr>\n",
       "    <tr>\n",
       "      <th>3</th>\n",
       "      <td>1</td>\n",
       "      <td>ASI</td>\n",
       "      <td>0</td>\n",
       "      <td>20</td>\n",
       "      <td>9140</td>\n",
       "      <td>2022</td>\n",
       "      <td>87.00</td>\n",
       "      <td>1</td>\n",
       "      <td>1</td>\n",
       "      <td>0</td>\n",
       "      <td>1</td>\n",
       "      <td>0</td>\n",
       "      <td>0</td>\n",
       "      <td>0</td>\n",
       "      <td>0</td>\n",
       "    </tr>\n",
       "    <tr>\n",
       "      <th>4</th>\n",
       "      <td>1</td>\n",
       "      <td>ASI</td>\n",
       "      <td>0</td>\n",
       "      <td>20</td>\n",
       "      <td>9140</td>\n",
       "      <td>2022</td>\n",
       "      <td>87.00</td>\n",
       "      <td>1</td>\n",
       "      <td>1</td>\n",
       "      <td>0</td>\n",
       "      <td>1</td>\n",
       "      <td>0</td>\n",
       "      <td>0</td>\n",
       "      <td>0</td>\n",
       "      <td>0</td>\n",
       "    </tr>\n",
       "    <tr>\n",
       "      <th>...</th>\n",
       "      <td>...</td>\n",
       "      <td>...</td>\n",
       "      <td>...</td>\n",
       "      <td>...</td>\n",
       "      <td>...</td>\n",
       "      <td>...</td>\n",
       "      <td>...</td>\n",
       "      <td>...</td>\n",
       "      <td>...</td>\n",
       "      <td>...</td>\n",
       "      <td>...</td>\n",
       "      <td>...</td>\n",
       "      <td>...</td>\n",
       "      <td>...</td>\n",
       "      <td>...</td>\n",
       "    </tr>\n",
       "    <tr>\n",
       "      <th>700</th>\n",
       "      <td>5</td>\n",
       "      <td>IWP</td>\n",
       "      <td>0</td>\n",
       "      <td>1</td>\n",
       "      <td>235</td>\n",
       "      <td>2020</td>\n",
       "      <td>2.20</td>\n",
       "      <td>0</td>\n",
       "      <td>1</td>\n",
       "      <td>0</td>\n",
       "      <td>0</td>\n",
       "      <td>0</td>\n",
       "      <td>0</td>\n",
       "      <td>0</td>\n",
       "      <td>1</td>\n",
       "    </tr>\n",
       "    <tr>\n",
       "      <th>701</th>\n",
       "      <td>5</td>\n",
       "      <td>IWP</td>\n",
       "      <td>0</td>\n",
       "      <td>1</td>\n",
       "      <td>235</td>\n",
       "      <td>2020</td>\n",
       "      <td>2.20</td>\n",
       "      <td>0</td>\n",
       "      <td>1</td>\n",
       "      <td>0</td>\n",
       "      <td>0</td>\n",
       "      <td>0</td>\n",
       "      <td>0</td>\n",
       "      <td>0</td>\n",
       "      <td>1</td>\n",
       "    </tr>\n",
       "    <tr>\n",
       "      <th>702</th>\n",
       "      <td>5</td>\n",
       "      <td>IWP</td>\n",
       "      <td>0</td>\n",
       "      <td>20</td>\n",
       "      <td>3740</td>\n",
       "      <td>2020</td>\n",
       "      <td>35.60</td>\n",
       "      <td>1</td>\n",
       "      <td>1</td>\n",
       "      <td>0</td>\n",
       "      <td>0</td>\n",
       "      <td>0</td>\n",
       "      <td>0</td>\n",
       "      <td>0</td>\n",
       "      <td>1</td>\n",
       "    </tr>\n",
       "    <tr>\n",
       "      <th>703</th>\n",
       "      <td>5</td>\n",
       "      <td>IWP</td>\n",
       "      <td>0</td>\n",
       "      <td>20</td>\n",
       "      <td>3740</td>\n",
       "      <td>2020</td>\n",
       "      <td>35.60</td>\n",
       "      <td>1</td>\n",
       "      <td>1</td>\n",
       "      <td>0</td>\n",
       "      <td>0</td>\n",
       "      <td>0</td>\n",
       "      <td>0</td>\n",
       "      <td>0</td>\n",
       "      <td>1</td>\n",
       "    </tr>\n",
       "    <tr>\n",
       "      <th>704</th>\n",
       "      <td>5</td>\n",
       "      <td>IWP</td>\n",
       "      <td>0</td>\n",
       "      <td>20</td>\n",
       "      <td>3740</td>\n",
       "      <td>2020</td>\n",
       "      <td>35.60</td>\n",
       "      <td>1</td>\n",
       "      <td>1</td>\n",
       "      <td>0</td>\n",
       "      <td>0</td>\n",
       "      <td>0</td>\n",
       "      <td>0</td>\n",
       "      <td>0</td>\n",
       "      <td>1</td>\n",
       "    </tr>\n",
       "  </tbody>\n",
       "</table>\n",
       "<p>705 rows × 15 columns</p>\n",
       "</div>"
      ],
      "text/plain": [
       "     Plant Brand  Surface  Pack  Price  Year  Awarded_points  Remark  \\\n",
       "0        1   ASI        0    20   9140  2019           87.00       1   \n",
       "1        1   ASI        0    20   9140  2019           87.00       1   \n",
       "2        1   ASI        0    20   9140  2022           87.00       1   \n",
       "3        1   ASI        0    20   9140  2022           87.00       1   \n",
       "4        1   ASI        0    20   9140  2022           87.00       1   \n",
       "..     ...   ...      ...   ...    ...   ...             ...     ...   \n",
       "700      5   IWP        0     1    235  2020            2.20       0   \n",
       "701      5   IWP        0     1    235  2020            2.20       0   \n",
       "702      5   IWP        0    20   3740  2020           35.60       1   \n",
       "703      5   IWP        0    20   3740  2020           35.60       1   \n",
       "704      5   IWP        0    20   3740  2020           35.60       1   \n",
       "\n",
       "     Manufacturing_Plant_Bellary  Manufacturing_Plant_Vasind  \\\n",
       "0                              1                           0   \n",
       "1                              1                           0   \n",
       "2                              1                           0   \n",
       "3                              1                           0   \n",
       "4                              1                           0   \n",
       "..                           ...                         ...   \n",
       "700                            1                           0   \n",
       "701                            1                           0   \n",
       "702                            1                           0   \n",
       "703                            1                           0   \n",
       "704                            1                           0   \n",
       "\n",
       "     Hub_Location_Aurangabad  Hub_Location_Goa  Hub_Location_Kolhapur  \\\n",
       "0                          1                 0                      0   \n",
       "1                          1                 0                      0   \n",
       "2                          1                 0                      0   \n",
       "3                          1                 0                      0   \n",
       "4                          1                 0                      0   \n",
       "..                       ...               ...                    ...   \n",
       "700                        0                 0                      0   \n",
       "701                        0                 0                      0   \n",
       "702                        0                 0                      0   \n",
       "703                        0                 0                      0   \n",
       "704                        0                 0                      0   \n",
       "\n",
       "     Hub_Location_Nagpur  Hub_Location_Nashik  \n",
       "0                      0                    0  \n",
       "1                      0                    0  \n",
       "2                      0                    0  \n",
       "3                      0                    0  \n",
       "4                      0                    0  \n",
       "..                   ...                  ...  \n",
       "700                    0                    1  \n",
       "701                    0                    1  \n",
       "702                    0                    1  \n",
       "703                    0                    1  \n",
       "704                    0                    1  \n",
       "\n",
       "[705 rows x 15 columns]"
      ]
     },
     "execution_count": 25,
     "metadata": {},
     "output_type": "execute_result"
    }
   ],
   "source": [
    "df['Remark'].replace({'Yes':1, 'No':0},inplace=True)\n",
    "df"
   ]
  },
  {
   "cell_type": "markdown",
   "id": "1536279e",
   "metadata": {},
   "source": [
    "# Brand"
   ]
  },
  {
   "cell_type": "code",
   "execution_count": 26,
   "id": "e38030ab",
   "metadata": {},
   "outputs": [
    {
     "data": {
      "text/html": [
       "<div>\n",
       "<style scoped>\n",
       "    .dataframe tbody tr th:only-of-type {\n",
       "        vertical-align: middle;\n",
       "    }\n",
       "\n",
       "    .dataframe tbody tr th {\n",
       "        vertical-align: top;\n",
       "    }\n",
       "\n",
       "    .dataframe thead th {\n",
       "        text-align: right;\n",
       "    }\n",
       "</style>\n",
       "<table border=\"1\" class=\"dataframe\">\n",
       "  <thead>\n",
       "    <tr style=\"text-align: right;\">\n",
       "      <th></th>\n",
       "      <th>Plant</th>\n",
       "      <th>Surface</th>\n",
       "      <th>Pack</th>\n",
       "      <th>Price</th>\n",
       "      <th>Year</th>\n",
       "      <th>Awarded_points</th>\n",
       "      <th>Remark</th>\n",
       "      <th>Manufacturing_Plant_Bellary</th>\n",
       "      <th>Manufacturing_Plant_Vasind</th>\n",
       "      <th>Hub_Location_Aurangabad</th>\n",
       "      <th>...</th>\n",
       "      <th>Brand_AI</th>\n",
       "      <th>Brand_ASI</th>\n",
       "      <th>Brand_EWP</th>\n",
       "      <th>Brand_HE</th>\n",
       "      <th>Brand_HI</th>\n",
       "      <th>Brand_HSI</th>\n",
       "      <th>Brand_IBWPE</th>\n",
       "      <th>Brand_IBWPI</th>\n",
       "      <th>Brand_IBWR</th>\n",
       "      <th>Brand_IWP</th>\n",
       "    </tr>\n",
       "  </thead>\n",
       "  <tbody>\n",
       "    <tr>\n",
       "      <th>0</th>\n",
       "      <td>1</td>\n",
       "      <td>0</td>\n",
       "      <td>20</td>\n",
       "      <td>9140</td>\n",
       "      <td>2019</td>\n",
       "      <td>87.00</td>\n",
       "      <td>1</td>\n",
       "      <td>1</td>\n",
       "      <td>0</td>\n",
       "      <td>1</td>\n",
       "      <td>...</td>\n",
       "      <td>0</td>\n",
       "      <td>1</td>\n",
       "      <td>0</td>\n",
       "      <td>0</td>\n",
       "      <td>0</td>\n",
       "      <td>0</td>\n",
       "      <td>0</td>\n",
       "      <td>0</td>\n",
       "      <td>0</td>\n",
       "      <td>0</td>\n",
       "    </tr>\n",
       "    <tr>\n",
       "      <th>1</th>\n",
       "      <td>1</td>\n",
       "      <td>0</td>\n",
       "      <td>20</td>\n",
       "      <td>9140</td>\n",
       "      <td>2019</td>\n",
       "      <td>87.00</td>\n",
       "      <td>1</td>\n",
       "      <td>1</td>\n",
       "      <td>0</td>\n",
       "      <td>1</td>\n",
       "      <td>...</td>\n",
       "      <td>0</td>\n",
       "      <td>1</td>\n",
       "      <td>0</td>\n",
       "      <td>0</td>\n",
       "      <td>0</td>\n",
       "      <td>0</td>\n",
       "      <td>0</td>\n",
       "      <td>0</td>\n",
       "      <td>0</td>\n",
       "      <td>0</td>\n",
       "    </tr>\n",
       "    <tr>\n",
       "      <th>2</th>\n",
       "      <td>1</td>\n",
       "      <td>0</td>\n",
       "      <td>20</td>\n",
       "      <td>9140</td>\n",
       "      <td>2022</td>\n",
       "      <td>87.00</td>\n",
       "      <td>1</td>\n",
       "      <td>1</td>\n",
       "      <td>0</td>\n",
       "      <td>1</td>\n",
       "      <td>...</td>\n",
       "      <td>0</td>\n",
       "      <td>1</td>\n",
       "      <td>0</td>\n",
       "      <td>0</td>\n",
       "      <td>0</td>\n",
       "      <td>0</td>\n",
       "      <td>0</td>\n",
       "      <td>0</td>\n",
       "      <td>0</td>\n",
       "      <td>0</td>\n",
       "    </tr>\n",
       "    <tr>\n",
       "      <th>3</th>\n",
       "      <td>1</td>\n",
       "      <td>0</td>\n",
       "      <td>20</td>\n",
       "      <td>9140</td>\n",
       "      <td>2022</td>\n",
       "      <td>87.00</td>\n",
       "      <td>1</td>\n",
       "      <td>1</td>\n",
       "      <td>0</td>\n",
       "      <td>1</td>\n",
       "      <td>...</td>\n",
       "      <td>0</td>\n",
       "      <td>1</td>\n",
       "      <td>0</td>\n",
       "      <td>0</td>\n",
       "      <td>0</td>\n",
       "      <td>0</td>\n",
       "      <td>0</td>\n",
       "      <td>0</td>\n",
       "      <td>0</td>\n",
       "      <td>0</td>\n",
       "    </tr>\n",
       "    <tr>\n",
       "      <th>4</th>\n",
       "      <td>1</td>\n",
       "      <td>0</td>\n",
       "      <td>20</td>\n",
       "      <td>9140</td>\n",
       "      <td>2022</td>\n",
       "      <td>87.00</td>\n",
       "      <td>1</td>\n",
       "      <td>1</td>\n",
       "      <td>0</td>\n",
       "      <td>1</td>\n",
       "      <td>...</td>\n",
       "      <td>0</td>\n",
       "      <td>1</td>\n",
       "      <td>0</td>\n",
       "      <td>0</td>\n",
       "      <td>0</td>\n",
       "      <td>0</td>\n",
       "      <td>0</td>\n",
       "      <td>0</td>\n",
       "      <td>0</td>\n",
       "      <td>0</td>\n",
       "    </tr>\n",
       "    <tr>\n",
       "      <th>...</th>\n",
       "      <td>...</td>\n",
       "      <td>...</td>\n",
       "      <td>...</td>\n",
       "      <td>...</td>\n",
       "      <td>...</td>\n",
       "      <td>...</td>\n",
       "      <td>...</td>\n",
       "      <td>...</td>\n",
       "      <td>...</td>\n",
       "      <td>...</td>\n",
       "      <td>...</td>\n",
       "      <td>...</td>\n",
       "      <td>...</td>\n",
       "      <td>...</td>\n",
       "      <td>...</td>\n",
       "      <td>...</td>\n",
       "      <td>...</td>\n",
       "      <td>...</td>\n",
       "      <td>...</td>\n",
       "      <td>...</td>\n",
       "      <td>...</td>\n",
       "    </tr>\n",
       "    <tr>\n",
       "      <th>700</th>\n",
       "      <td>5</td>\n",
       "      <td>0</td>\n",
       "      <td>1</td>\n",
       "      <td>235</td>\n",
       "      <td>2020</td>\n",
       "      <td>2.20</td>\n",
       "      <td>0</td>\n",
       "      <td>1</td>\n",
       "      <td>0</td>\n",
       "      <td>0</td>\n",
       "      <td>...</td>\n",
       "      <td>0</td>\n",
       "      <td>0</td>\n",
       "      <td>0</td>\n",
       "      <td>0</td>\n",
       "      <td>0</td>\n",
       "      <td>0</td>\n",
       "      <td>0</td>\n",
       "      <td>0</td>\n",
       "      <td>0</td>\n",
       "      <td>1</td>\n",
       "    </tr>\n",
       "    <tr>\n",
       "      <th>701</th>\n",
       "      <td>5</td>\n",
       "      <td>0</td>\n",
       "      <td>1</td>\n",
       "      <td>235</td>\n",
       "      <td>2020</td>\n",
       "      <td>2.20</td>\n",
       "      <td>0</td>\n",
       "      <td>1</td>\n",
       "      <td>0</td>\n",
       "      <td>0</td>\n",
       "      <td>...</td>\n",
       "      <td>0</td>\n",
       "      <td>0</td>\n",
       "      <td>0</td>\n",
       "      <td>0</td>\n",
       "      <td>0</td>\n",
       "      <td>0</td>\n",
       "      <td>0</td>\n",
       "      <td>0</td>\n",
       "      <td>0</td>\n",
       "      <td>1</td>\n",
       "    </tr>\n",
       "    <tr>\n",
       "      <th>702</th>\n",
       "      <td>5</td>\n",
       "      <td>0</td>\n",
       "      <td>20</td>\n",
       "      <td>3740</td>\n",
       "      <td>2020</td>\n",
       "      <td>35.60</td>\n",
       "      <td>1</td>\n",
       "      <td>1</td>\n",
       "      <td>0</td>\n",
       "      <td>0</td>\n",
       "      <td>...</td>\n",
       "      <td>0</td>\n",
       "      <td>0</td>\n",
       "      <td>0</td>\n",
       "      <td>0</td>\n",
       "      <td>0</td>\n",
       "      <td>0</td>\n",
       "      <td>0</td>\n",
       "      <td>0</td>\n",
       "      <td>0</td>\n",
       "      <td>1</td>\n",
       "    </tr>\n",
       "    <tr>\n",
       "      <th>703</th>\n",
       "      <td>5</td>\n",
       "      <td>0</td>\n",
       "      <td>20</td>\n",
       "      <td>3740</td>\n",
       "      <td>2020</td>\n",
       "      <td>35.60</td>\n",
       "      <td>1</td>\n",
       "      <td>1</td>\n",
       "      <td>0</td>\n",
       "      <td>0</td>\n",
       "      <td>...</td>\n",
       "      <td>0</td>\n",
       "      <td>0</td>\n",
       "      <td>0</td>\n",
       "      <td>0</td>\n",
       "      <td>0</td>\n",
       "      <td>0</td>\n",
       "      <td>0</td>\n",
       "      <td>0</td>\n",
       "      <td>0</td>\n",
       "      <td>1</td>\n",
       "    </tr>\n",
       "    <tr>\n",
       "      <th>704</th>\n",
       "      <td>5</td>\n",
       "      <td>0</td>\n",
       "      <td>20</td>\n",
       "      <td>3740</td>\n",
       "      <td>2020</td>\n",
       "      <td>35.60</td>\n",
       "      <td>1</td>\n",
       "      <td>1</td>\n",
       "      <td>0</td>\n",
       "      <td>0</td>\n",
       "      <td>...</td>\n",
       "      <td>0</td>\n",
       "      <td>0</td>\n",
       "      <td>0</td>\n",
       "      <td>0</td>\n",
       "      <td>0</td>\n",
       "      <td>0</td>\n",
       "      <td>0</td>\n",
       "      <td>0</td>\n",
       "      <td>0</td>\n",
       "      <td>1</td>\n",
       "    </tr>\n",
       "  </tbody>\n",
       "</table>\n",
       "<p>705 rows × 25 columns</p>\n",
       "</div>"
      ],
      "text/plain": [
       "     Plant  Surface  Pack  Price  Year  Awarded_points  Remark  \\\n",
       "0        1        0    20   9140  2019           87.00       1   \n",
       "1        1        0    20   9140  2019           87.00       1   \n",
       "2        1        0    20   9140  2022           87.00       1   \n",
       "3        1        0    20   9140  2022           87.00       1   \n",
       "4        1        0    20   9140  2022           87.00       1   \n",
       "..     ...      ...   ...    ...   ...             ...     ...   \n",
       "700      5        0     1    235  2020            2.20       0   \n",
       "701      5        0     1    235  2020            2.20       0   \n",
       "702      5        0    20   3740  2020           35.60       1   \n",
       "703      5        0    20   3740  2020           35.60       1   \n",
       "704      5        0    20   3740  2020           35.60       1   \n",
       "\n",
       "     Manufacturing_Plant_Bellary  Manufacturing_Plant_Vasind  \\\n",
       "0                              1                           0   \n",
       "1                              1                           0   \n",
       "2                              1                           0   \n",
       "3                              1                           0   \n",
       "4                              1                           0   \n",
       "..                           ...                         ...   \n",
       "700                            1                           0   \n",
       "701                            1                           0   \n",
       "702                            1                           0   \n",
       "703                            1                           0   \n",
       "704                            1                           0   \n",
       "\n",
       "     Hub_Location_Aurangabad  ...  Brand_AI  Brand_ASI  Brand_EWP  Brand_HE  \\\n",
       "0                          1  ...         0          1          0         0   \n",
       "1                          1  ...         0          1          0         0   \n",
       "2                          1  ...         0          1          0         0   \n",
       "3                          1  ...         0          1          0         0   \n",
       "4                          1  ...         0          1          0         0   \n",
       "..                       ...  ...       ...        ...        ...       ...   \n",
       "700                        0  ...         0          0          0         0   \n",
       "701                        0  ...         0          0          0         0   \n",
       "702                        0  ...         0          0          0         0   \n",
       "703                        0  ...         0          0          0         0   \n",
       "704                        0  ...         0          0          0         0   \n",
       "\n",
       "     Brand_HI  Brand_HSI  Brand_IBWPE  Brand_IBWPI  Brand_IBWR  Brand_IWP  \n",
       "0           0          0            0            0           0          0  \n",
       "1           0          0            0            0           0          0  \n",
       "2           0          0            0            0           0          0  \n",
       "3           0          0            0            0           0          0  \n",
       "4           0          0            0            0           0          0  \n",
       "..        ...        ...          ...          ...         ...        ...  \n",
       "700         0          0            0            0           0          1  \n",
       "701         0          0            0            0           0          1  \n",
       "702         0          0            0            0           0          1  \n",
       "703         0          0            0            0           0          1  \n",
       "704         0          0            0            0           0          1  \n",
       "\n",
       "[705 rows x 25 columns]"
      ]
     },
     "execution_count": 26,
     "metadata": {},
     "output_type": "execute_result"
    }
   ],
   "source": [
    "df=pd.get_dummies(df,columns=['Brand'])\n",
    "df"
   ]
  },
  {
   "cell_type": "code",
   "execution_count": 27,
   "id": "6e81c8b7",
   "metadata": {},
   "outputs": [
    {
     "name": "stdout",
     "output_type": "stream",
     "text": [
      "<class 'pandas.core.frame.DataFrame'>\n",
      "RangeIndex: 705 entries, 0 to 704\n",
      "Data columns (total 25 columns):\n",
      " #   Column                       Non-Null Count  Dtype  \n",
      "---  ------                       --------------  -----  \n",
      " 0   Plant                        705 non-null    int64  \n",
      " 1   Surface                      705 non-null    int64  \n",
      " 2   Pack                         705 non-null    int64  \n",
      " 3   Price                        705 non-null    int64  \n",
      " 4   Year                         705 non-null    int64  \n",
      " 5   Awarded_points               705 non-null    float64\n",
      " 6   Remark                       705 non-null    int64  \n",
      " 7   Manufacturing_Plant_Bellary  705 non-null    uint8  \n",
      " 8   Manufacturing_Plant_Vasind   705 non-null    uint8  \n",
      " 9   Hub_Location_Aurangabad      705 non-null    uint8  \n",
      " 10  Hub_Location_Goa             705 non-null    uint8  \n",
      " 11  Hub_Location_Kolhapur        705 non-null    uint8  \n",
      " 12  Hub_Location_Nagpur          705 non-null    uint8  \n",
      " 13  Hub_Location_Nashik          705 non-null    uint8  \n",
      " 14  Brand_AE                     705 non-null    uint8  \n",
      " 15  Brand_AI                     705 non-null    uint8  \n",
      " 16  Brand_ASI                    705 non-null    uint8  \n",
      " 17  Brand_EWP                    705 non-null    uint8  \n",
      " 18  Brand_HE                     705 non-null    uint8  \n",
      " 19  Brand_HI                     705 non-null    uint8  \n",
      " 20  Brand_HSI                    705 non-null    uint8  \n",
      " 21  Brand_IBWPE                  705 non-null    uint8  \n",
      " 22  Brand_IBWPI                  705 non-null    uint8  \n",
      " 23  Brand_IBWR                   705 non-null    uint8  \n",
      " 24  Brand_IWP                    705 non-null    uint8  \n",
      "dtypes: float64(1), int64(6), uint8(18)\n",
      "memory usage: 51.1 KB\n"
     ]
    }
   ],
   "source": [
    "df.info()"
   ]
  },
  {
   "cell_type": "markdown",
   "id": "cf02404d",
   "metadata": {},
   "source": [
    "# Outlier Handling and Imputation"
   ]
  },
  {
   "cell_type": "code",
   "execution_count": 28,
   "id": "63dd4235",
   "metadata": {},
   "outputs": [
    {
     "data": {
      "text/plain": [
       "<AxesSubplot:>"
      ]
     },
     "execution_count": 28,
     "metadata": {},
     "output_type": "execute_result"
    },
    {
     "data": {
      "image/png": "[encoded data removed]",
      "text/plain": [
       "<Figure size 360x360 with 1 Axes>"
      ]
     },
     "metadata": {
      "needs_background": "light"
     },
     "output_type": "display_data"
    }
   ],
   "source": [
    "plt.figure(figsize=(5,5))\n",
    "df.boxplot()"
   ]
  },
  {
   "cell_type": "code",
   "execution_count": 29,
   "id": "2a9a4955",
   "metadata": {},
   "outputs": [
    {
     "data": {
      "text/plain": [
       "<AxesSubplot:>"
      ]
     },
     "execution_count": 29,
     "metadata": {},
     "output_type": "execute_result"
    },
    {
     "data": {
      "image/png": "[encoded data removed]",
      "text/plain": [
       "<Figure size 432x288 with 1 Axes>"
      ]
     },
     "metadata": {
      "needs_background": "light"
     },
     "output_type": "display_data"
    }
   ],
   "source": [
    "df[['Price']].boxplot()"
   ]
  },
  {
   "cell_type": "code",
   "execution_count": 30,
   "id": "90ad82c1",
   "metadata": {},
   "outputs": [
    {
     "name": "stdout",
     "output_type": "stream",
     "text": [
      "Q1: 455.0\n",
      "Q2: 1735.0\n",
      "Q3: 4200.0\n",
      "median: 1735.0\n",
      "upper_tail: 9817.5\n",
      "lower_tail: -1417.5\n"
     ]
    }
   ],
   "source": [
    "q1=df['Price'].quantile(0.25)\n",
    "q2=df['Price'].quantile(0.50)\n",
    "q3=df['Price'].quantile(0.75)\n",
    "\n",
    "median=df['Price'].median()\n",
    "\n",
    "iqr=q3-q1\n",
    "\n",
    "upper_tail=q3+1.5*iqr\n",
    "lower_tail=q3-1.5*iqr\n",
    "\n",
    "print(\"Q1:\",q1)\n",
    "print(\"Q2:\",q2)\n",
    "print(\"Q3:\",q3)\n",
    "\n",
    "print(\"median:\",median)\n",
    "print(\"upper_tail:\",upper_tail,)\n",
    "print(\"lower_tail:\",lower_tail,)"
   ]
  },
  {
   "cell_type": "code",
   "execution_count": 31,
   "id": "60c9fc45",
   "metadata": {},
   "outputs": [
    {
     "data": {
      "text/plain": [
       "2500.5964653902797"
      ]
     },
     "execution_count": 31,
     "metadata": {},
     "output_type": "execute_result"
    }
   ],
   "source": [
    "mean_price=df.loc[df['Price']<upper_tail,'Price'].mean()\n",
    "mean_price"
   ]
  },
  {
   "cell_type": "code",
   "execution_count": 32,
   "id": "91339b09",
   "metadata": {},
   "outputs": [],
   "source": [
    "df.loc[df['Price']>upper_tail,'Price']=mean_price"
   ]
  },
  {
   "cell_type": "code",
   "execution_count": 33,
   "id": "fec78c93",
   "metadata": {},
   "outputs": [
    {
     "data": {
      "text/plain": [
       "Series([], Name: Price, dtype: float64)"
      ]
     },
     "execution_count": 33,
     "metadata": {},
     "output_type": "execute_result"
    }
   ],
   "source": [
    "df.loc[df['Price']>upper_tail,'Price']"
   ]
  },
  {
   "cell_type": "code",
   "execution_count": 34,
   "id": "98a84e92",
   "metadata": {},
   "outputs": [
    {
     "data": {
      "text/plain": [
       "<AxesSubplot:>"
      ]
     },
     "execution_count": 34,
     "metadata": {},
     "output_type": "execute_result"
    },
    {
     "data": {
      "image/png": "[encoded data removed]",
      "text/plain": [
       "<Figure size 432x288 with 1 Axes>"
      ]
     },
     "metadata": {
      "needs_background": "light"
     },
     "output_type": "display_data"
    }
   ],
   "source": [
    "df[['Price']].boxplot()"
   ]
  },
  {
   "cell_type": "markdown",
   "id": "cc722a7d",
   "metadata": {},
   "source": [
    "# 5.Feature Selection"
   ]
  },
  {
   "cell_type": "markdown",
   "id": "632bfd67",
   "metadata": {},
   "source": [
    "# 6.Model Training"
   ]
  },
  {
   "cell_type": "markdown",
   "id": "6dd148b0",
   "metadata": {},
   "source": [
    "#Assumption in Linear Regression\n",
    "1.Linearity\n",
    "2.No multicolinearity\n",
    "3. Normality of residual \n",
    "4.Homoscadasticity"
   ]
  },
  {
   "cell_type": "raw",
   "id": "05769502",
   "metadata": {},
   "source": [
    "#1.Linearity"
   ]
  },
  {
   "cell_type": "code",
   "execution_count": 35,
   "id": "42d0fa0f",
   "metadata": {},
   "outputs": [
    {
     "data": {
      "text/html": [
       "<div>\n",
       "<style scoped>\n",
       "    .dataframe tbody tr th:only-of-type {\n",
       "        vertical-align: middle;\n",
       "    }\n",
       "\n",
       "    .dataframe tbody tr th {\n",
       "        vertical-align: top;\n",
       "    }\n",
       "\n",
       "    .dataframe thead th {\n",
       "        text-align: right;\n",
       "    }\n",
       "</style>\n",
       "<table border=\"1\" class=\"dataframe\">\n",
       "  <thead>\n",
       "    <tr style=\"text-align: right;\">\n",
       "      <th></th>\n",
       "      <th>Plant</th>\n",
       "      <th>Surface</th>\n",
       "      <th>Pack</th>\n",
       "      <th>Price</th>\n",
       "      <th>Year</th>\n",
       "      <th>Awarded_points</th>\n",
       "      <th>Remark</th>\n",
       "      <th>Manufacturing_Plant_Bellary</th>\n",
       "      <th>Manufacturing_Plant_Vasind</th>\n",
       "      <th>Hub_Location_Aurangabad</th>\n",
       "      <th>...</th>\n",
       "      <th>Brand_AI</th>\n",
       "      <th>Brand_ASI</th>\n",
       "      <th>Brand_EWP</th>\n",
       "      <th>Brand_HE</th>\n",
       "      <th>Brand_HI</th>\n",
       "      <th>Brand_HSI</th>\n",
       "      <th>Brand_IBWPE</th>\n",
       "      <th>Brand_IBWPI</th>\n",
       "      <th>Brand_IBWR</th>\n",
       "      <th>Brand_IWP</th>\n",
       "    </tr>\n",
       "  </thead>\n",
       "  <tbody>\n",
       "    <tr>\n",
       "      <th>Plant</th>\n",
       "      <td>1.00</td>\n",
       "      <td>-0.12</td>\n",
       "      <td>0.20</td>\n",
       "      <td>0.03</td>\n",
       "      <td>0.19</td>\n",
       "      <td>-0.02</td>\n",
       "      <td>0.45</td>\n",
       "      <td>-0.23</td>\n",
       "      <td>0.23</td>\n",
       "      <td>-0.40</td>\n",
       "      <td>...</td>\n",
       "      <td>-0.23</td>\n",
       "      <td>-0.24</td>\n",
       "      <td>0.11</td>\n",
       "      <td>0.11</td>\n",
       "      <td>0.25</td>\n",
       "      <td>-0.09</td>\n",
       "      <td>0.04</td>\n",
       "      <td>0.15</td>\n",
       "      <td>0.04</td>\n",
       "      <td>0.48</td>\n",
       "    </tr>\n",
       "    <tr>\n",
       "      <th>Surface</th>\n",
       "      <td>-0.12</td>\n",
       "      <td>1.00</td>\n",
       "      <td>0.10</td>\n",
       "      <td>0.06</td>\n",
       "      <td>0.16</td>\n",
       "      <td>0.13</td>\n",
       "      <td>-0.01</td>\n",
       "      <td>-0.35</td>\n",
       "      <td>0.35</td>\n",
       "      <td>0.57</td>\n",
       "      <td>...</td>\n",
       "      <td>-0.47</td>\n",
       "      <td>-0.23</td>\n",
       "      <td>0.37</td>\n",
       "      <td>0.42</td>\n",
       "      <td>-0.27</td>\n",
       "      <td>-0.19</td>\n",
       "      <td>0.14</td>\n",
       "      <td>-0.08</td>\n",
       "      <td>0.17</td>\n",
       "      <td>-0.27</td>\n",
       "    </tr>\n",
       "    <tr>\n",
       "      <th>Pack</th>\n",
       "      <td>0.20</td>\n",
       "      <td>0.10</td>\n",
       "      <td>1.00</td>\n",
       "      <td>0.83</td>\n",
       "      <td>0.18</td>\n",
       "      <td>0.65</td>\n",
       "      <td>0.13</td>\n",
       "      <td>-0.22</td>\n",
       "      <td>0.22</td>\n",
       "      <td>-0.06</td>\n",
       "      <td>...</td>\n",
       "      <td>-0.11</td>\n",
       "      <td>-0.06</td>\n",
       "      <td>0.21</td>\n",
       "      <td>-0.05</td>\n",
       "      <td>-0.11</td>\n",
       "      <td>-0.10</td>\n",
       "      <td>0.11</td>\n",
       "      <td>0.05</td>\n",
       "      <td>0.16</td>\n",
       "      <td>0.22</td>\n",
       "    </tr>\n",
       "    <tr>\n",
       "      <th>Price</th>\n",
       "      <td>0.03</td>\n",
       "      <td>0.06</td>\n",
       "      <td>0.83</td>\n",
       "      <td>1.00</td>\n",
       "      <td>0.11</td>\n",
       "      <td>0.56</td>\n",
       "      <td>0.07</td>\n",
       "      <td>-0.13</td>\n",
       "      <td>0.13</td>\n",
       "      <td>0.03</td>\n",
       "      <td>...</td>\n",
       "      <td>-0.00</td>\n",
       "      <td>0.02</td>\n",
       "      <td>0.04</td>\n",
       "      <td>-0.07</td>\n",
       "      <td>-0.04</td>\n",
       "      <td>-0.08</td>\n",
       "      <td>0.04</td>\n",
       "      <td>0.02</td>\n",
       "      <td>0.20</td>\n",
       "      <td>-0.02</td>\n",
       "    </tr>\n",
       "    <tr>\n",
       "      <th>Year</th>\n",
       "      <td>0.19</td>\n",
       "      <td>0.16</td>\n",
       "      <td>0.18</td>\n",
       "      <td>0.11</td>\n",
       "      <td>1.00</td>\n",
       "      <td>0.02</td>\n",
       "      <td>0.08</td>\n",
       "      <td>-0.61</td>\n",
       "      <td>0.61</td>\n",
       "      <td>0.01</td>\n",
       "      <td>...</td>\n",
       "      <td>0.23</td>\n",
       "      <td>-0.13</td>\n",
       "      <td>0.40</td>\n",
       "      <td>0.20</td>\n",
       "      <td>-0.25</td>\n",
       "      <td>-0.18</td>\n",
       "      <td>0.15</td>\n",
       "      <td>-0.08</td>\n",
       "      <td>0.18</td>\n",
       "      <td>-0.05</td>\n",
       "    </tr>\n",
       "    <tr>\n",
       "      <th>Awarded_points</th>\n",
       "      <td>-0.02</td>\n",
       "      <td>0.13</td>\n",
       "      <td>0.65</td>\n",
       "      <td>0.56</td>\n",
       "      <td>0.02</td>\n",
       "      <td>1.00</td>\n",
       "      <td>0.01</td>\n",
       "      <td>-0.03</td>\n",
       "      <td>0.03</td>\n",
       "      <td>0.11</td>\n",
       "      <td>...</td>\n",
       "      <td>-0.10</td>\n",
       "      <td>-0.05</td>\n",
       "      <td>0.02</td>\n",
       "      <td>0.12</td>\n",
       "      <td>0.05</td>\n",
       "      <td>0.03</td>\n",
       "      <td>0.04</td>\n",
       "      <td>0.01</td>\n",
       "      <td>0.14</td>\n",
       "      <td>-0.10</td>\n",
       "    </tr>\n",
       "    <tr>\n",
       "      <th>Remark</th>\n",
       "      <td>0.45</td>\n",
       "      <td>-0.01</td>\n",
       "      <td>0.13</td>\n",
       "      <td>0.07</td>\n",
       "      <td>0.08</td>\n",
       "      <td>0.01</td>\n",
       "      <td>1.00</td>\n",
       "      <td>-0.21</td>\n",
       "      <td>0.21</td>\n",
       "      <td>-0.26</td>\n",
       "      <td>...</td>\n",
       "      <td>-0.18</td>\n",
       "      <td>-0.11</td>\n",
       "      <td>0.13</td>\n",
       "      <td>0.23</td>\n",
       "      <td>0.15</td>\n",
       "      <td>0.23</td>\n",
       "      <td>0.10</td>\n",
       "      <td>0.07</td>\n",
       "      <td>-0.14</td>\n",
       "      <td>0.03</td>\n",
       "    </tr>\n",
       "    <tr>\n",
       "      <th>Manufacturing_Plant_Bellary</th>\n",
       "      <td>-0.23</td>\n",
       "      <td>-0.35</td>\n",
       "      <td>-0.22</td>\n",
       "      <td>-0.13</td>\n",
       "      <td>-0.61</td>\n",
       "      <td>-0.03</td>\n",
       "      <td>-0.21</td>\n",
       "      <td>1.00</td>\n",
       "      <td>-1.00</td>\n",
       "      <td>0.31</td>\n",
       "      <td>...</td>\n",
       "      <td>0.07</td>\n",
       "      <td>0.06</td>\n",
       "      <td>-0.66</td>\n",
       "      <td>-0.03</td>\n",
       "      <td>0.15</td>\n",
       "      <td>0.11</td>\n",
       "      <td>-0.24</td>\n",
       "      <td>0.05</td>\n",
       "      <td>-0.30</td>\n",
       "      <td>0.15</td>\n",
       "    </tr>\n",
       "    <tr>\n",
       "      <th>Manufacturing_Plant_Vasind</th>\n",
       "      <td>0.23</td>\n",
       "      <td>0.35</td>\n",
       "      <td>0.22</td>\n",
       "      <td>0.13</td>\n",
       "      <td>0.61</td>\n",
       "      <td>0.03</td>\n",
       "      <td>0.21</td>\n",
       "      <td>-1.00</td>\n",
       "      <td>1.00</td>\n",
       "      <td>-0.31</td>\n",
       "      <td>...</td>\n",
       "      <td>-0.07</td>\n",
       "      <td>-0.06</td>\n",
       "      <td>0.66</td>\n",
       "      <td>0.03</td>\n",
       "      <td>-0.15</td>\n",
       "      <td>-0.11</td>\n",
       "      <td>0.24</td>\n",
       "      <td>-0.05</td>\n",
       "      <td>0.30</td>\n",
       "      <td>-0.15</td>\n",
       "    </tr>\n",
       "    <tr>\n",
       "      <th>Hub_Location_Aurangabad</th>\n",
       "      <td>-0.40</td>\n",
       "      <td>0.57</td>\n",
       "      <td>-0.06</td>\n",
       "      <td>0.03</td>\n",
       "      <td>0.01</td>\n",
       "      <td>0.11</td>\n",
       "      <td>-0.26</td>\n",
       "      <td>0.31</td>\n",
       "      <td>-0.31</td>\n",
       "      <td>1.00</td>\n",
       "      <td>...</td>\n",
       "      <td>-0.09</td>\n",
       "      <td>-0.15</td>\n",
       "      <td>-0.20</td>\n",
       "      <td>0.33</td>\n",
       "      <td>-0.24</td>\n",
       "      <td>-0.17</td>\n",
       "      <td>-0.08</td>\n",
       "      <td>-0.08</td>\n",
       "      <td>-0.09</td>\n",
       "      <td>-0.24</td>\n",
       "    </tr>\n",
       "    <tr>\n",
       "      <th>Hub_Location_Goa</th>\n",
       "      <td>0.23</td>\n",
       "      <td>0.35</td>\n",
       "      <td>0.22</td>\n",
       "      <td>0.13</td>\n",
       "      <td>0.61</td>\n",
       "      <td>0.03</td>\n",
       "      <td>0.21</td>\n",
       "      <td>-1.00</td>\n",
       "      <td>1.00</td>\n",
       "      <td>-0.31</td>\n",
       "      <td>...</td>\n",
       "      <td>-0.07</td>\n",
       "      <td>-0.06</td>\n",
       "      <td>0.66</td>\n",
       "      <td>0.03</td>\n",
       "      <td>-0.15</td>\n",
       "      <td>-0.11</td>\n",
       "      <td>0.24</td>\n",
       "      <td>-0.05</td>\n",
       "      <td>0.30</td>\n",
       "      <td>-0.15</td>\n",
       "    </tr>\n",
       "    <tr>\n",
       "      <th>Hub_Location_Kolhapur</th>\n",
       "      <td>0.23</td>\n",
       "      <td>-0.16</td>\n",
       "      <td>-0.00</td>\n",
       "      <td>0.02</td>\n",
       "      <td>0.29</td>\n",
       "      <td>-0.06</td>\n",
       "      <td>-0.00</td>\n",
       "      <td>0.09</td>\n",
       "      <td>-0.09</td>\n",
       "      <td>-0.15</td>\n",
       "      <td>...</td>\n",
       "      <td>0.30</td>\n",
       "      <td>-0.06</td>\n",
       "      <td>-0.06</td>\n",
       "      <td>-0.07</td>\n",
       "      <td>-0.07</td>\n",
       "      <td>-0.05</td>\n",
       "      <td>-0.02</td>\n",
       "      <td>-0.02</td>\n",
       "      <td>-0.03</td>\n",
       "      <td>-0.00</td>\n",
       "    </tr>\n",
       "    <tr>\n",
       "      <th>Hub_Location_Nagpur</th>\n",
       "      <td>-0.12</td>\n",
       "      <td>-0.58</td>\n",
       "      <td>-0.14</td>\n",
       "      <td>-0.12</td>\n",
       "      <td>-0.44</td>\n",
       "      <td>-0.13</td>\n",
       "      <td>0.02</td>\n",
       "      <td>0.33</td>\n",
       "      <td>-0.33</td>\n",
       "      <td>-0.52</td>\n",
       "      <td>...</td>\n",
       "      <td>0.15</td>\n",
       "      <td>0.28</td>\n",
       "      <td>-0.22</td>\n",
       "      <td>-0.24</td>\n",
       "      <td>0.09</td>\n",
       "      <td>0.33</td>\n",
       "      <td>-0.08</td>\n",
       "      <td>0.03</td>\n",
       "      <td>-0.10</td>\n",
       "      <td>0.10</td>\n",
       "    </tr>\n",
       "    <tr>\n",
       "      <th>Hub_Location_Nashik</th>\n",
       "      <td>0.37</td>\n",
       "      <td>-0.27</td>\n",
       "      <td>0.05</td>\n",
       "      <td>-0.03</td>\n",
       "      <td>-0.25</td>\n",
       "      <td>0.03</td>\n",
       "      <td>0.12</td>\n",
       "      <td>0.15</td>\n",
       "      <td>-0.15</td>\n",
       "      <td>-0.24</td>\n",
       "      <td>...</td>\n",
       "      <td>-0.21</td>\n",
       "      <td>-0.10</td>\n",
       "      <td>-0.10</td>\n",
       "      <td>-0.11</td>\n",
       "      <td>0.45</td>\n",
       "      <td>-0.09</td>\n",
       "      <td>-0.04</td>\n",
       "      <td>0.14</td>\n",
       "      <td>-0.05</td>\n",
       "      <td>0.39</td>\n",
       "    </tr>\n",
       "    <tr>\n",
       "      <th>Brand_AE</th>\n",
       "      <td>-0.33</td>\n",
       "      <td>0.60</td>\n",
       "      <td>-0.06</td>\n",
       "      <td>0.02</td>\n",
       "      <td>-0.33</td>\n",
       "      <td>-0.00</td>\n",
       "      <td>-0.27</td>\n",
       "      <td>0.20</td>\n",
       "      <td>-0.20</td>\n",
       "      <td>0.66</td>\n",
       "      <td>...</td>\n",
       "      <td>-0.28</td>\n",
       "      <td>-0.13</td>\n",
       "      <td>-0.13</td>\n",
       "      <td>-0.15</td>\n",
       "      <td>-0.16</td>\n",
       "      <td>-0.11</td>\n",
       "      <td>-0.05</td>\n",
       "      <td>-0.05</td>\n",
       "      <td>-0.06</td>\n",
       "      <td>-0.16</td>\n",
       "    </tr>\n",
       "    <tr>\n",
       "      <th>Brand_AI</th>\n",
       "      <td>-0.23</td>\n",
       "      <td>-0.47</td>\n",
       "      <td>-0.11</td>\n",
       "      <td>-0.00</td>\n",
       "      <td>0.23</td>\n",
       "      <td>-0.10</td>\n",
       "      <td>-0.18</td>\n",
       "      <td>0.07</td>\n",
       "      <td>-0.07</td>\n",
       "      <td>-0.09</td>\n",
       "      <td>...</td>\n",
       "      <td>1.00</td>\n",
       "      <td>-0.18</td>\n",
       "      <td>-0.17</td>\n",
       "      <td>-0.20</td>\n",
       "      <td>-0.21</td>\n",
       "      <td>-0.15</td>\n",
       "      <td>-0.06</td>\n",
       "      <td>-0.06</td>\n",
       "      <td>-0.08</td>\n",
       "      <td>-0.21</td>\n",
       "    </tr>\n",
       "    <tr>\n",
       "      <th>Brand_ASI</th>\n",
       "      <td>-0.24</td>\n",
       "      <td>-0.23</td>\n",
       "      <td>-0.06</td>\n",
       "      <td>0.02</td>\n",
       "      <td>-0.13</td>\n",
       "      <td>-0.05</td>\n",
       "      <td>-0.11</td>\n",
       "      <td>0.06</td>\n",
       "      <td>-0.06</td>\n",
       "      <td>-0.15</td>\n",
       "      <td>...</td>\n",
       "      <td>-0.18</td>\n",
       "      <td>1.00</td>\n",
       "      <td>-0.08</td>\n",
       "      <td>-0.09</td>\n",
       "      <td>-0.10</td>\n",
       "      <td>-0.07</td>\n",
       "      <td>-0.03</td>\n",
       "      <td>-0.03</td>\n",
       "      <td>-0.04</td>\n",
       "      <td>-0.10</td>\n",
       "    </tr>\n",
       "    <tr>\n",
       "      <th>Brand_EWP</th>\n",
       "      <td>0.11</td>\n",
       "      <td>0.37</td>\n",
       "      <td>0.21</td>\n",
       "      <td>0.04</td>\n",
       "      <td>0.40</td>\n",
       "      <td>0.02</td>\n",
       "      <td>0.13</td>\n",
       "      <td>-0.66</td>\n",
       "      <td>0.66</td>\n",
       "      <td>-0.20</td>\n",
       "      <td>...</td>\n",
       "      <td>-0.17</td>\n",
       "      <td>-0.08</td>\n",
       "      <td>1.00</td>\n",
       "      <td>-0.09</td>\n",
       "      <td>-0.10</td>\n",
       "      <td>-0.07</td>\n",
       "      <td>-0.03</td>\n",
       "      <td>-0.03</td>\n",
       "      <td>-0.04</td>\n",
       "      <td>-0.10</td>\n",
       "    </tr>\n",
       "    <tr>\n",
       "      <th>Brand_HE</th>\n",
       "      <td>0.11</td>\n",
       "      <td>0.42</td>\n",
       "      <td>-0.05</td>\n",
       "      <td>-0.07</td>\n",
       "      <td>0.20</td>\n",
       "      <td>0.12</td>\n",
       "      <td>0.23</td>\n",
       "      <td>-0.03</td>\n",
       "      <td>0.03</td>\n",
       "      <td>0.33</td>\n",
       "      <td>...</td>\n",
       "      <td>-0.20</td>\n",
       "      <td>-0.09</td>\n",
       "      <td>-0.09</td>\n",
       "      <td>1.00</td>\n",
       "      <td>-0.11</td>\n",
       "      <td>-0.08</td>\n",
       "      <td>-0.03</td>\n",
       "      <td>-0.03</td>\n",
       "      <td>-0.04</td>\n",
       "      <td>-0.11</td>\n",
       "    </tr>\n",
       "    <tr>\n",
       "      <th>Brand_HI</th>\n",
       "      <td>0.25</td>\n",
       "      <td>-0.27</td>\n",
       "      <td>-0.11</td>\n",
       "      <td>-0.04</td>\n",
       "      <td>-0.25</td>\n",
       "      <td>0.05</td>\n",
       "      <td>0.15</td>\n",
       "      <td>0.15</td>\n",
       "      <td>-0.15</td>\n",
       "      <td>-0.24</td>\n",
       "      <td>...</td>\n",
       "      <td>-0.21</td>\n",
       "      <td>-0.10</td>\n",
       "      <td>-0.10</td>\n",
       "      <td>-0.11</td>\n",
       "      <td>1.00</td>\n",
       "      <td>-0.09</td>\n",
       "      <td>-0.04</td>\n",
       "      <td>-0.04</td>\n",
       "      <td>-0.05</td>\n",
       "      <td>-0.12</td>\n",
       "    </tr>\n",
       "    <tr>\n",
       "      <th>Brand_HSI</th>\n",
       "      <td>-0.09</td>\n",
       "      <td>-0.19</td>\n",
       "      <td>-0.10</td>\n",
       "      <td>-0.08</td>\n",
       "      <td>-0.18</td>\n",
       "      <td>0.03</td>\n",
       "      <td>0.23</td>\n",
       "      <td>0.11</td>\n",
       "      <td>-0.11</td>\n",
       "      <td>-0.17</td>\n",
       "      <td>...</td>\n",
       "      <td>-0.15</td>\n",
       "      <td>-0.07</td>\n",
       "      <td>-0.07</td>\n",
       "      <td>-0.08</td>\n",
       "      <td>-0.09</td>\n",
       "      <td>1.00</td>\n",
       "      <td>-0.03</td>\n",
       "      <td>-0.03</td>\n",
       "      <td>-0.03</td>\n",
       "      <td>-0.09</td>\n",
       "    </tr>\n",
       "    <tr>\n",
       "      <th>Brand_IBWPE</th>\n",
       "      <td>0.04</td>\n",
       "      <td>0.14</td>\n",
       "      <td>0.11</td>\n",
       "      <td>0.04</td>\n",
       "      <td>0.15</td>\n",
       "      <td>0.04</td>\n",
       "      <td>0.10</td>\n",
       "      <td>-0.24</td>\n",
       "      <td>0.24</td>\n",
       "      <td>-0.08</td>\n",
       "      <td>...</td>\n",
       "      <td>-0.06</td>\n",
       "      <td>-0.03</td>\n",
       "      <td>-0.03</td>\n",
       "      <td>-0.03</td>\n",
       "      <td>-0.04</td>\n",
       "      <td>-0.03</td>\n",
       "      <td>1.00</td>\n",
       "      <td>-0.01</td>\n",
       "      <td>-0.01</td>\n",
       "      <td>-0.04</td>\n",
       "    </tr>\n",
       "    <tr>\n",
       "      <th>Brand_IBWPI</th>\n",
       "      <td>0.15</td>\n",
       "      <td>-0.08</td>\n",
       "      <td>0.05</td>\n",
       "      <td>0.02</td>\n",
       "      <td>-0.08</td>\n",
       "      <td>0.01</td>\n",
       "      <td>0.07</td>\n",
       "      <td>0.05</td>\n",
       "      <td>-0.05</td>\n",
       "      <td>-0.08</td>\n",
       "      <td>...</td>\n",
       "      <td>-0.06</td>\n",
       "      <td>-0.03</td>\n",
       "      <td>-0.03</td>\n",
       "      <td>-0.03</td>\n",
       "      <td>-0.04</td>\n",
       "      <td>-0.03</td>\n",
       "      <td>-0.01</td>\n",
       "      <td>1.00</td>\n",
       "      <td>-0.01</td>\n",
       "      <td>-0.04</td>\n",
       "    </tr>\n",
       "    <tr>\n",
       "      <th>Brand_IBWR</th>\n",
       "      <td>0.04</td>\n",
       "      <td>0.17</td>\n",
       "      <td>0.16</td>\n",
       "      <td>0.20</td>\n",
       "      <td>0.18</td>\n",
       "      <td>0.14</td>\n",
       "      <td>-0.14</td>\n",
       "      <td>-0.30</td>\n",
       "      <td>0.30</td>\n",
       "      <td>-0.09</td>\n",
       "      <td>...</td>\n",
       "      <td>-0.08</td>\n",
       "      <td>-0.04</td>\n",
       "      <td>-0.04</td>\n",
       "      <td>-0.04</td>\n",
       "      <td>-0.05</td>\n",
       "      <td>-0.03</td>\n",
       "      <td>-0.01</td>\n",
       "      <td>-0.01</td>\n",
       "      <td>1.00</td>\n",
       "      <td>-0.05</td>\n",
       "    </tr>\n",
       "    <tr>\n",
       "      <th>Brand_IWP</th>\n",
       "      <td>0.48</td>\n",
       "      <td>-0.27</td>\n",
       "      <td>0.22</td>\n",
       "      <td>-0.02</td>\n",
       "      <td>-0.05</td>\n",
       "      <td>-0.10</td>\n",
       "      <td>0.03</td>\n",
       "      <td>0.15</td>\n",
       "      <td>-0.15</td>\n",
       "      <td>-0.24</td>\n",
       "      <td>...</td>\n",
       "      <td>-0.21</td>\n",
       "      <td>-0.10</td>\n",
       "      <td>-0.10</td>\n",
       "      <td>-0.11</td>\n",
       "      <td>-0.12</td>\n",
       "      <td>-0.09</td>\n",
       "      <td>-0.04</td>\n",
       "      <td>-0.04</td>\n",
       "      <td>-0.05</td>\n",
       "      <td>1.00</td>\n",
       "    </tr>\n",
       "  </tbody>\n",
       "</table>\n",
       "<p>25 rows × 25 columns</p>\n",
       "</div>"
      ],
      "text/plain": [
       "                             Plant  Surface  Pack  Price  Year  \\\n",
       "Plant                         1.00    -0.12  0.20   0.03  0.19   \n",
       "Surface                      -0.12     1.00  0.10   0.06  0.16   \n",
       "Pack                          0.20     0.10  1.00   0.83  0.18   \n",
       "Price                         0.03     0.06  0.83   1.00  0.11   \n",
       "Year                          0.19     0.16  0.18   0.11  1.00   \n",
       "Awarded_points               -0.02     0.13  0.65   0.56  0.02   \n",
       "Remark                        0.45    -0.01  0.13   0.07  0.08   \n",
       "Manufacturing_Plant_Bellary  -0.23    -0.35 -0.22  -0.13 -0.61   \n",
       "Manufacturing_Plant_Vasind    0.23     0.35  0.22   0.13  0.61   \n",
       "Hub_Location_Aurangabad      -0.40     0.57 -0.06   0.03  0.01   \n",
       "Hub_Location_Goa              0.23     0.35  0.22   0.13  0.61   \n",
       "Hub_Location_Kolhapur         0.23    -0.16 -0.00   0.02  0.29   \n",
       "Hub_Location_Nagpur          -0.12    -0.58 -0.14  -0.12 -0.44   \n",
       "Hub_Location_Nashik           0.37    -0.27  0.05  -0.03 -0.25   \n",
       "Brand_AE                     -0.33     0.60 -0.06   0.02 -0.33   \n",
       "Brand_AI                     -0.23    -0.47 -0.11  -0.00  0.23   \n",
       "Brand_ASI                    -0.24    -0.23 -0.06   0.02 -0.13   \n",
       "Brand_EWP                     0.11     0.37  0.21   0.04  0.40   \n",
       "Brand_HE                      0.11     0.42 -0.05  -0.07  0.20   \n",
       "Brand_HI                      0.25    -0.27 -0.11  -0.04 -0.25   \n",
       "Brand_HSI                    -0.09    -0.19 -0.10  -0.08 -0.18   \n",
       "Brand_IBWPE                   0.04     0.14  0.11   0.04  0.15   \n",
       "Brand_IBWPI                   0.15    -0.08  0.05   0.02 -0.08   \n",
       "Brand_IBWR                    0.04     0.17  0.16   0.20  0.18   \n",
       "Brand_IWP                     0.48    -0.27  0.22  -0.02 -0.05   \n",
       "\n",
       "                             Awarded_points  Remark  \\\n",
       "Plant                                 -0.02    0.45   \n",
       "Surface                                0.13   -0.01   \n",
       "Pack                                   0.65    0.13   \n",
       "Price                                  0.56    0.07   \n",
       "Year                                   0.02    0.08   \n",
       "Awarded_points                         1.00    0.01   \n",
       "Remark                                 0.01    1.00   \n",
       "Manufacturing_Plant_Bellary           -0.03   -0.21   \n",
       "Manufacturing_Plant_Vasind             0.03    0.21   \n",
       "Hub_Location_Aurangabad                0.11   -0.26   \n",
       "Hub_Location_Goa                       0.03    0.21   \n",
       "Hub_Location_Kolhapur                 -0.06   -0.00   \n",
       "Hub_Location_Nagpur                   -0.13    0.02   \n",
       "Hub_Location_Nashik                    0.03    0.12   \n",
       "Brand_AE                              -0.00   -0.27   \n",
       "Brand_AI                              -0.10   -0.18   \n",
       "Brand_ASI                             -0.05   -0.11   \n",
       "Brand_EWP                              0.02    0.13   \n",
       "Brand_HE                               0.12    0.23   \n",
       "Brand_HI                               0.05    0.15   \n",
       "Brand_HSI                              0.03    0.23   \n",
       "Brand_IBWPE                            0.04    0.10   \n",
       "Brand_IBWPI                            0.01    0.07   \n",
       "Brand_IBWR                             0.14   -0.14   \n",
       "Brand_IWP                             -0.10    0.03   \n",
       "\n",
       "                             Manufacturing_Plant_Bellary  \\\n",
       "Plant                                              -0.23   \n",
       "Surface                                            -0.35   \n",
       "Pack                                               -0.22   \n",
       "Price                                              -0.13   \n",
       "Year                                               -0.61   \n",
       "Awarded_points                                     -0.03   \n",
       "Remark                                             -0.21   \n",
       "Manufacturing_Plant_Bellary                         1.00   \n",
       "Manufacturing_Plant_Vasind                         -1.00   \n",
       "Hub_Location_Aurangabad                             0.31   \n",
       "Hub_Location_Goa                                   -1.00   \n",
       "Hub_Location_Kolhapur                               0.09   \n",
       "Hub_Location_Nagpur                                 0.33   \n",
       "Hub_Location_Nashik                                 0.15   \n",
       "Brand_AE                                            0.20   \n",
       "Brand_AI                                            0.07   \n",
       "Brand_ASI                                           0.06   \n",
       "Brand_EWP                                          -0.66   \n",
       "Brand_HE                                           -0.03   \n",
       "Brand_HI                                            0.15   \n",
       "Brand_HSI                                           0.11   \n",
       "Brand_IBWPE                                        -0.24   \n",
       "Brand_IBWPI                                         0.05   \n",
       "Brand_IBWR                                         -0.30   \n",
       "Brand_IWP                                           0.15   \n",
       "\n",
       "                             Manufacturing_Plant_Vasind  \\\n",
       "Plant                                              0.23   \n",
       "Surface                                            0.35   \n",
       "Pack                                               0.22   \n",
       "Price                                              0.13   \n",
       "Year                                               0.61   \n",
       "Awarded_points                                     0.03   \n",
       "Remark                                             0.21   \n",
       "Manufacturing_Plant_Bellary                       -1.00   \n",
       "Manufacturing_Plant_Vasind                         1.00   \n",
       "Hub_Location_Aurangabad                           -0.31   \n",
       "Hub_Location_Goa                                   1.00   \n",
       "Hub_Location_Kolhapur                             -0.09   \n",
       "Hub_Location_Nagpur                               -0.33   \n",
       "Hub_Location_Nashik                               -0.15   \n",
       "Brand_AE                                          -0.20   \n",
       "Brand_AI                                          -0.07   \n",
       "Brand_ASI                                         -0.06   \n",
       "Brand_EWP                                          0.66   \n",
       "Brand_HE                                           0.03   \n",
       "Brand_HI                                          -0.15   \n",
       "Brand_HSI                                         -0.11   \n",
       "Brand_IBWPE                                        0.24   \n",
       "Brand_IBWPI                                       -0.05   \n",
       "Brand_IBWR                                         0.30   \n",
       "Brand_IWP                                         -0.15   \n",
       "\n",
       "                             Hub_Location_Aurangabad  ...  Brand_AI  \\\n",
       "Plant                                          -0.40  ...     -0.23   \n",
       "Surface                                         0.57  ...     -0.47   \n",
       "Pack                                           -0.06  ...     -0.11   \n",
       "Price                                           0.03  ...     -0.00   \n",
       "Year                                            0.01  ...      0.23   \n",
       "Awarded_points                                  0.11  ...     -0.10   \n",
       "Remark                                         -0.26  ...     -0.18   \n",
       "Manufacturing_Plant_Bellary                     0.31  ...      0.07   \n",
       "Manufacturing_Plant_Vasind                     -0.31  ...     -0.07   \n",
       "Hub_Location_Aurangabad                         1.00  ...     -0.09   \n",
       "Hub_Location_Goa                               -0.31  ...     -0.07   \n",
       "Hub_Location_Kolhapur                          -0.15  ...      0.30   \n",
       "Hub_Location_Nagpur                            -0.52  ...      0.15   \n",
       "Hub_Location_Nashik                            -0.24  ...     -0.21   \n",
       "Brand_AE                                        0.66  ...     -0.28   \n",
       "Brand_AI                                       -0.09  ...      1.00   \n",
       "Brand_ASI                                      -0.15  ...     -0.18   \n",
       "Brand_EWP                                      -0.20  ...     -0.17   \n",
       "Brand_HE                                        0.33  ...     -0.20   \n",
       "Brand_HI                                       -0.24  ...     -0.21   \n",
       "Brand_HSI                                      -0.17  ...     -0.15   \n",
       "Brand_IBWPE                                    -0.08  ...     -0.06   \n",
       "Brand_IBWPI                                    -0.08  ...     -0.06   \n",
       "Brand_IBWR                                     -0.09  ...     -0.08   \n",
       "Brand_IWP                                      -0.24  ...     -0.21   \n",
       "\n",
       "                             Brand_ASI  Brand_EWP  Brand_HE  Brand_HI  \\\n",
       "Plant                            -0.24       0.11      0.11      0.25   \n",
       "Surface                          -0.23       0.37      0.42     -0.27   \n",
       "Pack                             -0.06       0.21     -0.05     -0.11   \n",
       "Price                             0.02       0.04     -0.07     -0.04   \n",
       "Year                             -0.13       0.40      0.20     -0.25   \n",
       "Awarded_points                   -0.05       0.02      0.12      0.05   \n",
       "Remark                           -0.11       0.13      0.23      0.15   \n",
       "Manufacturing_Plant_Bellary       0.06      -0.66     -0.03      0.15   \n",
       "Manufacturing_Plant_Vasind       -0.06       0.66      0.03     -0.15   \n",
       "Hub_Location_Aurangabad          -0.15      -0.20      0.33     -0.24   \n",
       "Hub_Location_Goa                 -0.06       0.66      0.03     -0.15   \n",
       "Hub_Location_Kolhapur            -0.06      -0.06     -0.07     -0.07   \n",
       "Hub_Location_Nagpur               0.28      -0.22     -0.24      0.09   \n",
       "Hub_Location_Nashik              -0.10      -0.10     -0.11      0.45   \n",
       "Brand_AE                         -0.13      -0.13     -0.15     -0.16   \n",
       "Brand_AI                         -0.18      -0.17     -0.20     -0.21   \n",
       "Brand_ASI                         1.00      -0.08     -0.09     -0.10   \n",
       "Brand_EWP                        -0.08       1.00     -0.09     -0.10   \n",
       "Brand_HE                         -0.09      -0.09      1.00     -0.11   \n",
       "Brand_HI                         -0.10      -0.10     -0.11      1.00   \n",
       "Brand_HSI                        -0.07      -0.07     -0.08     -0.09   \n",
       "Brand_IBWPE                      -0.03      -0.03     -0.03     -0.04   \n",
       "Brand_IBWPI                      -0.03      -0.03     -0.03     -0.04   \n",
       "Brand_IBWR                       -0.04      -0.04     -0.04     -0.05   \n",
       "Brand_IWP                        -0.10      -0.10     -0.11     -0.12   \n",
       "\n",
       "                             Brand_HSI  Brand_IBWPE  Brand_IBWPI  Brand_IBWR  \\\n",
       "Plant                            -0.09         0.04         0.15        0.04   \n",
       "Surface                          -0.19         0.14        -0.08        0.17   \n",
       "Pack                             -0.10         0.11         0.05        0.16   \n",
       "Price                            -0.08         0.04         0.02        0.20   \n",
       "Year                             -0.18         0.15        -0.08        0.18   \n",
       "Awarded_points                    0.03         0.04         0.01        0.14   \n",
       "Remark                            0.23         0.10         0.07       -0.14   \n",
       "Manufacturing_Plant_Bellary       0.11        -0.24         0.05       -0.30   \n",
       "Manufacturing_Plant_Vasind       -0.11         0.24        -0.05        0.30   \n",
       "Hub_Location_Aurangabad          -0.17        -0.08        -0.08       -0.09   \n",
       "Hub_Location_Goa                 -0.11         0.24        -0.05        0.30   \n",
       "Hub_Location_Kolhapur            -0.05        -0.02        -0.02       -0.03   \n",
       "Hub_Location_Nagpur               0.33        -0.08         0.03       -0.10   \n",
       "Hub_Location_Nashik              -0.09        -0.04         0.14       -0.05   \n",
       "Brand_AE                         -0.11        -0.05        -0.05       -0.06   \n",
       "Brand_AI                         -0.15        -0.06        -0.06       -0.08   \n",
       "Brand_ASI                        -0.07        -0.03        -0.03       -0.04   \n",
       "Brand_EWP                        -0.07        -0.03        -0.03       -0.04   \n",
       "Brand_HE                         -0.08        -0.03        -0.03       -0.04   \n",
       "Brand_HI                         -0.09        -0.04        -0.04       -0.05   \n",
       "Brand_HSI                         1.00        -0.03        -0.03       -0.03   \n",
       "Brand_IBWPE                      -0.03         1.00        -0.01       -0.01   \n",
       "Brand_IBWPI                      -0.03        -0.01         1.00       -0.01   \n",
       "Brand_IBWR                       -0.03        -0.01        -0.01        1.00   \n",
       "Brand_IWP                        -0.09        -0.04        -0.04       -0.05   \n",
       "\n",
       "                             Brand_IWP  \n",
       "Plant                             0.48  \n",
       "Surface                          -0.27  \n",
       "Pack                              0.22  \n",
       "Price                            -0.02  \n",
       "Year                             -0.05  \n",
       "Awarded_points                   -0.10  \n",
       "Remark                            0.03  \n",
       "Manufacturing_Plant_Bellary       0.15  \n",
       "Manufacturing_Plant_Vasind       -0.15  \n",
       "Hub_Location_Aurangabad          -0.24  \n",
       "Hub_Location_Goa                 -0.15  \n",
       "Hub_Location_Kolhapur            -0.00  \n",
       "Hub_Location_Nagpur               0.10  \n",
       "Hub_Location_Nashik               0.39  \n",
       "Brand_AE                         -0.16  \n",
       "Brand_AI                         -0.21  \n",
       "Brand_ASI                        -0.10  \n",
       "Brand_EWP                        -0.10  \n",
       "Brand_HE                         -0.11  \n",
       "Brand_HI                         -0.12  \n",
       "Brand_HSI                        -0.09  \n",
       "Brand_IBWPE                      -0.04  \n",
       "Brand_IBWPI                      -0.04  \n",
       "Brand_IBWR                       -0.05  \n",
       "Brand_IWP                         1.00  \n",
       "\n",
       "[25 rows x 25 columns]"
      ]
     },
     "execution_count": 35,
     "metadata": {},
     "output_type": "execute_result"
    }
   ],
   "source": [
    "df.corr()"
   ]
  },
  {
   "cell_type": "code",
   "execution_count": 36,
   "id": "0d4be6ea",
   "metadata": {},
   "outputs": [],
   "source": [
    "#plt.figure(figsize=(10,10))\n",
    "#sns.heatmap(df.corr(),annot=True,cmap='rainbow')"
   ]
  },
  {
   "cell_type": "code",
   "execution_count": 37,
   "id": "31501fbd",
   "metadata": {},
   "outputs": [],
   "source": [
    "#sns.pairplot(df)"
   ]
  },
  {
   "cell_type": "code",
   "execution_count": 38,
   "id": "090ce511",
   "metadata": {},
   "outputs": [],
   "source": [
    "x= df.drop('Remark',axis=1)\n",
    "y= df['Remark']"
   ]
  },
  {
   "cell_type": "markdown",
   "id": "c8e12a0e",
   "metadata": {},
   "source": [
    "2.No multicolinearity"
   ]
  },
  {
   "cell_type": "code",
   "execution_count": 39,
   "id": "62b2a182",
   "metadata": {},
   "outputs": [
    {
     "data": {
      "text/plain": [
       "<AxesSubplot:>"
      ]
     },
     "execution_count": 39,
     "metadata": {},
     "output_type": "execute_result"
    },
    {
     "data": {
      "image/png": "[encoded data removed]",
      "text/plain": [
       "<Figure size 720x720 with 1 Axes>"
      ]
     },
     "metadata": {
      "needs_background": "light"
     },
     "output_type": "display_data"
    }
   ],
   "source": [
    "\n",
    "vif_list=[]\n",
    "for i in range (x.shape[1]):\n",
    "    vif=variance_inflation_factor(x.to_numpy(),i)\n",
    "    vif_list.append(vif)\n",
    "fig=plt.figure(figsize=(10,10))\n",
    "s1=pd.Series(vif_list,index=x.columns)\n",
    "s1.sort_values().plot(kind=\"barh\")\n"
   ]
  },
  {
   "cell_type": "markdown",
   "id": "96193886",
   "metadata": {},
   "source": [
    "# Train Test Split"
   ]
  },
  {
   "cell_type": "code",
   "execution_count": 40,
   "id": "1a47f6d6",
   "metadata": {},
   "outputs": [],
   "source": [
    "x_train,x_test,y_train,y_test = train_test_split(x,y,test_size=0.20,random_state=11)\n"
   ]
  },
  {
   "cell_type": "code",
   "execution_count": 41,
   "id": "768458ff",
   "metadata": {},
   "outputs": [
    {
     "data": {
      "text/plain": [
       "1    384\n",
       "0    321\n",
       "Name: Remark, dtype: int64"
      ]
     },
     "execution_count": 41,
     "metadata": {},
     "output_type": "execute_result"
    }
   ],
   "source": [
    "df['Remark'].value_counts()"
   ]
  },
  {
   "cell_type": "code",
   "execution_count": 42,
   "id": "9074b04c",
   "metadata": {},
   "outputs": [],
   "source": [
    "# Accuracy using lazypredict\n",
    "\n",
    "#clf=LazyClassifier(verbose=0,ignore_warnings=True,custom_metric=None)\n",
    "\n",
    "#models,predictions=clf.fit(x_train,y_test,y_train,y_test)\n",
    "#print(models)"
   ]
  },
  {
   "cell_type": "code",
   "execution_count": 43,
   "id": "1e447cf7",
   "metadata": {},
   "outputs": [
    {
     "data": {
      "text/html": [
       "<div>\n",
       "<style scoped>\n",
       "    .dataframe tbody tr th:only-of-type {\n",
       "        vertical-align: middle;\n",
       "    }\n",
       "\n",
       "    .dataframe tbody tr th {\n",
       "        vertical-align: top;\n",
       "    }\n",
       "\n",
       "    .dataframe thead th {\n",
       "        text-align: right;\n",
       "    }\n",
       "</style>\n",
       "<table border=\"1\" class=\"dataframe\">\n",
       "  <thead>\n",
       "    <tr style=\"text-align: right;\">\n",
       "      <th></th>\n",
       "      <th>Plant</th>\n",
       "      <th>Surface</th>\n",
       "      <th>Pack</th>\n",
       "      <th>Price</th>\n",
       "      <th>Year</th>\n",
       "      <th>Awarded_points</th>\n",
       "      <th>Manufacturing_Plant_Bellary</th>\n",
       "      <th>Manufacturing_Plant_Vasind</th>\n",
       "      <th>Hub_Location_Aurangabad</th>\n",
       "      <th>Hub_Location_Goa</th>\n",
       "      <th>...</th>\n",
       "      <th>Brand_AI</th>\n",
       "      <th>Brand_ASI</th>\n",
       "      <th>Brand_EWP</th>\n",
       "      <th>Brand_HE</th>\n",
       "      <th>Brand_HI</th>\n",
       "      <th>Brand_HSI</th>\n",
       "      <th>Brand_IBWPE</th>\n",
       "      <th>Brand_IBWPI</th>\n",
       "      <th>Brand_IBWR</th>\n",
       "      <th>Brand_IWP</th>\n",
       "    </tr>\n",
       "  </thead>\n",
       "  <tbody>\n",
       "    <tr>\n",
       "      <th>0</th>\n",
       "      <td>0.50</td>\n",
       "      <td>1.00</td>\n",
       "      <td>1.00</td>\n",
       "      <td>0.46</td>\n",
       "      <td>1.00</td>\n",
       "      <td>0.28</td>\n",
       "      <td>0.00</td>\n",
       "      <td>1.00</td>\n",
       "      <td>0.00</td>\n",
       "      <td>1.00</td>\n",
       "      <td>...</td>\n",
       "      <td>0.00</td>\n",
       "      <td>0.00</td>\n",
       "      <td>1.00</td>\n",
       "      <td>0.00</td>\n",
       "      <td>0.00</td>\n",
       "      <td>0.00</td>\n",
       "      <td>0.00</td>\n",
       "      <td>0.00</td>\n",
       "      <td>0.00</td>\n",
       "      <td>0.00</td>\n",
       "    </tr>\n",
       "    <tr>\n",
       "      <th>1</th>\n",
       "      <td>1.00</td>\n",
       "      <td>0.00</td>\n",
       "      <td>1.00</td>\n",
       "      <td>0.39</td>\n",
       "      <td>1.00</td>\n",
       "      <td>0.06</td>\n",
       "      <td>1.00</td>\n",
       "      <td>0.00</td>\n",
       "      <td>0.00</td>\n",
       "      <td>0.00</td>\n",
       "      <td>...</td>\n",
       "      <td>0.00</td>\n",
       "      <td>0.00</td>\n",
       "      <td>0.00</td>\n",
       "      <td>0.00</td>\n",
       "      <td>0.00</td>\n",
       "      <td>0.00</td>\n",
       "      <td>0.00</td>\n",
       "      <td>0.00</td>\n",
       "      <td>0.00</td>\n",
       "      <td>1.00</td>\n",
       "    </tr>\n",
       "    <tr>\n",
       "      <th>2</th>\n",
       "      <td>0.00</td>\n",
       "      <td>0.00</td>\n",
       "      <td>0.00</td>\n",
       "      <td>0.02</td>\n",
       "      <td>1.00</td>\n",
       "      <td>0.01</td>\n",
       "      <td>1.00</td>\n",
       "      <td>0.00</td>\n",
       "      <td>1.00</td>\n",
       "      <td>0.00</td>\n",
       "      <td>...</td>\n",
       "      <td>1.00</td>\n",
       "      <td>0.00</td>\n",
       "      <td>0.00</td>\n",
       "      <td>0.00</td>\n",
       "      <td>0.00</td>\n",
       "      <td>0.00</td>\n",
       "      <td>0.00</td>\n",
       "      <td>0.00</td>\n",
       "      <td>0.00</td>\n",
       "      <td>0.00</td>\n",
       "    </tr>\n",
       "    <tr>\n",
       "      <th>3</th>\n",
       "      <td>0.50</td>\n",
       "      <td>1.00</td>\n",
       "      <td>0.00</td>\n",
       "      <td>0.04</td>\n",
       "      <td>0.67</td>\n",
       "      <td>0.03</td>\n",
       "      <td>1.00</td>\n",
       "      <td>0.00</td>\n",
       "      <td>1.00</td>\n",
       "      <td>0.00</td>\n",
       "      <td>...</td>\n",
       "      <td>0.00</td>\n",
       "      <td>0.00</td>\n",
       "      <td>0.00</td>\n",
       "      <td>1.00</td>\n",
       "      <td>0.00</td>\n",
       "      <td>0.00</td>\n",
       "      <td>0.00</td>\n",
       "      <td>0.00</td>\n",
       "      <td>0.00</td>\n",
       "      <td>0.00</td>\n",
       "    </tr>\n",
       "    <tr>\n",
       "      <th>4</th>\n",
       "      <td>0.25</td>\n",
       "      <td>0.00</td>\n",
       "      <td>0.16</td>\n",
       "      <td>0.33</td>\n",
       "      <td>0.33</td>\n",
       "      <td>0.20</td>\n",
       "      <td>1.00</td>\n",
       "      <td>0.00</td>\n",
       "      <td>0.00</td>\n",
       "      <td>0.00</td>\n",
       "      <td>...</td>\n",
       "      <td>0.00</td>\n",
       "      <td>0.00</td>\n",
       "      <td>0.00</td>\n",
       "      <td>0.00</td>\n",
       "      <td>0.00</td>\n",
       "      <td>1.00</td>\n",
       "      <td>0.00</td>\n",
       "      <td>0.00</td>\n",
       "      <td>0.00</td>\n",
       "      <td>0.00</td>\n",
       "    </tr>\n",
       "    <tr>\n",
       "      <th>...</th>\n",
       "      <td>...</td>\n",
       "      <td>...</td>\n",
       "      <td>...</td>\n",
       "      <td>...</td>\n",
       "      <td>...</td>\n",
       "      <td>...</td>\n",
       "      <td>...</td>\n",
       "      <td>...</td>\n",
       "      <td>...</td>\n",
       "      <td>...</td>\n",
       "      <td>...</td>\n",
       "      <td>...</td>\n",
       "      <td>...</td>\n",
       "      <td>...</td>\n",
       "      <td>...</td>\n",
       "      <td>...</td>\n",
       "      <td>...</td>\n",
       "      <td>...</td>\n",
       "      <td>...</td>\n",
       "      <td>...</td>\n",
       "      <td>...</td>\n",
       "    </tr>\n",
       "    <tr>\n",
       "      <th>559</th>\n",
       "      <td>0.50</td>\n",
       "      <td>1.00</td>\n",
       "      <td>1.00</td>\n",
       "      <td>0.46</td>\n",
       "      <td>1.00</td>\n",
       "      <td>0.28</td>\n",
       "      <td>0.00</td>\n",
       "      <td>1.00</td>\n",
       "      <td>0.00</td>\n",
       "      <td>1.00</td>\n",
       "      <td>...</td>\n",
       "      <td>0.00</td>\n",
       "      <td>0.00</td>\n",
       "      <td>1.00</td>\n",
       "      <td>0.00</td>\n",
       "      <td>0.00</td>\n",
       "      <td>0.00</td>\n",
       "      <td>0.00</td>\n",
       "      <td>0.00</td>\n",
       "      <td>0.00</td>\n",
       "      <td>0.00</td>\n",
       "    </tr>\n",
       "    <tr>\n",
       "      <th>560</th>\n",
       "      <td>0.75</td>\n",
       "      <td>0.00</td>\n",
       "      <td>0.16</td>\n",
       "      <td>0.17</td>\n",
       "      <td>1.00</td>\n",
       "      <td>0.15</td>\n",
       "      <td>0.00</td>\n",
       "      <td>1.00</td>\n",
       "      <td>0.00</td>\n",
       "      <td>1.00</td>\n",
       "      <td>...</td>\n",
       "      <td>1.00</td>\n",
       "      <td>0.00</td>\n",
       "      <td>0.00</td>\n",
       "      <td>0.00</td>\n",
       "      <td>0.00</td>\n",
       "      <td>0.00</td>\n",
       "      <td>0.00</td>\n",
       "      <td>0.00</td>\n",
       "      <td>0.00</td>\n",
       "      <td>0.00</td>\n",
       "    </tr>\n",
       "    <tr>\n",
       "      <th>561</th>\n",
       "      <td>0.00</td>\n",
       "      <td>1.00</td>\n",
       "      <td>0.16</td>\n",
       "      <td>0.17</td>\n",
       "      <td>0.33</td>\n",
       "      <td>0.10</td>\n",
       "      <td>1.00</td>\n",
       "      <td>0.00</td>\n",
       "      <td>1.00</td>\n",
       "      <td>0.00</td>\n",
       "      <td>...</td>\n",
       "      <td>0.00</td>\n",
       "      <td>0.00</td>\n",
       "      <td>0.00</td>\n",
       "      <td>0.00</td>\n",
       "      <td>0.00</td>\n",
       "      <td>0.00</td>\n",
       "      <td>0.00</td>\n",
       "      <td>0.00</td>\n",
       "      <td>0.00</td>\n",
       "      <td>0.00</td>\n",
       "    </tr>\n",
       "    <tr>\n",
       "      <th>562</th>\n",
       "      <td>0.00</td>\n",
       "      <td>1.00</td>\n",
       "      <td>0.00</td>\n",
       "      <td>0.02</td>\n",
       "      <td>0.33</td>\n",
       "      <td>0.01</td>\n",
       "      <td>1.00</td>\n",
       "      <td>0.00</td>\n",
       "      <td>1.00</td>\n",
       "      <td>0.00</td>\n",
       "      <td>...</td>\n",
       "      <td>0.00</td>\n",
       "      <td>0.00</td>\n",
       "      <td>0.00</td>\n",
       "      <td>0.00</td>\n",
       "      <td>0.00</td>\n",
       "      <td>0.00</td>\n",
       "      <td>0.00</td>\n",
       "      <td>0.00</td>\n",
       "      <td>0.00</td>\n",
       "      <td>0.00</td>\n",
       "    </tr>\n",
       "    <tr>\n",
       "      <th>563</th>\n",
       "      <td>1.00</td>\n",
       "      <td>0.00</td>\n",
       "      <td>1.00</td>\n",
       "      <td>0.39</td>\n",
       "      <td>0.33</td>\n",
       "      <td>0.24</td>\n",
       "      <td>1.00</td>\n",
       "      <td>0.00</td>\n",
       "      <td>0.00</td>\n",
       "      <td>0.00</td>\n",
       "      <td>...</td>\n",
       "      <td>0.00</td>\n",
       "      <td>0.00</td>\n",
       "      <td>0.00</td>\n",
       "      <td>0.00</td>\n",
       "      <td>0.00</td>\n",
       "      <td>0.00</td>\n",
       "      <td>0.00</td>\n",
       "      <td>0.00</td>\n",
       "      <td>0.00</td>\n",
       "      <td>1.00</td>\n",
       "    </tr>\n",
       "  </tbody>\n",
       "</table>\n",
       "<p>564 rows × 24 columns</p>\n",
       "</div>"
      ],
      "text/plain": [
       "     Plant  Surface  Pack  Price  Year  Awarded_points  \\\n",
       "0     0.50     1.00  1.00   0.46  1.00            0.28   \n",
       "1     1.00     0.00  1.00   0.39  1.00            0.06   \n",
       "2     0.00     0.00  0.00   0.02  1.00            0.01   \n",
       "3     0.50     1.00  0.00   0.04  0.67            0.03   \n",
       "4     0.25     0.00  0.16   0.33  0.33            0.20   \n",
       "..     ...      ...   ...    ...   ...             ...   \n",
       "559   0.50     1.00  1.00   0.46  1.00            0.28   \n",
       "560   0.75     0.00  0.16   0.17  1.00            0.15   \n",
       "561   0.00     1.00  0.16   0.17  0.33            0.10   \n",
       "562   0.00     1.00  0.00   0.02  0.33            0.01   \n",
       "563   1.00     0.00  1.00   0.39  0.33            0.24   \n",
       "\n",
       "     Manufacturing_Plant_Bellary  Manufacturing_Plant_Vasind  \\\n",
       "0                           0.00                        1.00   \n",
       "1                           1.00                        0.00   \n",
       "2                           1.00                        0.00   \n",
       "3                           1.00                        0.00   \n",
       "4                           1.00                        0.00   \n",
       "..                           ...                         ...   \n",
       "559                         0.00                        1.00   \n",
       "560                         0.00                        1.00   \n",
       "561                         1.00                        0.00   \n",
       "562                         1.00                        0.00   \n",
       "563                         1.00                        0.00   \n",
       "\n",
       "     Hub_Location_Aurangabad  Hub_Location_Goa  ...  Brand_AI  Brand_ASI  \\\n",
       "0                       0.00              1.00  ...      0.00       0.00   \n",
       "1                       0.00              0.00  ...      0.00       0.00   \n",
       "2                       1.00              0.00  ...      1.00       0.00   \n",
       "3                       1.00              0.00  ...      0.00       0.00   \n",
       "4                       0.00              0.00  ...      0.00       0.00   \n",
       "..                       ...               ...  ...       ...        ...   \n",
       "559                     0.00              1.00  ...      0.00       0.00   \n",
       "560                     0.00              1.00  ...      1.00       0.00   \n",
       "561                     1.00              0.00  ...      0.00       0.00   \n",
       "562                     1.00              0.00  ...      0.00       0.00   \n",
       "563                     0.00              0.00  ...      0.00       0.00   \n",
       "\n",
       "     Brand_EWP  Brand_HE  Brand_HI  Brand_HSI  Brand_IBWPE  Brand_IBWPI  \\\n",
       "0         1.00      0.00      0.00       0.00         0.00         0.00   \n",
       "1         0.00      0.00      0.00       0.00         0.00         0.00   \n",
       "2         0.00      0.00      0.00       0.00         0.00         0.00   \n",
       "3         0.00      1.00      0.00       0.00         0.00         0.00   \n",
       "4         0.00      0.00      0.00       1.00         0.00         0.00   \n",
       "..         ...       ...       ...        ...          ...          ...   \n",
       "559       1.00      0.00      0.00       0.00         0.00         0.00   \n",
       "560       0.00      0.00      0.00       0.00         0.00         0.00   \n",
       "561       0.00      0.00      0.00       0.00         0.00         0.00   \n",
       "562       0.00      0.00      0.00       0.00         0.00         0.00   \n",
       "563       0.00      0.00      0.00       0.00         0.00         0.00   \n",
       "\n",
       "     Brand_IBWR  Brand_IWP  \n",
       "0          0.00       0.00  \n",
       "1          0.00       1.00  \n",
       "2          0.00       0.00  \n",
       "3          0.00       0.00  \n",
       "4          0.00       0.00  \n",
       "..          ...        ...  \n",
       "559        0.00       0.00  \n",
       "560        0.00       0.00  \n",
       "561        0.00       0.00  \n",
       "562        0.00       0.00  \n",
       "563        0.00       1.00  \n",
       "\n",
       "[564 rows x 24 columns]"
      ]
     },
     "execution_count": 43,
     "metadata": {},
     "output_type": "execute_result"
    }
   ],
   "source": [
    "# Create instance \n",
    "normal_scalar = MinMaxScaler()\n",
    "\n",
    "#array = normal_scalar.fit(x_train)\n",
    "array=normal_scalar.fit_transform(x_train)\n",
    "\n",
    "x_train_normal = pd.DataFrame(array,columns=x.columns)\n",
    "x_train_normal\n",
    "\n"
   ]
  },
  {
   "cell_type": "code",
   "execution_count": 44,
   "id": "b95d8fd1",
   "metadata": {},
   "outputs": [
    {
     "data": {
      "text/html": [
       "<div>\n",
       "<style scoped>\n",
       "    .dataframe tbody tr th:only-of-type {\n",
       "        vertical-align: middle;\n",
       "    }\n",
       "\n",
       "    .dataframe tbody tr th {\n",
       "        vertical-align: top;\n",
       "    }\n",
       "\n",
       "    .dataframe thead th {\n",
       "        text-align: right;\n",
       "    }\n",
       "</style>\n",
       "<table border=\"1\" class=\"dataframe\">\n",
       "  <thead>\n",
       "    <tr style=\"text-align: right;\">\n",
       "      <th></th>\n",
       "      <th>Plant</th>\n",
       "      <th>Surface</th>\n",
       "      <th>Pack</th>\n",
       "      <th>Price</th>\n",
       "      <th>Year</th>\n",
       "      <th>Awarded_points</th>\n",
       "      <th>Manufacturing_Plant_Bellary</th>\n",
       "      <th>Manufacturing_Plant_Vasind</th>\n",
       "      <th>Hub_Location_Aurangabad</th>\n",
       "      <th>Hub_Location_Goa</th>\n",
       "      <th>...</th>\n",
       "      <th>Brand_AI</th>\n",
       "      <th>Brand_ASI</th>\n",
       "      <th>Brand_EWP</th>\n",
       "      <th>Brand_HE</th>\n",
       "      <th>Brand_HI</th>\n",
       "      <th>Brand_HSI</th>\n",
       "      <th>Brand_IBWPE</th>\n",
       "      <th>Brand_IBWPI</th>\n",
       "      <th>Brand_IBWR</th>\n",
       "      <th>Brand_IWP</th>\n",
       "    </tr>\n",
       "  </thead>\n",
       "  <tbody>\n",
       "    <tr>\n",
       "      <th>0</th>\n",
       "      <td>0.31</td>\n",
       "      <td>1.29</td>\n",
       "      <td>1.64</td>\n",
       "      <td>0.78</td>\n",
       "      <td>1.38</td>\n",
       "      <td>0.56</td>\n",
       "      <td>-2.34</td>\n",
       "      <td>2.34</td>\n",
       "      <td>-0.72</td>\n",
       "      <td>2.34</td>\n",
       "      <td>...</td>\n",
       "      <td>-0.59</td>\n",
       "      <td>-0.29</td>\n",
       "      <td>3.57</td>\n",
       "      <td>-0.33</td>\n",
       "      <td>-0.35</td>\n",
       "      <td>-0.25</td>\n",
       "      <td>-0.10</td>\n",
       "      <td>-0.12</td>\n",
       "      <td>-0.13</td>\n",
       "      <td>-0.34</td>\n",
       "    </tr>\n",
       "    <tr>\n",
       "      <th>1</th>\n",
       "      <td>1.79</td>\n",
       "      <td>-0.78</td>\n",
       "      <td>1.64</td>\n",
       "      <td>0.53</td>\n",
       "      <td>1.38</td>\n",
       "      <td>-0.52</td>\n",
       "      <td>0.43</td>\n",
       "      <td>-0.43</td>\n",
       "      <td>-0.72</td>\n",
       "      <td>-0.43</td>\n",
       "      <td>...</td>\n",
       "      <td>-0.59</td>\n",
       "      <td>-0.29</td>\n",
       "      <td>-0.28</td>\n",
       "      <td>-0.33</td>\n",
       "      <td>-0.35</td>\n",
       "      <td>-0.25</td>\n",
       "      <td>-0.10</td>\n",
       "      <td>-0.12</td>\n",
       "      <td>-0.13</td>\n",
       "      <td>2.95</td>\n",
       "    </tr>\n",
       "    <tr>\n",
       "      <th>2</th>\n",
       "      <td>-1.17</td>\n",
       "      <td>-0.78</td>\n",
       "      <td>-0.81</td>\n",
       "      <td>-0.82</td>\n",
       "      <td>1.38</td>\n",
       "      <td>-0.71</td>\n",
       "      <td>0.43</td>\n",
       "      <td>-0.43</td>\n",
       "      <td>1.39</td>\n",
       "      <td>-0.43</td>\n",
       "      <td>...</td>\n",
       "      <td>1.68</td>\n",
       "      <td>-0.29</td>\n",
       "      <td>-0.28</td>\n",
       "      <td>-0.33</td>\n",
       "      <td>-0.35</td>\n",
       "      <td>-0.25</td>\n",
       "      <td>-0.10</td>\n",
       "      <td>-0.12</td>\n",
       "      <td>-0.13</td>\n",
       "      <td>-0.34</td>\n",
       "    </tr>\n",
       "    <tr>\n",
       "      <th>3</th>\n",
       "      <td>0.31</td>\n",
       "      <td>1.29</td>\n",
       "      <td>-0.81</td>\n",
       "      <td>-0.74</td>\n",
       "      <td>0.33</td>\n",
       "      <td>-0.65</td>\n",
       "      <td>0.43</td>\n",
       "      <td>-0.43</td>\n",
       "      <td>1.39</td>\n",
       "      <td>-0.43</td>\n",
       "      <td>...</td>\n",
       "      <td>-0.59</td>\n",
       "      <td>-0.29</td>\n",
       "      <td>-0.28</td>\n",
       "      <td>3.07</td>\n",
       "      <td>-0.35</td>\n",
       "      <td>-0.25</td>\n",
       "      <td>-0.10</td>\n",
       "      <td>-0.12</td>\n",
       "      <td>-0.13</td>\n",
       "      <td>-0.34</td>\n",
       "    </tr>\n",
       "    <tr>\n",
       "      <th>4</th>\n",
       "      <td>-0.43</td>\n",
       "      <td>-0.78</td>\n",
       "      <td>-0.42</td>\n",
       "      <td>0.29</td>\n",
       "      <td>-0.73</td>\n",
       "      <td>0.17</td>\n",
       "      <td>0.43</td>\n",
       "      <td>-0.43</td>\n",
       "      <td>-0.72</td>\n",
       "      <td>-0.43</td>\n",
       "      <td>...</td>\n",
       "      <td>-0.59</td>\n",
       "      <td>-0.29</td>\n",
       "      <td>-0.28</td>\n",
       "      <td>-0.33</td>\n",
       "      <td>-0.35</td>\n",
       "      <td>4.01</td>\n",
       "      <td>-0.10</td>\n",
       "      <td>-0.12</td>\n",
       "      <td>-0.13</td>\n",
       "      <td>-0.34</td>\n",
       "    </tr>\n",
       "    <tr>\n",
       "      <th>...</th>\n",
       "      <td>...</td>\n",
       "      <td>...</td>\n",
       "      <td>...</td>\n",
       "      <td>...</td>\n",
       "      <td>...</td>\n",
       "      <td>...</td>\n",
       "      <td>...</td>\n",
       "      <td>...</td>\n",
       "      <td>...</td>\n",
       "      <td>...</td>\n",
       "      <td>...</td>\n",
       "      <td>...</td>\n",
       "      <td>...</td>\n",
       "      <td>...</td>\n",
       "      <td>...</td>\n",
       "      <td>...</td>\n",
       "      <td>...</td>\n",
       "      <td>...</td>\n",
       "      <td>...</td>\n",
       "      <td>...</td>\n",
       "      <td>...</td>\n",
       "    </tr>\n",
       "    <tr>\n",
       "      <th>559</th>\n",
       "      <td>0.31</td>\n",
       "      <td>1.29</td>\n",
       "      <td>1.64</td>\n",
       "      <td>0.78</td>\n",
       "      <td>1.38</td>\n",
       "      <td>0.56</td>\n",
       "      <td>-2.34</td>\n",
       "      <td>2.34</td>\n",
       "      <td>-0.72</td>\n",
       "      <td>2.34</td>\n",
       "      <td>...</td>\n",
       "      <td>-0.59</td>\n",
       "      <td>-0.29</td>\n",
       "      <td>3.57</td>\n",
       "      <td>-0.33</td>\n",
       "      <td>-0.35</td>\n",
       "      <td>-0.25</td>\n",
       "      <td>-0.10</td>\n",
       "      <td>-0.12</td>\n",
       "      <td>-0.13</td>\n",
       "      <td>-0.34</td>\n",
       "    </tr>\n",
       "    <tr>\n",
       "      <th>560</th>\n",
       "      <td>1.05</td>\n",
       "      <td>-0.78</td>\n",
       "      <td>-0.42</td>\n",
       "      <td>-0.29</td>\n",
       "      <td>1.38</td>\n",
       "      <td>-0.04</td>\n",
       "      <td>-2.34</td>\n",
       "      <td>2.34</td>\n",
       "      <td>-0.72</td>\n",
       "      <td>2.34</td>\n",
       "      <td>...</td>\n",
       "      <td>1.68</td>\n",
       "      <td>-0.29</td>\n",
       "      <td>-0.28</td>\n",
       "      <td>-0.33</td>\n",
       "      <td>-0.35</td>\n",
       "      <td>-0.25</td>\n",
       "      <td>-0.10</td>\n",
       "      <td>-0.12</td>\n",
       "      <td>-0.13</td>\n",
       "      <td>-0.34</td>\n",
       "    </tr>\n",
       "    <tr>\n",
       "      <th>561</th>\n",
       "      <td>-1.17</td>\n",
       "      <td>1.29</td>\n",
       "      <td>-0.42</td>\n",
       "      <td>-0.28</td>\n",
       "      <td>-0.73</td>\n",
       "      <td>-0.28</td>\n",
       "      <td>0.43</td>\n",
       "      <td>-0.43</td>\n",
       "      <td>1.39</td>\n",
       "      <td>-0.43</td>\n",
       "      <td>...</td>\n",
       "      <td>-0.59</td>\n",
       "      <td>-0.29</td>\n",
       "      <td>-0.28</td>\n",
       "      <td>-0.33</td>\n",
       "      <td>-0.35</td>\n",
       "      <td>-0.25</td>\n",
       "      <td>-0.10</td>\n",
       "      <td>-0.12</td>\n",
       "      <td>-0.13</td>\n",
       "      <td>-0.34</td>\n",
       "    </tr>\n",
       "    <tr>\n",
       "      <th>562</th>\n",
       "      <td>-1.17</td>\n",
       "      <td>1.29</td>\n",
       "      <td>-0.81</td>\n",
       "      <td>-0.81</td>\n",
       "      <td>-0.73</td>\n",
       "      <td>-0.71</td>\n",
       "      <td>0.43</td>\n",
       "      <td>-0.43</td>\n",
       "      <td>1.39</td>\n",
       "      <td>-0.43</td>\n",
       "      <td>...</td>\n",
       "      <td>-0.59</td>\n",
       "      <td>-0.29</td>\n",
       "      <td>-0.28</td>\n",
       "      <td>-0.33</td>\n",
       "      <td>-0.35</td>\n",
       "      <td>-0.25</td>\n",
       "      <td>-0.10</td>\n",
       "      <td>-0.12</td>\n",
       "      <td>-0.13</td>\n",
       "      <td>-0.34</td>\n",
       "    </tr>\n",
       "    <tr>\n",
       "      <th>563</th>\n",
       "      <td>1.79</td>\n",
       "      <td>-0.78</td>\n",
       "      <td>1.64</td>\n",
       "      <td>0.53</td>\n",
       "      <td>-0.73</td>\n",
       "      <td>0.37</td>\n",
       "      <td>0.43</td>\n",
       "      <td>-0.43</td>\n",
       "      <td>-0.72</td>\n",
       "      <td>-0.43</td>\n",
       "      <td>...</td>\n",
       "      <td>-0.59</td>\n",
       "      <td>-0.29</td>\n",
       "      <td>-0.28</td>\n",
       "      <td>-0.33</td>\n",
       "      <td>-0.35</td>\n",
       "      <td>-0.25</td>\n",
       "      <td>-0.10</td>\n",
       "      <td>-0.12</td>\n",
       "      <td>-0.13</td>\n",
       "      <td>2.95</td>\n",
       "    </tr>\n",
       "  </tbody>\n",
       "</table>\n",
       "<p>564 rows × 24 columns</p>\n",
       "</div>"
      ],
      "text/plain": [
       "     Plant  Surface  Pack  Price  Year  Awarded_points  \\\n",
       "0     0.31     1.29  1.64   0.78  1.38            0.56   \n",
       "1     1.79    -0.78  1.64   0.53  1.38           -0.52   \n",
       "2    -1.17    -0.78 -0.81  -0.82  1.38           -0.71   \n",
       "3     0.31     1.29 -0.81  -0.74  0.33           -0.65   \n",
       "4    -0.43    -0.78 -0.42   0.29 -0.73            0.17   \n",
       "..     ...      ...   ...    ...   ...             ...   \n",
       "559   0.31     1.29  1.64   0.78  1.38            0.56   \n",
       "560   1.05    -0.78 -0.42  -0.29  1.38           -0.04   \n",
       "561  -1.17     1.29 -0.42  -0.28 -0.73           -0.28   \n",
       "562  -1.17     1.29 -0.81  -0.81 -0.73           -0.71   \n",
       "563   1.79    -0.78  1.64   0.53 -0.73            0.37   \n",
       "\n",
       "     Manufacturing_Plant_Bellary  Manufacturing_Plant_Vasind  \\\n",
       "0                          -2.34                        2.34   \n",
       "1                           0.43                       -0.43   \n",
       "2                           0.43                       -0.43   \n",
       "3                           0.43                       -0.43   \n",
       "4                           0.43                       -0.43   \n",
       "..                           ...                         ...   \n",
       "559                        -2.34                        2.34   \n",
       "560                        -2.34                        2.34   \n",
       "561                         0.43                       -0.43   \n",
       "562                         0.43                       -0.43   \n",
       "563                         0.43                       -0.43   \n",
       "\n",
       "     Hub_Location_Aurangabad  Hub_Location_Goa  ...  Brand_AI  Brand_ASI  \\\n",
       "0                      -0.72              2.34  ...     -0.59      -0.29   \n",
       "1                      -0.72             -0.43  ...     -0.59      -0.29   \n",
       "2                       1.39             -0.43  ...      1.68      -0.29   \n",
       "3                       1.39             -0.43  ...     -0.59      -0.29   \n",
       "4                      -0.72             -0.43  ...     -0.59      -0.29   \n",
       "..                       ...               ...  ...       ...        ...   \n",
       "559                    -0.72              2.34  ...     -0.59      -0.29   \n",
       "560                    -0.72              2.34  ...      1.68      -0.29   \n",
       "561                     1.39             -0.43  ...     -0.59      -0.29   \n",
       "562                     1.39             -0.43  ...     -0.59      -0.29   \n",
       "563                    -0.72             -0.43  ...     -0.59      -0.29   \n",
       "\n",
       "     Brand_EWP  Brand_HE  Brand_HI  Brand_HSI  Brand_IBWPE  Brand_IBWPI  \\\n",
       "0         3.57     -0.33     -0.35      -0.25        -0.10        -0.12   \n",
       "1        -0.28     -0.33     -0.35      -0.25        -0.10        -0.12   \n",
       "2        -0.28     -0.33     -0.35      -0.25        -0.10        -0.12   \n",
       "3        -0.28      3.07     -0.35      -0.25        -0.10        -0.12   \n",
       "4        -0.28     -0.33     -0.35       4.01        -0.10        -0.12   \n",
       "..         ...       ...       ...        ...          ...          ...   \n",
       "559       3.57     -0.33     -0.35      -0.25        -0.10        -0.12   \n",
       "560      -0.28     -0.33     -0.35      -0.25        -0.10        -0.12   \n",
       "561      -0.28     -0.33     -0.35      -0.25        -0.10        -0.12   \n",
       "562      -0.28     -0.33     -0.35      -0.25        -0.10        -0.12   \n",
       "563      -0.28     -0.33     -0.35      -0.25        -0.10        -0.12   \n",
       "\n",
       "     Brand_IBWR  Brand_IWP  \n",
       "0         -0.13      -0.34  \n",
       "1         -0.13       2.95  \n",
       "2         -0.13      -0.34  \n",
       "3         -0.13      -0.34  \n",
       "4         -0.13      -0.34  \n",
       "..          ...        ...  \n",
       "559       -0.13      -0.34  \n",
       "560       -0.13      -0.34  \n",
       "561       -0.13      -0.34  \n",
       "562       -0.13      -0.34  \n",
       "563       -0.13       2.95  \n",
       "\n",
       "[564 rows x 24 columns]"
      ]
     },
     "execution_count": 44,
     "metadata": {},
     "output_type": "execute_result"
    }
   ],
   "source": [
    "# Create instance \n",
    "std_scalar = StandardScaler()\n",
    "\n",
    "array = std_scalar.fit(x_train)\n",
    "array=std_scalar.transform(x_train)\n",
    "\n",
    "x_train_std = pd.DataFrame(array,columns=x.columns)\n",
    "x_train_std"
   ]
  },
  {
   "cell_type": "code",
   "execution_count": 45,
   "id": "1749412e",
   "metadata": {},
   "outputs": [],
   "source": [
    "###  (1)  Logistic Regression"
   ]
  },
  {
   "cell_type": "code",
   "execution_count": 46,
   "id": "c0db1b2f",
   "metadata": {},
   "outputs": [
    {
     "data": {
      "text/html": [
       "<style>#sk-container-id-1 {color: black;background-color: white;}#sk-container-id-1 pre{padding: 0;}#sk-container-id-1 div.sk-toggleable {background-color: white;}#sk-container-id-1 label.sk-toggleable__label {cursor: pointer;display: block;width: 100%;margin-bottom: 0;padding: 0.3em;box-sizing: border-box;text-align: center;}#sk-container-id-1 label.sk-toggleable__label-arrow:before {content: \"▸\";float: left;margin-right: 0.25em;color: #696969;}#sk-container-id-1 label.sk-toggleable__label-arrow:hover:before {color: black;}#sk-container-id-1 div.sk-estimator:hover label.sk-toggleable__label-arrow:before {color: black;}#sk-container-id-1 div.sk-toggleable__content {max-height: 0;max-width: 0;overflow: hidden;text-align: left;background-color: #f0f8ff;}#sk-container-id-1 div.sk-toggleable__content pre {margin: 0.2em;color: black;border-radius: 0.25em;background-color: #f0f8ff;}#sk-container-id-1 input.sk-toggleable__control:checked~div.sk-toggleable__content {max-height: 200px;max-width: 100%;overflow: auto;}#sk-container-id-1 input.sk-toggleable__control:checked~label.sk-toggleable__label-arrow:before {content: \"▾\";}#sk-container-id-1 div.sk-estimator input.sk-toggleable__control:checked~label.sk-toggleable__label {background-color: #d4ebff;}#sk-container-id-1 div.sk-label input.sk-toggleable__control:checked~label.sk-toggleable__label {background-color: #d4ebff;}#sk-container-id-1 input.sk-hidden--visually {border: 0;clip: rect(1px 1px 1px 1px);clip: rect(1px, 1px, 1px, 1px);height: 1px;margin: -1px;overflow: hidden;padding: 0;position: absolute;width: 1px;}#sk-container-id-1 div.sk-estimator {font-family: monospace;background-color: #f0f8ff;border: 1px dotted black;border-radius: 0.25em;box-sizing: border-box;margin-bottom: 0.5em;}#sk-container-id-1 div.sk-estimator:hover {background-color: #d4ebff;}#sk-container-id-1 div.sk-parallel-item::after {content: \"\";width: 100%;border-bottom: 1px solid gray;flex-grow: 1;}#sk-container-id-1 div.sk-label:hover label.sk-toggleable__label {background-color: #d4ebff;}#sk-container-id-1 div.sk-serial::before {content: \"\";position: absolute;border-left: 1px solid gray;box-sizing: border-box;top: 0;bottom: 0;left: 50%;z-index: 0;}#sk-container-id-1 div.sk-serial {display: flex;flex-direction: column;align-items: center;background-color: white;padding-right: 0.2em;padding-left: 0.2em;position: relative;}#sk-container-id-1 div.sk-item {position: relative;z-index: 1;}#sk-container-id-1 div.sk-parallel {display: flex;align-items: stretch;justify-content: center;background-color: white;position: relative;}#sk-container-id-1 div.sk-item::before, #sk-container-id-1 div.sk-parallel-item::before {content: \"\";position: absolute;border-left: 1px solid gray;box-sizing: border-box;top: 0;bottom: 0;left: 50%;z-index: -1;}#sk-container-id-1 div.sk-parallel-item {display: flex;flex-direction: column;z-index: 1;position: relative;background-color: white;}#sk-container-id-1 div.sk-parallel-item:first-child::after {align-self: flex-end;width: 50%;}#sk-container-id-1 div.sk-parallel-item:last-child::after {align-self: flex-start;width: 50%;}#sk-container-id-1 div.sk-parallel-item:only-child::after {width: 0;}#sk-container-id-1 div.sk-dashed-wrapped {border: 1px dashed gray;margin: 0 0.4em 0.5em 0.4em;box-sizing: border-box;padding-bottom: 0.4em;background-color: white;}#sk-container-id-1 div.sk-label label {font-family: monospace;font-weight: bold;display: inline-block;line-height: 1.2em;}#sk-container-id-1 div.sk-label-container {text-align: center;}#sk-container-id-1 div.sk-container {/* jupyter's `normalize.less` sets `[hidden] { display: none; }` but bootstrap.min.css set `[hidden] { display: none !important; }` so we also need the `!important` here to be able to override the default hidden behavior on the sphinx rendered scikit-learn.org. See: https://github.com/scikit-learn/scikit-learn/issues/21755 */display: inline-block !important;position: relative;}#sk-container-id-1 div.sk-text-repr-fallback {display: none;}</style><div id=\"sk-container-id-1\" class=\"sk-top-container\"><div class=\"sk-text-repr-fallback\"><pre>LogisticRegression()</pre><b>In a Jupyter environment, please rerun this cell to show the HTML representation or trust the notebook. <br />On GitHub, the HTML representation is unable to render, please try loading this page with nbviewer.org.</b></div><div class=\"sk-container\" hidden><div class=\"sk-item\"><div class=\"sk-estimator sk-toggleable\"><input class=\"sk-toggleable__control sk-hidden--visually\" id=\"sk-estimator-id-1\" type=\"checkbox\" checked><label for=\"sk-estimator-id-1\" class=\"sk-toggleable__label sk-toggleable__label-arrow\">LogisticRegression</label><div class=\"sk-toggleable__content\"><pre>LogisticRegression()</pre></div></div></div></div></div>"
      ],
      "text/plain": [
       "LogisticRegression()"
      ]
     },
     "execution_count": 46,
     "metadata": {},
     "output_type": "execute_result"
    }
   ],
   "source": [
    "logistic_model = LogisticRegression()\n",
    "logistic_model.fit(x_train,y_train)\n",
    "#model_name_list.append(\"Logistic_regression_model\")"
   ]
  },
  {
   "cell_type": "code",
   "execution_count": 47,
   "id": "46c75fb9",
   "metadata": {},
   "outputs": [
    {
     "data": {
      "text/plain": [
       "<sklearn.metrics._plot.confusion_matrix.ConfusionMatrixDisplay at 0x24b0d4ea730>"
      ]
     },
     "execution_count": 47,
     "metadata": {},
     "output_type": "execute_result"
    },
    {
     "data": {
      "image/png": "[encoded data removed]",
      "text/plain": [
       "<Figure size 432x288 with 2 Axes>"
      ]
     },
     "metadata": {
      "needs_background": "light"
     },
     "output_type": "display_data"
    }
   ],
   "source": [
    "# Training Data\n",
    "plot_confusion_matrix(logistic_model, x_train, y_train)"
   ]
  },
  {
   "cell_type": "code",
   "execution_count": 48,
   "id": "6630f3ef",
   "metadata": {},
   "outputs": [
    {
     "data": {
      "text/plain": [
       "<sklearn.metrics._plot.confusion_matrix.ConfusionMatrixDisplay at 0x24b0d506d60>"
      ]
     },
     "execution_count": 48,
     "metadata": {},
     "output_type": "execute_result"
    },
    {
     "data": {
      "image/png": "[encoded data removed]",
      "text/plain": [
       "<Figure size 432x288 with 2 Axes>"
      ]
     },
     "metadata": {
      "needs_background": "light"
     },
     "output_type": "display_data"
    }
   ],
   "source": [
    "# Training Data\n",
    "plot_confusion_matrix(logistic_model, x_test, y_test)\n"
   ]
  },
  {
   "cell_type": "markdown",
   "id": "125dfe75",
   "metadata": {},
   "source": [
    "# AUC-ROC Curve"
   ]
  },
  {
   "cell_type": "code",
   "execution_count": 49,
   "id": "469e3de1",
   "metadata": {},
   "outputs": [
    {
     "data": {
      "text/plain": [
       "array([0.87292802, 0.86008665, 0.08250319, 0.78122542, 0.8220745 ,\n",
       "       0.40713266, 0.4737801 , 0.09177941, 0.44428866, 0.8669492 ,\n",
       "       0.27328322, 0.28499437, 0.31886107, 0.41683064, 0.86433583,\n",
       "       0.8669492 , 0.54873556, 0.34491724, 0.27328322, 0.25160862,\n",
       "       0.41457868, 0.72255393, 0.74302602, 0.72107832, 0.67167139,\n",
       "       0.53798244, 0.92546426, 0.49037634, 0.25160862, 0.72107832,\n",
       "       0.15040663, 0.19719617, 0.54873556, 0.49037634, 0.25160862,\n",
       "       0.27328322, 0.78122542, 0.86029504, 0.3517499 , 0.77945481,\n",
       "       0.65418137, 0.85940543, 0.48195206, 0.81471164, 0.38505531,\n",
       "       0.62748792, 0.81111379, 0.86433583, 0.77945481, 0.44428866,\n",
       "       0.78122542, 0.24705908, 0.09177941, 0.15029595, 0.86008665,\n",
       "       0.60899784, 0.19007685, 0.5356637 , 0.86358288, 0.5356637 ,\n",
       "       0.72255393, 0.60838183, 0.25128248, 0.20869692, 0.86433583,\n",
       "       0.19007685, 0.78997024, 0.87292802, 0.1500748 , 0.85779745,\n",
       "       0.60899784, 0.87292802, 0.2517718 , 0.87292802, 0.93353755,\n",
       "       0.31415126, 0.15040663, 0.19705905, 0.27328322, 0.74302602,\n",
       "       0.31555035, 0.93591732, 0.41115377, 0.47568611, 0.5356637 ,\n",
       "       0.15029595, 0.57104311, 0.08250319, 0.77945481, 0.47083728,\n",
       "       0.73683693, 0.78107731, 0.87292802, 0.27328322, 0.76759291,\n",
       "       0.71227864, 0.78122542, 0.84695579, 0.19705905, 0.60899784,\n",
       "       0.47568611, 0.3517499 , 0.65418137, 0.14930229, 0.4737801 ,\n",
       "       0.19007685, 0.27328322, 0.19007685, 0.94018698, 0.27328322,\n",
       "       0.52590915, 0.79320326, 0.81255593, 0.86433583, 0.92994451,\n",
       "       0.34491724, 0.31415126, 0.70229071, 0.60899784, 0.09177941,\n",
       "       0.93353755, 0.30439056, 0.85198504, 0.87292802, 0.60311372,\n",
       "       0.31890349, 0.87292802, 0.87292802, 0.85705442, 0.19705905,\n",
       "       0.65418137, 0.40766403, 0.76759291, 0.87292802, 0.15029595,\n",
       "       0.60311372, 0.35511074, 0.27328322, 0.41683064, 0.11168336,\n",
       "       0.19705905, 0.08250319, 0.78122542, 0.42137684, 0.4737801 ,\n",
       "       0.9076036 , 0.3517499 , 0.15040663, 0.78122542, 0.70229071,\n",
       "       0.70229071, 0.67167139, 0.78122542, 0.41486051, 0.71234117,\n",
       "       0.78122542, 0.5356637 , 0.3517499 , 0.11788186, 0.93075435,\n",
       "       0.85779745, 0.87292802, 0.21712772, 0.81330628, 0.20869692,\n",
       "       0.77945481, 0.76759291, 0.79919212, 0.84037695, 0.39414514,\n",
       "       0.34254021, 0.8134378 , 0.15029595, 0.77945481, 0.78122542,\n",
       "       0.67167139, 0.77945481, 0.67167139, 0.82488834, 0.19007685,\n",
       "       0.49037634, 0.19007685, 0.86433583, 0.14930229, 0.80821402,\n",
       "       0.40766403, 0.87292802, 0.08250319, 0.35537668, 0.96781531,\n",
       "       0.19007685, 0.79804175, 0.15029595, 0.60838183, 0.79804175,\n",
       "       0.15029595, 0.08250319, 0.77819325, 0.44876736, 0.52590915,\n",
       "       0.37052027, 0.15029595, 0.95472588, 0.84388477, 0.72107832,\n",
       "       0.82097906, 0.63306621, 0.91254163, 0.75014596, 0.95472588,\n",
       "       0.48271516, 0.77945481, 0.57104311, 0.71396846, 0.86358288,\n",
       "       0.82913391, 0.41486051, 0.86358288, 0.49440621, 0.91745866,\n",
       "       0.15029595, 0.85380521, 0.41998198, 0.16586572, 0.16622563,\n",
       "       0.09177941, 0.15029595, 0.19007685, 0.84724465, 0.34287144,\n",
       "       0.60899784, 0.35537668, 0.78122542, 0.85779745, 0.27328322,\n",
       "       0.19007685, 0.25160862, 0.88592017, 0.79320326, 0.2788829 ,\n",
       "       0.77945481, 0.85380521, 0.54873556, 0.74210143, 0.19007685,\n",
       "       0.86433583, 0.90670088, 0.19193078, 0.40121272, 0.08250319,\n",
       "       0.2517718 , 0.52590915, 0.78122542, 0.78122542, 0.78122542,\n",
       "       0.19705905, 0.15029595, 0.15029595, 0.60899784, 0.75014596,\n",
       "       0.68989853, 0.09177941, 0.08250319, 0.2517718 , 0.79320326,\n",
       "       0.31415126, 0.87292802, 0.85705442, 0.75014596, 0.69959788,\n",
       "       0.25160862, 0.87292802, 0.75366637, 0.68767701, 0.4595648 ,\n",
       "       0.34491724, 0.19007685, 0.27328322, 0.20869692, 0.9292829 ,\n",
       "       0.3517499 , 0.71234117, 0.77945481, 0.27328322, 0.9292829 ,\n",
       "       0.8134378 , 0.96952965, 0.34491724, 0.3517499 , 0.85380521,\n",
       "       0.78122542, 0.87292802, 0.15029595, 0.3517499 , 0.19193078,\n",
       "       0.19193078, 0.7527271 , 0.19007685, 0.14930229, 0.85198504,\n",
       "       0.86348078, 0.9292829 , 0.72107832, 0.73683693, 0.8134378 ,\n",
       "       0.88592017, 0.20869692, 0.78122542, 0.86433583, 0.27328322,\n",
       "       0.30456922, 0.47083728, 0.85943553, 0.16610559, 0.08250319,\n",
       "       0.8134378 , 0.76309384, 0.94747017, 0.44428866, 0.40766403,\n",
       "       0.08250319, 0.93591732, 0.9292829 , 0.52590915, 0.42251115,\n",
       "       0.42137684, 0.15040663, 0.8669492 , 0.86358288, 0.77945481,\n",
       "       0.89947288, 0.48271516, 0.31415126, 0.47083728, 0.57316006,\n",
       "       0.78122542, 0.34491724, 0.27328322, 0.14171633, 0.77945481,\n",
       "       0.24705908, 0.11168336, 0.34287144, 0.60838183, 0.85144827,\n",
       "       0.27328322, 0.48195206, 0.20869692, 0.8220745 , 0.96431644,\n",
       "       0.19705905, 0.34254021, 0.7527271 , 0.85198504, 0.79320326,\n",
       "       0.48271516, 0.77945481, 0.68867451, 0.14930229, 0.31886107,\n",
       "       0.42137684, 0.76759291, 0.38505531, 0.9292829 , 0.08250319,\n",
       "       0.27328322, 0.49037634, 0.42137684, 0.48195206, 0.72107832,\n",
       "       0.87292802, 0.08250319, 0.15106927, 0.08250319, 0.15029595,\n",
       "       0.11168336, 0.1500748 , 0.9292829 , 0.19007685, 0.88254409,\n",
       "       0.93353755, 0.28499437, 0.78122542, 0.72255393, 0.95472588,\n",
       "       0.11168336, 0.35511074, 0.08250319, 0.35537668, 0.81237294,\n",
       "       0.76759291, 0.61865787, 0.80332432, 0.41683064, 0.60899784,\n",
       "       0.4737801 , 0.77945481, 0.31942584, 0.78107731, 0.76759291,\n",
       "       0.87407896, 0.34254021, 0.15029595, 0.82309047, 0.11168336,\n",
       "       0.85198504, 0.72107832, 0.87292802, 0.1500748 , 0.74210143,\n",
       "       0.08250319, 0.51932812, 0.87292802, 0.5356637 , 0.87292802,\n",
       "       0.54873556, 0.66487305, 0.85380521, 0.47083728, 0.49037634,\n",
       "       0.77945481, 0.14655928, 0.44876736, 0.75366637, 0.09177941,\n",
       "       0.5356637 , 0.08250319, 0.79320326, 0.72107832, 0.75014596,\n",
       "       0.49037634, 0.20869692, 0.15029595, 0.27328322, 0.72107832,\n",
       "       0.53798244, 0.27328322, 0.08250319, 0.08250319, 0.89424689,\n",
       "       0.18239388, 0.28242711, 0.93353755, 0.18331917, 0.08250319,\n",
       "       0.78122542, 0.52590915, 0.9292829 , 0.19007685, 0.76309384,\n",
       "       0.27328322, 0.54873556, 0.85943553, 0.51932812, 0.19007685,\n",
       "       0.49037634, 0.38505531, 0.86358288, 0.8134378 , 0.16622563,\n",
       "       0.11168336, 0.60920413, 0.87407896, 0.9076036 , 0.85198504,\n",
       "       0.15029595, 0.4737801 , 0.77945481, 0.85779745, 0.19007685,\n",
       "       0.79320326, 0.18331917, 0.72107832, 0.47362749, 0.27328322,\n",
       "       0.57316006, 0.76759291, 0.96952965, 0.8134378 , 0.27328322,\n",
       "       0.16610559, 0.49037634, 0.14930229, 0.60564054, 0.72107832,\n",
       "       0.76309384, 0.16610559, 0.8134378 , 0.08250319, 0.15029595,\n",
       "       0.93885476, 0.15029595, 0.75366637, 0.64978939, 0.14655928,\n",
       "       0.87840839, 0.09177941, 0.83978714, 0.27328322, 0.15029595,\n",
       "       0.85380521, 0.67838428, 0.09177941, 0.44580121, 0.09177941,\n",
       "       0.11168336, 0.87292802, 0.22688631, 0.16610559, 0.85380521,\n",
       "       0.15029595, 0.74210143, 0.77945481, 0.29273455, 0.41683064,\n",
       "       0.31942584, 0.78107731, 0.29750035, 0.87407896, 0.87292802,\n",
       "       0.39236789, 0.85589392, 0.85705442, 0.78152335, 0.34287144,\n",
       "       0.87271654, 0.14930229, 0.18331917, 0.34287144, 0.64345773,\n",
       "       0.25160862, 0.08250319, 0.94289062, 0.16610559, 0.27328322,\n",
       "       0.9292829 , 0.42137684, 0.69959788, 0.53798244, 0.72107832,\n",
       "       0.15106927, 0.93353755, 0.67167139, 0.25160862, 0.40878751,\n",
       "       0.60879152, 0.19007685, 0.08250319, 0.34287144, 0.20869692,\n",
       "       0.60838183, 0.9292829 , 0.90017663, 0.47568611, 0.88254409,\n",
       "       0.75014596, 0.77945481, 0.48271516, 0.85589392, 0.87292802,\n",
       "       0.7716982 , 0.16610559, 0.15029595, 0.67167139])"
      ]
     },
     "execution_count": 49,
     "metadata": {},
     "output_type": "execute_result"
    }
   ],
   "source": [
    "# prediction probability\n",
    "y_pred_proba = logistic_model.predict_proba(x_train)\n",
    "y_pred_proba[:,1] # We are getting class 1 probability"
   ]
  },
  {
   "cell_type": "code",
   "execution_count": 50,
   "id": "5fb662f1",
   "metadata": {},
   "outputs": [],
   "source": [
    "fpr, tpr, thresh = roc_curve(y_train, y_pred_proba[:,1])"
   ]
  },
  {
   "cell_type": "code",
   "execution_count": 51,
   "id": "40b6454f",
   "metadata": {},
   "outputs": [
    {
     "data": {
      "text/plain": [
       "Text(0.5, 1.0, 'Reciever Operating Characteristics')"
      ]
     },
     "execution_count": 51,
     "metadata": {},
     "output_type": "execute_result"
    },
    {
     "data": {
      "image/png": "[encoded data removed]",
      "text/plain": [
       "<Figure size 432x288 with 1 Axes>"
      ]
     },
     "metadata": {
      "needs_background": "light"
     },
     "output_type": "display_data"
    }
   ],
   "source": [
    "# Plot AUC-ROC\n",
    "plt.plot(fpr,tpr)\n",
    "plt.xlabel(\"False Positive Rate -->\")\n",
    "plt.ylabel(\"True Positive Rate -->\")\n",
    "plt.title(\"Reciever Operating Characteristics\")"
   ]
  },
  {
   "cell_type": "code",
   "execution_count": 52,
   "id": "5f0dd0b0",
   "metadata": {},
   "outputs": [],
   "source": [
    "### (2) KNN regressor "
   ]
  },
  {
   "cell_type": "code",
   "execution_count": 53,
   "id": "5c2868f3",
   "metadata": {},
   "outputs": [
    {
     "data": {
      "text/html": [
       "<style>#sk-container-id-2 {color: black;background-color: white;}#sk-container-id-2 pre{padding: 0;}#sk-container-id-2 div.sk-toggleable {background-color: white;}#sk-container-id-2 label.sk-toggleable__label {cursor: pointer;display: block;width: 100%;margin-bottom: 0;padding: 0.3em;box-sizing: border-box;text-align: center;}#sk-container-id-2 label.sk-toggleable__label-arrow:before {content: \"▸\";float: left;margin-right: 0.25em;color: #696969;}#sk-container-id-2 label.sk-toggleable__label-arrow:hover:before {color: black;}#sk-container-id-2 div.sk-estimator:hover label.sk-toggleable__label-arrow:before {color: black;}#sk-container-id-2 div.sk-toggleable__content {max-height: 0;max-width: 0;overflow: hidden;text-align: left;background-color: #f0f8ff;}#sk-container-id-2 div.sk-toggleable__content pre {margin: 0.2em;color: black;border-radius: 0.25em;background-color: #f0f8ff;}#sk-container-id-2 input.sk-toggleable__control:checked~div.sk-toggleable__content {max-height: 200px;max-width: 100%;overflow: auto;}#sk-container-id-2 input.sk-toggleable__control:checked~label.sk-toggleable__label-arrow:before {content: \"▾\";}#sk-container-id-2 div.sk-estimator input.sk-toggleable__control:checked~label.sk-toggleable__label {background-color: #d4ebff;}#sk-container-id-2 div.sk-label input.sk-toggleable__control:checked~label.sk-toggleable__label {background-color: #d4ebff;}#sk-container-id-2 input.sk-hidden--visually {border: 0;clip: rect(1px 1px 1px 1px);clip: rect(1px, 1px, 1px, 1px);height: 1px;margin: -1px;overflow: hidden;padding: 0;position: absolute;width: 1px;}#sk-container-id-2 div.sk-estimator {font-family: monospace;background-color: #f0f8ff;border: 1px dotted black;border-radius: 0.25em;box-sizing: border-box;margin-bottom: 0.5em;}#sk-container-id-2 div.sk-estimator:hover {background-color: #d4ebff;}#sk-container-id-2 div.sk-parallel-item::after {content: \"\";width: 100%;border-bottom: 1px solid gray;flex-grow: 1;}#sk-container-id-2 div.sk-label:hover label.sk-toggleable__label {background-color: #d4ebff;}#sk-container-id-2 div.sk-serial::before {content: \"\";position: absolute;border-left: 1px solid gray;box-sizing: border-box;top: 0;bottom: 0;left: 50%;z-index: 0;}#sk-container-id-2 div.sk-serial {display: flex;flex-direction: column;align-items: center;background-color: white;padding-right: 0.2em;padding-left: 0.2em;position: relative;}#sk-container-id-2 div.sk-item {position: relative;z-index: 1;}#sk-container-id-2 div.sk-parallel {display: flex;align-items: stretch;justify-content: center;background-color: white;position: relative;}#sk-container-id-2 div.sk-item::before, #sk-container-id-2 div.sk-parallel-item::before {content: \"\";position: absolute;border-left: 1px solid gray;box-sizing: border-box;top: 0;bottom: 0;left: 50%;z-index: -1;}#sk-container-id-2 div.sk-parallel-item {display: flex;flex-direction: column;z-index: 1;position: relative;background-color: white;}#sk-container-id-2 div.sk-parallel-item:first-child::after {align-self: flex-end;width: 50%;}#sk-container-id-2 div.sk-parallel-item:last-child::after {align-self: flex-start;width: 50%;}#sk-container-id-2 div.sk-parallel-item:only-child::after {width: 0;}#sk-container-id-2 div.sk-dashed-wrapped {border: 1px dashed gray;margin: 0 0.4em 0.5em 0.4em;box-sizing: border-box;padding-bottom: 0.4em;background-color: white;}#sk-container-id-2 div.sk-label label {font-family: monospace;font-weight: bold;display: inline-block;line-height: 1.2em;}#sk-container-id-2 div.sk-label-container {text-align: center;}#sk-container-id-2 div.sk-container {/* jupyter's `normalize.less` sets `[hidden] { display: none; }` but bootstrap.min.css set `[hidden] { display: none !important; }` so we also need the `!important` here to be able to override the default hidden behavior on the sphinx rendered scikit-learn.org. See: https://github.com/scikit-learn/scikit-learn/issues/21755 */display: inline-block !important;position: relative;}#sk-container-id-2 div.sk-text-repr-fallback {display: none;}</style><div id=\"sk-container-id-2\" class=\"sk-top-container\"><div class=\"sk-text-repr-fallback\"><pre>KNeighborsClassifier()</pre><b>In a Jupyter environment, please rerun this cell to show the HTML representation or trust the notebook. <br />On GitHub, the HTML representation is unable to render, please try loading this page with nbviewer.org.</b></div><div class=\"sk-container\" hidden><div class=\"sk-item\"><div class=\"sk-estimator sk-toggleable\"><input class=\"sk-toggleable__control sk-hidden--visually\" id=\"sk-estimator-id-2\" type=\"checkbox\" checked><label for=\"sk-estimator-id-2\" class=\"sk-toggleable__label sk-toggleable__label-arrow\">KNeighborsClassifier</label><div class=\"sk-toggleable__content\"><pre>KNeighborsClassifier()</pre></div></div></div></div></div>"
      ],
      "text/plain": [
       "KNeighborsClassifier()"
      ]
     },
     "execution_count": 53,
     "metadata": {},
     "output_type": "execute_result"
    }
   ],
   "source": [
    "knn_model =KNeighborsClassifier()\n",
    "knn_model.fit(x_train,y_train)\n",
    "#model_name_list.append(\"KNN Classifier_model\")"
   ]
  },
  {
   "cell_type": "code",
   "execution_count": 54,
   "id": "58554e73",
   "metadata": {},
   "outputs": [],
   "source": [
    "#DecisionTreeClassifier"
   ]
  },
  {
   "cell_type": "code",
   "execution_count": 55,
   "id": "6e2db36d",
   "metadata": {},
   "outputs": [
    {
     "data": {
      "text/html": [
       "<style>#sk-container-id-3 {color: black;background-color: white;}#sk-container-id-3 pre{padding: 0;}#sk-container-id-3 div.sk-toggleable {background-color: white;}#sk-container-id-3 label.sk-toggleable__label {cursor: pointer;display: block;width: 100%;margin-bottom: 0;padding: 0.3em;box-sizing: border-box;text-align: center;}#sk-container-id-3 label.sk-toggleable__label-arrow:before {content: \"▸\";float: left;margin-right: 0.25em;color: #696969;}#sk-container-id-3 label.sk-toggleable__label-arrow:hover:before {color: black;}#sk-container-id-3 div.sk-estimator:hover label.sk-toggleable__label-arrow:before {color: black;}#sk-container-id-3 div.sk-toggleable__content {max-height: 0;max-width: 0;overflow: hidden;text-align: left;background-color: #f0f8ff;}#sk-container-id-3 div.sk-toggleable__content pre {margin: 0.2em;color: black;border-radius: 0.25em;background-color: #f0f8ff;}#sk-container-id-3 input.sk-toggleable__control:checked~div.sk-toggleable__content {max-height: 200px;max-width: 100%;overflow: auto;}#sk-container-id-3 input.sk-toggleable__control:checked~label.sk-toggleable__label-arrow:before {content: \"▾\";}#sk-container-id-3 div.sk-estimator input.sk-toggleable__control:checked~label.sk-toggleable__label {background-color: #d4ebff;}#sk-container-id-3 div.sk-label input.sk-toggleable__control:checked~label.sk-toggleable__label {background-color: #d4ebff;}#sk-container-id-3 input.sk-hidden--visually {border: 0;clip: rect(1px 1px 1px 1px);clip: rect(1px, 1px, 1px, 1px);height: 1px;margin: -1px;overflow: hidden;padding: 0;position: absolute;width: 1px;}#sk-container-id-3 div.sk-estimator {font-family: monospace;background-color: #f0f8ff;border: 1px dotted black;border-radius: 0.25em;box-sizing: border-box;margin-bottom: 0.5em;}#sk-container-id-3 div.sk-estimator:hover {background-color: #d4ebff;}#sk-container-id-3 div.sk-parallel-item::after {content: \"\";width: 100%;border-bottom: 1px solid gray;flex-grow: 1;}#sk-container-id-3 div.sk-label:hover label.sk-toggleable__label {background-color: #d4ebff;}#sk-container-id-3 div.sk-serial::before {content: \"\";position: absolute;border-left: 1px solid gray;box-sizing: border-box;top: 0;bottom: 0;left: 50%;z-index: 0;}#sk-container-id-3 div.sk-serial {display: flex;flex-direction: column;align-items: center;background-color: white;padding-right: 0.2em;padding-left: 0.2em;position: relative;}#sk-container-id-3 div.sk-item {position: relative;z-index: 1;}#sk-container-id-3 div.sk-parallel {display: flex;align-items: stretch;justify-content: center;background-color: white;position: relative;}#sk-container-id-3 div.sk-item::before, #sk-container-id-3 div.sk-parallel-item::before {content: \"\";position: absolute;border-left: 1px solid gray;box-sizing: border-box;top: 0;bottom: 0;left: 50%;z-index: -1;}#sk-container-id-3 div.sk-parallel-item {display: flex;flex-direction: column;z-index: 1;position: relative;background-color: white;}#sk-container-id-3 div.sk-parallel-item:first-child::after {align-self: flex-end;width: 50%;}#sk-container-id-3 div.sk-parallel-item:last-child::after {align-self: flex-start;width: 50%;}#sk-container-id-3 div.sk-parallel-item:only-child::after {width: 0;}#sk-container-id-3 div.sk-dashed-wrapped {border: 1px dashed gray;margin: 0 0.4em 0.5em 0.4em;box-sizing: border-box;padding-bottom: 0.4em;background-color: white;}#sk-container-id-3 div.sk-label label {font-family: monospace;font-weight: bold;display: inline-block;line-height: 1.2em;}#sk-container-id-3 div.sk-label-container {text-align: center;}#sk-container-id-3 div.sk-container {/* jupyter's `normalize.less` sets `[hidden] { display: none; }` but bootstrap.min.css set `[hidden] { display: none !important; }` so we also need the `!important` here to be able to override the default hidden behavior on the sphinx rendered scikit-learn.org. See: https://github.com/scikit-learn/scikit-learn/issues/21755 */display: inline-block !important;position: relative;}#sk-container-id-3 div.sk-text-repr-fallback {display: none;}</style><div id=\"sk-container-id-3\" class=\"sk-top-container\"><div class=\"sk-text-repr-fallback\"><pre>DecisionTreeClassifier(random_state=12)</pre><b>In a Jupyter environment, please rerun this cell to show the HTML representation or trust the notebook. <br />On GitHub, the HTML representation is unable to render, please try loading this page with nbviewer.org.</b></div><div class=\"sk-container\" hidden><div class=\"sk-item\"><div class=\"sk-estimator sk-toggleable\"><input class=\"sk-toggleable__control sk-hidden--visually\" id=\"sk-estimator-id-3\" type=\"checkbox\" checked><label for=\"sk-estimator-id-3\" class=\"sk-toggleable__label sk-toggleable__label-arrow\">DecisionTreeClassifier</label><div class=\"sk-toggleable__content\"><pre>DecisionTreeClassifier(random_state=12)</pre></div></div></div></div></div>"
      ],
      "text/plain": [
       "DecisionTreeClassifier(random_state=12)"
      ]
     },
     "execution_count": 55,
     "metadata": {},
     "output_type": "execute_result"
    }
   ],
   "source": [
    "dt_model =DecisionTreeClassifier(random_state =12)\n",
    "dt_model.fit(x_train,y_train)\n",
    "#model_name_list.append(\"Decision Regressor_model\")"
   ]
  },
  {
   "cell_type": "code",
   "execution_count": 56,
   "id": "94b28af5",
   "metadata": {},
   "outputs": [
    {
     "data": {
      "text/html": [
       "<style>#sk-container-id-4 {color: black;background-color: white;}#sk-container-id-4 pre{padding: 0;}#sk-container-id-4 div.sk-toggleable {background-color: white;}#sk-container-id-4 label.sk-toggleable__label {cursor: pointer;display: block;width: 100%;margin-bottom: 0;padding: 0.3em;box-sizing: border-box;text-align: center;}#sk-container-id-4 label.sk-toggleable__label-arrow:before {content: \"▸\";float: left;margin-right: 0.25em;color: #696969;}#sk-container-id-4 label.sk-toggleable__label-arrow:hover:before {color: black;}#sk-container-id-4 div.sk-estimator:hover label.sk-toggleable__label-arrow:before {color: black;}#sk-container-id-4 div.sk-toggleable__content {max-height: 0;max-width: 0;overflow: hidden;text-align: left;background-color: #f0f8ff;}#sk-container-id-4 div.sk-toggleable__content pre {margin: 0.2em;color: black;border-radius: 0.25em;background-color: #f0f8ff;}#sk-container-id-4 input.sk-toggleable__control:checked~div.sk-toggleable__content {max-height: 200px;max-width: 100%;overflow: auto;}#sk-container-id-4 input.sk-toggleable__control:checked~label.sk-toggleable__label-arrow:before {content: \"▾\";}#sk-container-id-4 div.sk-estimator input.sk-toggleable__control:checked~label.sk-toggleable__label {background-color: #d4ebff;}#sk-container-id-4 div.sk-label input.sk-toggleable__control:checked~label.sk-toggleable__label {background-color: #d4ebff;}#sk-container-id-4 input.sk-hidden--visually {border: 0;clip: rect(1px 1px 1px 1px);clip: rect(1px, 1px, 1px, 1px);height: 1px;margin: -1px;overflow: hidden;padding: 0;position: absolute;width: 1px;}#sk-container-id-4 div.sk-estimator {font-family: monospace;background-color: #f0f8ff;border: 1px dotted black;border-radius: 0.25em;box-sizing: border-box;margin-bottom: 0.5em;}#sk-container-id-4 div.sk-estimator:hover {background-color: #d4ebff;}#sk-container-id-4 div.sk-parallel-item::after {content: \"\";width: 100%;border-bottom: 1px solid gray;flex-grow: 1;}#sk-container-id-4 div.sk-label:hover label.sk-toggleable__label {background-color: #d4ebff;}#sk-container-id-4 div.sk-serial::before {content: \"\";position: absolute;border-left: 1px solid gray;box-sizing: border-box;top: 0;bottom: 0;left: 50%;z-index: 0;}#sk-container-id-4 div.sk-serial {display: flex;flex-direction: column;align-items: center;background-color: white;padding-right: 0.2em;padding-left: 0.2em;position: relative;}#sk-container-id-4 div.sk-item {position: relative;z-index: 1;}#sk-container-id-4 div.sk-parallel {display: flex;align-items: stretch;justify-content: center;background-color: white;position: relative;}#sk-container-id-4 div.sk-item::before, #sk-container-id-4 div.sk-parallel-item::before {content: \"\";position: absolute;border-left: 1px solid gray;box-sizing: border-box;top: 0;bottom: 0;left: 50%;z-index: -1;}#sk-container-id-4 div.sk-parallel-item {display: flex;flex-direction: column;z-index: 1;position: relative;background-color: white;}#sk-container-id-4 div.sk-parallel-item:first-child::after {align-self: flex-end;width: 50%;}#sk-container-id-4 div.sk-parallel-item:last-child::after {align-self: flex-start;width: 50%;}#sk-container-id-4 div.sk-parallel-item:only-child::after {width: 0;}#sk-container-id-4 div.sk-dashed-wrapped {border: 1px dashed gray;margin: 0 0.4em 0.5em 0.4em;box-sizing: border-box;padding-bottom: 0.4em;background-color: white;}#sk-container-id-4 div.sk-label label {font-family: monospace;font-weight: bold;display: inline-block;line-height: 1.2em;}#sk-container-id-4 div.sk-label-container {text-align: center;}#sk-container-id-4 div.sk-container {/* jupyter's `normalize.less` sets `[hidden] { display: none; }` but bootstrap.min.css set `[hidden] { display: none !important; }` so we also need the `!important` here to be able to override the default hidden behavior on the sphinx rendered scikit-learn.org. See: https://github.com/scikit-learn/scikit-learn/issues/21755 */display: inline-block !important;position: relative;}#sk-container-id-4 div.sk-text-repr-fallback {display: none;}</style><div id=\"sk-container-id-4\" class=\"sk-top-container\"><div class=\"sk-text-repr-fallback\"><pre>RandomForestClassifier(random_state=12)</pre><b>In a Jupyter environment, please rerun this cell to show the HTML representation or trust the notebook. <br />On GitHub, the HTML representation is unable to render, please try loading this page with nbviewer.org.</b></div><div class=\"sk-container\" hidden><div class=\"sk-item\"><div class=\"sk-estimator sk-toggleable\"><input class=\"sk-toggleable__control sk-hidden--visually\" id=\"sk-estimator-id-4\" type=\"checkbox\" checked><label for=\"sk-estimator-id-4\" class=\"sk-toggleable__label sk-toggleable__label-arrow\">RandomForestClassifier</label><div class=\"sk-toggleable__content\"><pre>RandomForestClassifier(random_state=12)</pre></div></div></div></div></div>"
      ],
      "text/plain": [
       "RandomForestClassifier(random_state=12)"
      ]
     },
     "execution_count": 56,
     "metadata": {},
     "output_type": "execute_result"
    }
   ],
   "source": [
    "rf_model = RandomForestClassifier(random_state =12)\n",
    "rf_model.fit(x_train,y_train)\n",
    "#model_name_list.append(\"Random Forest_ model\")"
   ]
  },
  {
   "cell_type": "code",
   "execution_count": 57,
   "id": "7903ba2e",
   "metadata": {},
   "outputs": [
    {
     "data": {
      "text/html": [
       "<style>#sk-container-id-5 {color: black;background-color: white;}#sk-container-id-5 pre{padding: 0;}#sk-container-id-5 div.sk-toggleable {background-color: white;}#sk-container-id-5 label.sk-toggleable__label {cursor: pointer;display: block;width: 100%;margin-bottom: 0;padding: 0.3em;box-sizing: border-box;text-align: center;}#sk-container-id-5 label.sk-toggleable__label-arrow:before {content: \"▸\";float: left;margin-right: 0.25em;color: #696969;}#sk-container-id-5 label.sk-toggleable__label-arrow:hover:before {color: black;}#sk-container-id-5 div.sk-estimator:hover label.sk-toggleable__label-arrow:before {color: black;}#sk-container-id-5 div.sk-toggleable__content {max-height: 0;max-width: 0;overflow: hidden;text-align: left;background-color: #f0f8ff;}#sk-container-id-5 div.sk-toggleable__content pre {margin: 0.2em;color: black;border-radius: 0.25em;background-color: #f0f8ff;}#sk-container-id-5 input.sk-toggleable__control:checked~div.sk-toggleable__content {max-height: 200px;max-width: 100%;overflow: auto;}#sk-container-id-5 input.sk-toggleable__control:checked~label.sk-toggleable__label-arrow:before {content: \"▾\";}#sk-container-id-5 div.sk-estimator input.sk-toggleable__control:checked~label.sk-toggleable__label {background-color: #d4ebff;}#sk-container-id-5 div.sk-label input.sk-toggleable__control:checked~label.sk-toggleable__label {background-color: #d4ebff;}#sk-container-id-5 input.sk-hidden--visually {border: 0;clip: rect(1px 1px 1px 1px);clip: rect(1px, 1px, 1px, 1px);height: 1px;margin: -1px;overflow: hidden;padding: 0;position: absolute;width: 1px;}#sk-container-id-5 div.sk-estimator {font-family: monospace;background-color: #f0f8ff;border: 1px dotted black;border-radius: 0.25em;box-sizing: border-box;margin-bottom: 0.5em;}#sk-container-id-5 div.sk-estimator:hover {background-color: #d4ebff;}#sk-container-id-5 div.sk-parallel-item::after {content: \"\";width: 100%;border-bottom: 1px solid gray;flex-grow: 1;}#sk-container-id-5 div.sk-label:hover label.sk-toggleable__label {background-color: #d4ebff;}#sk-container-id-5 div.sk-serial::before {content: \"\";position: absolute;border-left: 1px solid gray;box-sizing: border-box;top: 0;bottom: 0;left: 50%;z-index: 0;}#sk-container-id-5 div.sk-serial {display: flex;flex-direction: column;align-items: center;background-color: white;padding-right: 0.2em;padding-left: 0.2em;position: relative;}#sk-container-id-5 div.sk-item {position: relative;z-index: 1;}#sk-container-id-5 div.sk-parallel {display: flex;align-items: stretch;justify-content: center;background-color: white;position: relative;}#sk-container-id-5 div.sk-item::before, #sk-container-id-5 div.sk-parallel-item::before {content: \"\";position: absolute;border-left: 1px solid gray;box-sizing: border-box;top: 0;bottom: 0;left: 50%;z-index: -1;}#sk-container-id-5 div.sk-parallel-item {display: flex;flex-direction: column;z-index: 1;position: relative;background-color: white;}#sk-container-id-5 div.sk-parallel-item:first-child::after {align-self: flex-end;width: 50%;}#sk-container-id-5 div.sk-parallel-item:last-child::after {align-self: flex-start;width: 50%;}#sk-container-id-5 div.sk-parallel-item:only-child::after {width: 0;}#sk-container-id-5 div.sk-dashed-wrapped {border: 1px dashed gray;margin: 0 0.4em 0.5em 0.4em;box-sizing: border-box;padding-bottom: 0.4em;background-color: white;}#sk-container-id-5 div.sk-label label {font-family: monospace;font-weight: bold;display: inline-block;line-height: 1.2em;}#sk-container-id-5 div.sk-label-container {text-align: center;}#sk-container-id-5 div.sk-container {/* jupyter's `normalize.less` sets `[hidden] { display: none; }` but bootstrap.min.css set `[hidden] { display: none !important; }` so we also need the `!important` here to be able to override the default hidden behavior on the sphinx rendered scikit-learn.org. See: https://github.com/scikit-learn/scikit-learn/issues/21755 */display: inline-block !important;position: relative;}#sk-container-id-5 div.sk-text-repr-fallback {display: none;}</style><div id=\"sk-container-id-5\" class=\"sk-top-container\"><div class=\"sk-text-repr-fallback\"><pre>AdaBoostClassifier(random_state=12)</pre><b>In a Jupyter environment, please rerun this cell to show the HTML representation or trust the notebook. <br />On GitHub, the HTML representation is unable to render, please try loading this page with nbviewer.org.</b></div><div class=\"sk-container\" hidden><div class=\"sk-item\"><div class=\"sk-estimator sk-toggleable\"><input class=\"sk-toggleable__control sk-hidden--visually\" id=\"sk-estimator-id-5\" type=\"checkbox\" checked><label for=\"sk-estimator-id-5\" class=\"sk-toggleable__label sk-toggleable__label-arrow\">AdaBoostClassifier</label><div class=\"sk-toggleable__content\"><pre>AdaBoostClassifier(random_state=12)</pre></div></div></div></div></div>"
      ],
      "text/plain": [
       "AdaBoostClassifier(random_state=12)"
      ]
     },
     "execution_count": 57,
     "metadata": {},
     "output_type": "execute_result"
    }
   ],
   "source": [
    "ada_model = AdaBoostClassifier(random_state =12)\n",
    "ada_model.fit(x_train,y_train)\n",
    "#model_name_list.append(\"Adaboost_ model\")"
   ]
  },
  {
   "cell_type": "code",
   "execution_count": 58,
   "id": "67e749e9",
   "metadata": {},
   "outputs": [
    {
     "data": {
      "text/html": [
       "<style>#sk-container-id-6 {color: black;background-color: white;}#sk-container-id-6 pre{padding: 0;}#sk-container-id-6 div.sk-toggleable {background-color: white;}#sk-container-id-6 label.sk-toggleable__label {cursor: pointer;display: block;width: 100%;margin-bottom: 0;padding: 0.3em;box-sizing: border-box;text-align: center;}#sk-container-id-6 label.sk-toggleable__label-arrow:before {content: \"▸\";float: left;margin-right: 0.25em;color: #696969;}#sk-container-id-6 label.sk-toggleable__label-arrow:hover:before {color: black;}#sk-container-id-6 div.sk-estimator:hover label.sk-toggleable__label-arrow:before {color: black;}#sk-container-id-6 div.sk-toggleable__content {max-height: 0;max-width: 0;overflow: hidden;text-align: left;background-color: #f0f8ff;}#sk-container-id-6 div.sk-toggleable__content pre {margin: 0.2em;color: black;border-radius: 0.25em;background-color: #f0f8ff;}#sk-container-id-6 input.sk-toggleable__control:checked~div.sk-toggleable__content {max-height: 200px;max-width: 100%;overflow: auto;}#sk-container-id-6 input.sk-toggleable__control:checked~label.sk-toggleable__label-arrow:before {content: \"▾\";}#sk-container-id-6 div.sk-estimator input.sk-toggleable__control:checked~label.sk-toggleable__label {background-color: #d4ebff;}#sk-container-id-6 div.sk-label input.sk-toggleable__control:checked~label.sk-toggleable__label {background-color: #d4ebff;}#sk-container-id-6 input.sk-hidden--visually {border: 0;clip: rect(1px 1px 1px 1px);clip: rect(1px, 1px, 1px, 1px);height: 1px;margin: -1px;overflow: hidden;padding: 0;position: absolute;width: 1px;}#sk-container-id-6 div.sk-estimator {font-family: monospace;background-color: #f0f8ff;border: 1px dotted black;border-radius: 0.25em;box-sizing: border-box;margin-bottom: 0.5em;}#sk-container-id-6 div.sk-estimator:hover {background-color: #d4ebff;}#sk-container-id-6 div.sk-parallel-item::after {content: \"\";width: 100%;border-bottom: 1px solid gray;flex-grow: 1;}#sk-container-id-6 div.sk-label:hover label.sk-toggleable__label {background-color: #d4ebff;}#sk-container-id-6 div.sk-serial::before {content: \"\";position: absolute;border-left: 1px solid gray;box-sizing: border-box;top: 0;bottom: 0;left: 50%;z-index: 0;}#sk-container-id-6 div.sk-serial {display: flex;flex-direction: column;align-items: center;background-color: white;padding-right: 0.2em;padding-left: 0.2em;position: relative;}#sk-container-id-6 div.sk-item {position: relative;z-index: 1;}#sk-container-id-6 div.sk-parallel {display: flex;align-items: stretch;justify-content: center;background-color: white;position: relative;}#sk-container-id-6 div.sk-item::before, #sk-container-id-6 div.sk-parallel-item::before {content: \"\";position: absolute;border-left: 1px solid gray;box-sizing: border-box;top: 0;bottom: 0;left: 50%;z-index: -1;}#sk-container-id-6 div.sk-parallel-item {display: flex;flex-direction: column;z-index: 1;position: relative;background-color: white;}#sk-container-id-6 div.sk-parallel-item:first-child::after {align-self: flex-end;width: 50%;}#sk-container-id-6 div.sk-parallel-item:last-child::after {align-self: flex-start;width: 50%;}#sk-container-id-6 div.sk-parallel-item:only-child::after {width: 0;}#sk-container-id-6 div.sk-dashed-wrapped {border: 1px dashed gray;margin: 0 0.4em 0.5em 0.4em;box-sizing: border-box;padding-bottom: 0.4em;background-color: white;}#sk-container-id-6 div.sk-label label {font-family: monospace;font-weight: bold;display: inline-block;line-height: 1.2em;}#sk-container-id-6 div.sk-label-container {text-align: center;}#sk-container-id-6 div.sk-container {/* jupyter's `normalize.less` sets `[hidden] { display: none; }` but bootstrap.min.css set `[hidden] { display: none !important; }` so we also need the `!important` here to be able to override the default hidden behavior on the sphinx rendered scikit-learn.org. See: https://github.com/scikit-learn/scikit-learn/issues/21755 */display: inline-block !important;position: relative;}#sk-container-id-6 div.sk-text-repr-fallback {display: none;}</style><div id=\"sk-container-id-6\" class=\"sk-top-container\"><div class=\"sk-text-repr-fallback\"><pre>KNeighborsClassifier()</pre><b>In a Jupyter environment, please rerun this cell to show the HTML representation or trust the notebook. <br />On GitHub, the HTML representation is unable to render, please try loading this page with nbviewer.org.</b></div><div class=\"sk-container\" hidden><div class=\"sk-item\"><div class=\"sk-estimator sk-toggleable\"><input class=\"sk-toggleable__control sk-hidden--visually\" id=\"sk-estimator-id-6\" type=\"checkbox\" checked><label for=\"sk-estimator-id-6\" class=\"sk-toggleable__label sk-toggleable__label-arrow\">KNeighborsClassifier</label><div class=\"sk-toggleable__content\"><pre>KNeighborsClassifier()</pre></div></div></div></div></div>"
      ],
      "text/plain": [
       "KNeighborsClassifier()"
      ]
     },
     "execution_count": 58,
     "metadata": {},
     "output_type": "execute_result"
    }
   ],
   "source": [
    "knn_normal = KNeighborsClassifier()\n",
    "knn_normal.fit(x_train_normal,y_train)"
   ]
  },
  {
   "cell_type": "code",
   "execution_count": 59,
   "id": "5a1a7ea2",
   "metadata": {},
   "outputs": [
    {
     "data": {
      "text/html": [
       "<style>#sk-container-id-7 {color: black;background-color: white;}#sk-container-id-7 pre{padding: 0;}#sk-container-id-7 div.sk-toggleable {background-color: white;}#sk-container-id-7 label.sk-toggleable__label {cursor: pointer;display: block;width: 100%;margin-bottom: 0;padding: 0.3em;box-sizing: border-box;text-align: center;}#sk-container-id-7 label.sk-toggleable__label-arrow:before {content: \"▸\";float: left;margin-right: 0.25em;color: #696969;}#sk-container-id-7 label.sk-toggleable__label-arrow:hover:before {color: black;}#sk-container-id-7 div.sk-estimator:hover label.sk-toggleable__label-arrow:before {color: black;}#sk-container-id-7 div.sk-toggleable__content {max-height: 0;max-width: 0;overflow: hidden;text-align: left;background-color: #f0f8ff;}#sk-container-id-7 div.sk-toggleable__content pre {margin: 0.2em;color: black;border-radius: 0.25em;background-color: #f0f8ff;}#sk-container-id-7 input.sk-toggleable__control:checked~div.sk-toggleable__content {max-height: 200px;max-width: 100%;overflow: auto;}#sk-container-id-7 input.sk-toggleable__control:checked~label.sk-toggleable__label-arrow:before {content: \"▾\";}#sk-container-id-7 div.sk-estimator input.sk-toggleable__control:checked~label.sk-toggleable__label {background-color: #d4ebff;}#sk-container-id-7 div.sk-label input.sk-toggleable__control:checked~label.sk-toggleable__label {background-color: #d4ebff;}#sk-container-id-7 input.sk-hidden--visually {border: 0;clip: rect(1px 1px 1px 1px);clip: rect(1px, 1px, 1px, 1px);height: 1px;margin: -1px;overflow: hidden;padding: 0;position: absolute;width: 1px;}#sk-container-id-7 div.sk-estimator {font-family: monospace;background-color: #f0f8ff;border: 1px dotted black;border-radius: 0.25em;box-sizing: border-box;margin-bottom: 0.5em;}#sk-container-id-7 div.sk-estimator:hover {background-color: #d4ebff;}#sk-container-id-7 div.sk-parallel-item::after {content: \"\";width: 100%;border-bottom: 1px solid gray;flex-grow: 1;}#sk-container-id-7 div.sk-label:hover label.sk-toggleable__label {background-color: #d4ebff;}#sk-container-id-7 div.sk-serial::before {content: \"\";position: absolute;border-left: 1px solid gray;box-sizing: border-box;top: 0;bottom: 0;left: 50%;z-index: 0;}#sk-container-id-7 div.sk-serial {display: flex;flex-direction: column;align-items: center;background-color: white;padding-right: 0.2em;padding-left: 0.2em;position: relative;}#sk-container-id-7 div.sk-item {position: relative;z-index: 1;}#sk-container-id-7 div.sk-parallel {display: flex;align-items: stretch;justify-content: center;background-color: white;position: relative;}#sk-container-id-7 div.sk-item::before, #sk-container-id-7 div.sk-parallel-item::before {content: \"\";position: absolute;border-left: 1px solid gray;box-sizing: border-box;top: 0;bottom: 0;left: 50%;z-index: -1;}#sk-container-id-7 div.sk-parallel-item {display: flex;flex-direction: column;z-index: 1;position: relative;background-color: white;}#sk-container-id-7 div.sk-parallel-item:first-child::after {align-self: flex-end;width: 50%;}#sk-container-id-7 div.sk-parallel-item:last-child::after {align-self: flex-start;width: 50%;}#sk-container-id-7 div.sk-parallel-item:only-child::after {width: 0;}#sk-container-id-7 div.sk-dashed-wrapped {border: 1px dashed gray;margin: 0 0.4em 0.5em 0.4em;box-sizing: border-box;padding-bottom: 0.4em;background-color: white;}#sk-container-id-7 div.sk-label label {font-family: monospace;font-weight: bold;display: inline-block;line-height: 1.2em;}#sk-container-id-7 div.sk-label-container {text-align: center;}#sk-container-id-7 div.sk-container {/* jupyter's `normalize.less` sets `[hidden] { display: none; }` but bootstrap.min.css set `[hidden] { display: none !important; }` so we also need the `!important` here to be able to override the default hidden behavior on the sphinx rendered scikit-learn.org. See: https://github.com/scikit-learn/scikit-learn/issues/21755 */display: inline-block !important;position: relative;}#sk-container-id-7 div.sk-text-repr-fallback {display: none;}</style><div id=\"sk-container-id-7\" class=\"sk-top-container\"><div class=\"sk-text-repr-fallback\"><pre>KNeighborsClassifier()</pre><b>In a Jupyter environment, please rerun this cell to show the HTML representation or trust the notebook. <br />On GitHub, the HTML representation is unable to render, please try loading this page with nbviewer.org.</b></div><div class=\"sk-container\" hidden><div class=\"sk-item\"><div class=\"sk-estimator sk-toggleable\"><input class=\"sk-toggleable__control sk-hidden--visually\" id=\"sk-estimator-id-7\" type=\"checkbox\" checked><label for=\"sk-estimator-id-7\" class=\"sk-toggleable__label sk-toggleable__label-arrow\">KNeighborsClassifier</label><div class=\"sk-toggleable__content\"><pre>KNeighborsClassifier()</pre></div></div></div></div></div>"
      ],
      "text/plain": [
       "KNeighborsClassifier()"
      ]
     },
     "execution_count": 59,
     "metadata": {},
     "output_type": "execute_result"
    }
   ],
   "source": [
    "knn_std = KNeighborsClassifier()\n",
    "knn_std.fit(x_train_std,y_train)"
   ]
  },
  {
   "cell_type": "code",
   "execution_count": 60,
   "id": "6d1b7266",
   "metadata": {},
   "outputs": [
    {
     "name": "stdout",
     "output_type": "stream",
     "text": [
      "Testing accuracy of Logistic regression is : 0.7304964539007093\n",
      "Training accuracy of Logistic regression is : 0.7712765957446809\n",
      "--------------------\n",
      "Testing accuracy of KNN clasisfire is : 0.8581560283687943\n",
      " Training accuracy of KNN clasisfire is : 0.8971631205673759\n",
      "--------------------\n",
      "DT classifire testing accuracy is 0.8652482269503546\n",
      " DT classifire training accuracy is 0.9361702127659575\n",
      "--------------------\n",
      " Random forest testing accuracy is 0.8865248226950354\n",
      " Random forest training accuracy is 0.9361702127659575\n",
      "--------------------\n",
      " Adaboost testing accuracy is 0.8156028368794326\n",
      "Adaboost training accuracy is 0.875886524822695\n",
      "--------------------\n"
     ]
    }
   ],
   "source": [
    "\n",
    "def train_model(x_train,y_train):\n",
    "## Checking accuracy on testing data set\n",
    "    y_pred_LR = logistic_model.predict(x_test)\n",
    "    \n",
    "    model_name_list.append(\"Logistic_ model\")\n",
    "    cnf_matrix=confusion_matrix(y_pred_LR,y_test)\n",
    "    accuracy_score_LR =accuracy_score(y_pred_LR,y_test)\n",
    "    clf_report_LR =classification_report(y_pred_LR,y_test)\n",
    "    test_accuracy_list.append(accuracy_score_LR)\n",
    "    print(\"Testing accuracy of Logistic regression is :\",accuracy_score_LR)\n",
    "    \n",
    "    \n",
    "## Checking accuracy on training data set\n",
    "    y_pred_LR_train = logistic_model.predict(x_train)\n",
    "    cnf_matrix=confusion_matrix(y_pred_LR_train,y_train)\n",
    "    accuracy_score_LR =accuracy_score(y_pred_LR_train,y_train)\n",
    "    clf_report_LR =classification_report(y_pred_LR_train,y_train)\n",
    "    train_accuracy_list.append(accuracy_score_LR)\n",
    "    print(\"Training accuracy of Logistic regression is :\",accuracy_score_LR)\n",
    "    print(\"-\"*20)\n",
    "    \n",
    "## KNN Model Checking accuracy on testing data set\n",
    "    y_pred_knn = knn_model.predict(x_test)\n",
    "    model_name_list.append(\"KNN_ model\")\n",
    "    cnf_matrix=confusion_matrix(y_pred_knn,y_test)\n",
    "    accuracy_score_knn =accuracy_score(y_pred_knn,y_test)\n",
    "    clf_report_knn =classification_report(y_pred_knn,y_test)\n",
    "    test_accuracy_list.append(accuracy_score_knn)\n",
    "    print(\"Testing accuracy of KNN clasisfire is :\",accuracy_score_knn)\n",
    "    \n",
    "## KNN Model Checking accuracy on Training  data set\n",
    "    y_pred_knn_train = knn_model.predict(x_train)\n",
    "    \n",
    "    cnf_matrix=confusion_matrix(y_pred_knn_train,y_train)\n",
    "    accuracy_train_knn =accuracy_score(y_pred_knn_train,y_train)\n",
    "    clf_report_knn_train =classification_report(y_pred_LR_train,y_train)\n",
    "    train_accuracy_list.append(accuracy_train_knn)\n",
    "    print(\" Training accuracy of KNN clasisfire is :\",accuracy_train_knn)\n",
    "    print(\"-\"*20)\n",
    "    \n",
    "## Decision Tree Checking  accuracy on testing data set\n",
    "    y_pred_DT = dt_model.predict(x_test)\n",
    "    model_name_list.append(\"DT_ model\")\n",
    "    cnf_matrix = confusion_matrix(y_pred_DT,y_test)\n",
    "    accuracy =accuracy_score(y_pred_DT,y_test)\n",
    "    clf_report = classification_report(y_pred_DT,y_test)\n",
    "    test_accuracy_list.append(accuracy)\n",
    "    print(\"DT classifire testing accuracy is\",accuracy)\n",
    "    \n",
    "    \n",
    "## DT training accuracy \n",
    "    y_pred_DT_train = dt_model.predict(x_train)\n",
    "    cnf_matrix = confusion_matrix(y_pred_DT_train,y_train)\n",
    "    accuracy=accuracy_score(y_pred_DT_train,y_train)\n",
    "    clf_report = classification_report(y_pred_DT_train,y_train)\n",
    "    train_accuracy_list.append(accuracy)\n",
    "    print(\" DT classifire training accuracy is\",accuracy)\n",
    "    \n",
    "    print(\"-\"*20)\n",
    "## Random Forest on testing\n",
    "    y_pred_RF= rf_model.predict(x_test)\n",
    "    model_name_list.append(\"RandomForest_ model\")\n",
    "    cnf_matrix = confusion_matrix(y_pred_RF,y_test)\n",
    "    accuracy=accuracy_score(y_pred_RF,y_test)\n",
    "    cnf_report=classification_report(y_pred_RF,y_test)\n",
    "    test_accuracy_list.append(accuracy)\n",
    "    print(\" Random forest testing accuracy is\",accuracy)\n",
    "    \n",
    "    ## Random forest on training\n",
    "    \n",
    "    y_pred_rf=rf_model.predict(x_train)\n",
    "    cnf_matrix= confusion_matrix(y_pred_rf,y_train)\n",
    "    accuracy= accuracy_score(y_pred_rf,y_train)\n",
    "    cnf_report=classification_report(y_pred_rf,y_train)\n",
    "    train_accuracy_list.append(accuracy)\n",
    "    print(\" Random forest training accuracy is\",accuracy)\n",
    "    print(\"-\"*20)\n",
    "    \n",
    "## Adaboost on testing data\n",
    "    y_pred_ada=ada_model.predict(x_test)\n",
    "    model_name_list.append(\"Adaboost_ model\")\n",
    "    cnf_matrix = confusion_matrix(y_pred_ada,y_test)\n",
    "    accuracy=accuracy_score(y_pred_ada,y_test)\n",
    "    cnf_report = classification_report(y_pred_ada,y_test)\n",
    "    test_accuracy_list.append(accuracy)\n",
    "    print(\" Adaboost testing accuracy is\",accuracy)\n",
    "    \n",
    "    ## Adaboost on training\n",
    "    y_pred_Ada = ada_model.predict(x_train)\n",
    "    cnf_matrix =confusion_matrix(y_pred_Ada,y_train)\n",
    "    accuracy=accuracy_score(y_pred_Ada,y_train)\n",
    "    cnf_report=classification_report(y_pred_Ada,y_train)\n",
    "    train_accuracy_list.append(accuracy)\n",
    "    print(\"Adaboost training accuracy is\", accuracy)\n",
    "    print(\"-\"*20)\n",
    "    \n",
    "    \n",
    "    \n",
    "train_model(x_train,y_train)   "
   ]
  },
  {
   "cell_type": "code",
   "execution_count": 61,
   "id": "2b37bc3d",
   "metadata": {},
   "outputs": [],
   "source": [
    "### (8)Hyperparameter Tunning for Decision tree"
   ]
  },
  {
   "cell_type": "code",
   "execution_count": 62,
   "id": "5ac018e2",
   "metadata": {},
   "outputs": [
    {
     "data": {
      "text/html": [
       "<style>#sk-container-id-8 {color: black;background-color: white;}#sk-container-id-8 pre{padding: 0;}#sk-container-id-8 div.sk-toggleable {background-color: white;}#sk-container-id-8 label.sk-toggleable__label {cursor: pointer;display: block;width: 100%;margin-bottom: 0;padding: 0.3em;box-sizing: border-box;text-align: center;}#sk-container-id-8 label.sk-toggleable__label-arrow:before {content: \"▸\";float: left;margin-right: 0.25em;color: #696969;}#sk-container-id-8 label.sk-toggleable__label-arrow:hover:before {color: black;}#sk-container-id-8 div.sk-estimator:hover label.sk-toggleable__label-arrow:before {color: black;}#sk-container-id-8 div.sk-toggleable__content {max-height: 0;max-width: 0;overflow: hidden;text-align: left;background-color: #f0f8ff;}#sk-container-id-8 div.sk-toggleable__content pre {margin: 0.2em;color: black;border-radius: 0.25em;background-color: #f0f8ff;}#sk-container-id-8 input.sk-toggleable__control:checked~div.sk-toggleable__content {max-height: 200px;max-width: 100%;overflow: auto;}#sk-container-id-8 input.sk-toggleable__control:checked~label.sk-toggleable__label-arrow:before {content: \"▾\";}#sk-container-id-8 div.sk-estimator input.sk-toggleable__control:checked~label.sk-toggleable__label {background-color: #d4ebff;}#sk-container-id-8 div.sk-label input.sk-toggleable__control:checked~label.sk-toggleable__label {background-color: #d4ebff;}#sk-container-id-8 input.sk-hidden--visually {border: 0;clip: rect(1px 1px 1px 1px);clip: rect(1px, 1px, 1px, 1px);height: 1px;margin: -1px;overflow: hidden;padding: 0;position: absolute;width: 1px;}#sk-container-id-8 div.sk-estimator {font-family: monospace;background-color: #f0f8ff;border: 1px dotted black;border-radius: 0.25em;box-sizing: border-box;margin-bottom: 0.5em;}#sk-container-id-8 div.sk-estimator:hover {background-color: #d4ebff;}#sk-container-id-8 div.sk-parallel-item::after {content: \"\";width: 100%;border-bottom: 1px solid gray;flex-grow: 1;}#sk-container-id-8 div.sk-label:hover label.sk-toggleable__label {background-color: #d4ebff;}#sk-container-id-8 div.sk-serial::before {content: \"\";position: absolute;border-left: 1px solid gray;box-sizing: border-box;top: 0;bottom: 0;left: 50%;z-index: 0;}#sk-container-id-8 div.sk-serial {display: flex;flex-direction: column;align-items: center;background-color: white;padding-right: 0.2em;padding-left: 0.2em;position: relative;}#sk-container-id-8 div.sk-item {position: relative;z-index: 1;}#sk-container-id-8 div.sk-parallel {display: flex;align-items: stretch;justify-content: center;background-color: white;position: relative;}#sk-container-id-8 div.sk-item::before, #sk-container-id-8 div.sk-parallel-item::before {content: \"\";position: absolute;border-left: 1px solid gray;box-sizing: border-box;top: 0;bottom: 0;left: 50%;z-index: -1;}#sk-container-id-8 div.sk-parallel-item {display: flex;flex-direction: column;z-index: 1;position: relative;background-color: white;}#sk-container-id-8 div.sk-parallel-item:first-child::after {align-self: flex-end;width: 50%;}#sk-container-id-8 div.sk-parallel-item:last-child::after {align-self: flex-start;width: 50%;}#sk-container-id-8 div.sk-parallel-item:only-child::after {width: 0;}#sk-container-id-8 div.sk-dashed-wrapped {border: 1px dashed gray;margin: 0 0.4em 0.5em 0.4em;box-sizing: border-box;padding-bottom: 0.4em;background-color: white;}#sk-container-id-8 div.sk-label label {font-family: monospace;font-weight: bold;display: inline-block;line-height: 1.2em;}#sk-container-id-8 div.sk-label-container {text-align: center;}#sk-container-id-8 div.sk-container {/* jupyter's `normalize.less` sets `[hidden] { display: none; }` but bootstrap.min.css set `[hidden] { display: none !important; }` so we also need the `!important` here to be able to override the default hidden behavior on the sphinx rendered scikit-learn.org. See: https://github.com/scikit-learn/scikit-learn/issues/21755 */display: inline-block !important;position: relative;}#sk-container-id-8 div.sk-text-repr-fallback {display: none;}</style><div id=\"sk-container-id-8\" class=\"sk-top-container\"><div class=\"sk-text-repr-fallback\"><pre>RandomizedSearchCV(cv=5, estimator=DecisionTreeClassifier(random_state=12),\n",
       "                   param_distributions={&#x27;criterion&#x27;: [&#x27;gini&#x27;, &#x27;entropy&#x27;],\n",
       "                                        &#x27;max_depth&#x27;: array([3, 4, 5, 6, 7]),\n",
       "                                        &#x27;min_samples_leaf&#x27;: array([ 2,  3,  4,  5,  6,  7,  8,  9, 10, 11, 12, 13, 14]),\n",
       "                                        &#x27;min_samples_split&#x27;: array([ 2,  3,  4,  5,  6,  7,  8,  9, 10, 11, 12, 13, 14, 15, 16, 17, 18,\n",
       "       19])})</pre><b>In a Jupyter environment, please rerun this cell to show the HTML representation or trust the notebook. <br />On GitHub, the HTML representation is unable to render, please try loading this page with nbviewer.org.</b></div><div class=\"sk-container\" hidden><div class=\"sk-item sk-dashed-wrapped\"><div class=\"sk-label-container\"><div class=\"sk-label sk-toggleable\"><input class=\"sk-toggleable__control sk-hidden--visually\" id=\"sk-estimator-id-8\" type=\"checkbox\" ><label for=\"sk-estimator-id-8\" class=\"sk-toggleable__label sk-toggleable__label-arrow\">RandomizedSearchCV</label><div class=\"sk-toggleable__content\"><pre>RandomizedSearchCV(cv=5, estimator=DecisionTreeClassifier(random_state=12),\n",
       "                   param_distributions={&#x27;criterion&#x27;: [&#x27;gini&#x27;, &#x27;entropy&#x27;],\n",
       "                                        &#x27;max_depth&#x27;: array([3, 4, 5, 6, 7]),\n",
       "                                        &#x27;min_samples_leaf&#x27;: array([ 2,  3,  4,  5,  6,  7,  8,  9, 10, 11, 12, 13, 14]),\n",
       "                                        &#x27;min_samples_split&#x27;: array([ 2,  3,  4,  5,  6,  7,  8,  9, 10, 11, 12, 13, 14, 15, 16, 17, 18,\n",
       "       19])})</pre></div></div></div><div class=\"sk-parallel\"><div class=\"sk-parallel-item\"><div class=\"sk-item\"><div class=\"sk-label-container\"><div class=\"sk-label sk-toggleable\"><input class=\"sk-toggleable__control sk-hidden--visually\" id=\"sk-estimator-id-9\" type=\"checkbox\" ><label for=\"sk-estimator-id-9\" class=\"sk-toggleable__label sk-toggleable__label-arrow\">estimator: DecisionTreeClassifier</label><div class=\"sk-toggleable__content\"><pre>DecisionTreeClassifier(random_state=12)</pre></div></div></div><div class=\"sk-serial\"><div class=\"sk-item\"><div class=\"sk-estimator sk-toggleable\"><input class=\"sk-toggleable__control sk-hidden--visually\" id=\"sk-estimator-id-10\" type=\"checkbox\" ><label for=\"sk-estimator-id-10\" class=\"sk-toggleable__label sk-toggleable__label-arrow\">DecisionTreeClassifier</label><div class=\"sk-toggleable__content\"><pre>DecisionTreeClassifier(random_state=12)</pre></div></div></div></div></div></div></div></div></div></div>"
      ],
      "text/plain": [
       "RandomizedSearchCV(cv=5, estimator=DecisionTreeClassifier(random_state=12),\n",
       "                   param_distributions={'criterion': ['gini', 'entropy'],\n",
       "                                        'max_depth': array([3, 4, 5, 6, 7]),\n",
       "                                        'min_samples_leaf': array([ 2,  3,  4,  5,  6,  7,  8,  9, 10, 11, 12, 13, 14]),\n",
       "                                        'min_samples_split': array([ 2,  3,  4,  5,  6,  7,  8,  9, 10, 11, 12, 13, 14, 15, 16, 17, 18,\n",
       "       19])})"
      ]
     },
     "execution_count": 62,
     "metadata": {},
     "output_type": "execute_result"
    }
   ],
   "source": [
    "dt_model =DecisionTreeClassifier(random_state=12)\n",
    "\n",
    "\n",
    "hyperparameter = {\"criterion\":['gini', 'entropy'],\n",
    "                 'max_depth':np.arange(3,8),\n",
    "                 'min_samples_split': np.arange(2,20),\n",
    "                 'min_samples_leaf':np.arange(2,15)}\n",
    "\n",
    "rscv_dt_clf = RandomizedSearchCV(dt_model, hyperparameter, cv = 5)\n",
    "rscv_dt_clf.fit(x_train, y_train)"
   ]
  },
  {
   "cell_type": "code",
   "execution_count": 63,
   "id": "c2180f15",
   "metadata": {},
   "outputs": [
    {
     "data": {
      "text/html": [
       "<style>#sk-container-id-9 {color: black;background-color: white;}#sk-container-id-9 pre{padding: 0;}#sk-container-id-9 div.sk-toggleable {background-color: white;}#sk-container-id-9 label.sk-toggleable__label {cursor: pointer;display: block;width: 100%;margin-bottom: 0;padding: 0.3em;box-sizing: border-box;text-align: center;}#sk-container-id-9 label.sk-toggleable__label-arrow:before {content: \"▸\";float: left;margin-right: 0.25em;color: #696969;}#sk-container-id-9 label.sk-toggleable__label-arrow:hover:before {color: black;}#sk-container-id-9 div.sk-estimator:hover label.sk-toggleable__label-arrow:before {color: black;}#sk-container-id-9 div.sk-toggleable__content {max-height: 0;max-width: 0;overflow: hidden;text-align: left;background-color: #f0f8ff;}#sk-container-id-9 div.sk-toggleable__content pre {margin: 0.2em;color: black;border-radius: 0.25em;background-color: #f0f8ff;}#sk-container-id-9 input.sk-toggleable__control:checked~div.sk-toggleable__content {max-height: 200px;max-width: 100%;overflow: auto;}#sk-container-id-9 input.sk-toggleable__control:checked~label.sk-toggleable__label-arrow:before {content: \"▾\";}#sk-container-id-9 div.sk-estimator input.sk-toggleable__control:checked~label.sk-toggleable__label {background-color: #d4ebff;}#sk-container-id-9 div.sk-label input.sk-toggleable__control:checked~label.sk-toggleable__label {background-color: #d4ebff;}#sk-container-id-9 input.sk-hidden--visually {border: 0;clip: rect(1px 1px 1px 1px);clip: rect(1px, 1px, 1px, 1px);height: 1px;margin: -1px;overflow: hidden;padding: 0;position: absolute;width: 1px;}#sk-container-id-9 div.sk-estimator {font-family: monospace;background-color: #f0f8ff;border: 1px dotted black;border-radius: 0.25em;box-sizing: border-box;margin-bottom: 0.5em;}#sk-container-id-9 div.sk-estimator:hover {background-color: #d4ebff;}#sk-container-id-9 div.sk-parallel-item::after {content: \"\";width: 100%;border-bottom: 1px solid gray;flex-grow: 1;}#sk-container-id-9 div.sk-label:hover label.sk-toggleable__label {background-color: #d4ebff;}#sk-container-id-9 div.sk-serial::before {content: \"\";position: absolute;border-left: 1px solid gray;box-sizing: border-box;top: 0;bottom: 0;left: 50%;z-index: 0;}#sk-container-id-9 div.sk-serial {display: flex;flex-direction: column;align-items: center;background-color: white;padding-right: 0.2em;padding-left: 0.2em;position: relative;}#sk-container-id-9 div.sk-item {position: relative;z-index: 1;}#sk-container-id-9 div.sk-parallel {display: flex;align-items: stretch;justify-content: center;background-color: white;position: relative;}#sk-container-id-9 div.sk-item::before, #sk-container-id-9 div.sk-parallel-item::before {content: \"\";position: absolute;border-left: 1px solid gray;box-sizing: border-box;top: 0;bottom: 0;left: 50%;z-index: -1;}#sk-container-id-9 div.sk-parallel-item {display: flex;flex-direction: column;z-index: 1;position: relative;background-color: white;}#sk-container-id-9 div.sk-parallel-item:first-child::after {align-self: flex-end;width: 50%;}#sk-container-id-9 div.sk-parallel-item:last-child::after {align-self: flex-start;width: 50%;}#sk-container-id-9 div.sk-parallel-item:only-child::after {width: 0;}#sk-container-id-9 div.sk-dashed-wrapped {border: 1px dashed gray;margin: 0 0.4em 0.5em 0.4em;box-sizing: border-box;padding-bottom: 0.4em;background-color: white;}#sk-container-id-9 div.sk-label label {font-family: monospace;font-weight: bold;display: inline-block;line-height: 1.2em;}#sk-container-id-9 div.sk-label-container {text-align: center;}#sk-container-id-9 div.sk-container {/* jupyter's `normalize.less` sets `[hidden] { display: none; }` but bootstrap.min.css set `[hidden] { display: none !important; }` so we also need the `!important` here to be able to override the default hidden behavior on the sphinx rendered scikit-learn.org. See: https://github.com/scikit-learn/scikit-learn/issues/21755 */display: inline-block !important;position: relative;}#sk-container-id-9 div.sk-text-repr-fallback {display: none;}</style><div id=\"sk-container-id-9\" class=\"sk-top-container\"><div class=\"sk-text-repr-fallback\"><pre>DecisionTreeClassifier(max_depth=7, min_samples_leaf=5, min_samples_split=6,\n",
       "                       random_state=12)</pre><b>In a Jupyter environment, please rerun this cell to show the HTML representation or trust the notebook. <br />On GitHub, the HTML representation is unable to render, please try loading this page with nbviewer.org.</b></div><div class=\"sk-container\" hidden><div class=\"sk-item\"><div class=\"sk-estimator sk-toggleable\"><input class=\"sk-toggleable__control sk-hidden--visually\" id=\"sk-estimator-id-11\" type=\"checkbox\" checked><label for=\"sk-estimator-id-11\" class=\"sk-toggleable__label sk-toggleable__label-arrow\">DecisionTreeClassifier</label><div class=\"sk-toggleable__content\"><pre>DecisionTreeClassifier(max_depth=7, min_samples_leaf=5, min_samples_split=6,\n",
       "                       random_state=12)</pre></div></div></div></div></div>"
      ],
      "text/plain": [
       "DecisionTreeClassifier(max_depth=7, min_samples_leaf=5, min_samples_split=6,\n",
       "                       random_state=12)"
      ]
     },
     "execution_count": 63,
     "metadata": {},
     "output_type": "execute_result"
    }
   ],
   "source": [
    "rscv_dt_clf.best_estimator_"
   ]
  },
  {
   "cell_type": "code",
   "execution_count": 64,
   "id": "6d083b90",
   "metadata": {},
   "outputs": [
    {
     "name": "stdout",
     "output_type": "stream",
     "text": [
      "Confusion matrix:\n",
      ": [[47  9]\n",
      " [12 73]]\n",
      "accuracy is : 0.851063829787234\n",
      "classification report:\n",
      "               precision    recall  f1-score   support\n",
      "\n",
      "           0       0.80      0.84      0.82        56\n",
      "           1       0.89      0.86      0.87        85\n",
      "\n",
      "    accuracy                           0.85       141\n",
      "   macro avg       0.84      0.85      0.85       141\n",
      "weighted avg       0.85      0.85      0.85       141\n",
      "\n"
     ]
    }
   ],
   "source": [
    "## Testing \n",
    "\n",
    "\n",
    "y_pred_test= rscv_dt_clf.best_estimator_.predict(x_test)\n",
    "\n",
    "model_name_list.append(\"DT with Hyperparameter tunning\")\n",
    "\n",
    "cnf_matrix=confusion_matrix(y_pred_test,y_test)\n",
    "print(\"Confusion matrix:\\n:\",cnf_matrix)\n",
    "\n",
    "accuracy =accuracy_score(y_pred_test,y_test)\n",
    "print(\"accuracy is :\",accuracy)\n",
    "test_accuracy_list.append(accuracy)\n",
    "clf_report =classification_report(y_pred_test,y_test)\n",
    "print(\"classification report:\\n\",clf_report)\n",
    "\n",
    "\n",
    "\n",
    "\n",
    "\n"
   ]
  },
  {
   "cell_type": "code",
   "execution_count": 65,
   "id": "a1b14d8b",
   "metadata": {},
   "outputs": [
    {
     "name": "stdout",
     "output_type": "stream",
     "text": [
      "Confusion matrix:\n",
      ": [[203  13]\n",
      " [ 59 289]]\n",
      "accuracy is : 0.8723404255319149\n",
      "classification report:\n",
      "               precision    recall  f1-score   support\n",
      "\n",
      "           0       0.77      0.94      0.85       216\n",
      "           1       0.96      0.83      0.89       348\n",
      "\n",
      "    accuracy                           0.87       564\n",
      "   macro avg       0.87      0.89      0.87       564\n",
      "weighted avg       0.89      0.87      0.87       564\n",
      "\n"
     ]
    }
   ],
   "source": [
    "y_pred_train= rscv_dt_clf.best_estimator_.predict(x_train)\n",
    "\n",
    "\n",
    "cnf_matrix=confusion_matrix(y_pred_train,y_train)\n",
    "print(\"Confusion matrix:\\n:\",cnf_matrix)\n",
    "\n",
    "accuracy =accuracy_score(y_pred_train,y_train)\n",
    "print(\"accuracy is :\",accuracy)\n",
    "train_accuracy_list.append(accuracy)\n",
    "clf_report =classification_report(y_pred_train,y_train)\n",
    "print(\"classification report:\\n\",clf_report)"
   ]
  },
  {
   "cell_type": "code",
   "execution_count": 66,
   "id": "497eedcb",
   "metadata": {},
   "outputs": [],
   "source": [
    "# (9) Prunning for decision tree"
   ]
  },
  {
   "cell_type": "code",
   "execution_count": 67,
   "id": "4a41cfa3",
   "metadata": {},
   "outputs": [],
   "source": [
    "# result = dt_model.cost_complexity_prunning_path(x_train,y_train)\n",
    "# ccp_alpha_list = result['ccp_alphas']\n",
    "# ccp_alpha_list"
   ]
  },
  {
   "cell_type": "code",
   "execution_count": 68,
   "id": "e4dd7fb4",
   "metadata": {},
   "outputs": [],
   "source": [
    "### (8) Hyperparameter tunning for Random forest"
   ]
  },
  {
   "cell_type": "code",
   "execution_count": 69,
   "id": "048c0b96",
   "metadata": {},
   "outputs": [
    {
     "data": {
      "text/html": [
       "<style>#sk-container-id-10 {color: black;background-color: white;}#sk-container-id-10 pre{padding: 0;}#sk-container-id-10 div.sk-toggleable {background-color: white;}#sk-container-id-10 label.sk-toggleable__label {cursor: pointer;display: block;width: 100%;margin-bottom: 0;padding: 0.3em;box-sizing: border-box;text-align: center;}#sk-container-id-10 label.sk-toggleable__label-arrow:before {content: \"▸\";float: left;margin-right: 0.25em;color: #696969;}#sk-container-id-10 label.sk-toggleable__label-arrow:hover:before {color: black;}#sk-container-id-10 div.sk-estimator:hover label.sk-toggleable__label-arrow:before {color: black;}#sk-container-id-10 div.sk-toggleable__content {max-height: 0;max-width: 0;overflow: hidden;text-align: left;background-color: #f0f8ff;}#sk-container-id-10 div.sk-toggleable__content pre {margin: 0.2em;color: black;border-radius: 0.25em;background-color: #f0f8ff;}#sk-container-id-10 input.sk-toggleable__control:checked~div.sk-toggleable__content {max-height: 200px;max-width: 100%;overflow: auto;}#sk-container-id-10 input.sk-toggleable__control:checked~label.sk-toggleable__label-arrow:before {content: \"▾\";}#sk-container-id-10 div.sk-estimator input.sk-toggleable__control:checked~label.sk-toggleable__label {background-color: #d4ebff;}#sk-container-id-10 div.sk-label input.sk-toggleable__control:checked~label.sk-toggleable__label {background-color: #d4ebff;}#sk-container-id-10 input.sk-hidden--visually {border: 0;clip: rect(1px 1px 1px 1px);clip: rect(1px, 1px, 1px, 1px);height: 1px;margin: -1px;overflow: hidden;padding: 0;position: absolute;width: 1px;}#sk-container-id-10 div.sk-estimator {font-family: monospace;background-color: #f0f8ff;border: 1px dotted black;border-radius: 0.25em;box-sizing: border-box;margin-bottom: 0.5em;}#sk-container-id-10 div.sk-estimator:hover {background-color: #d4ebff;}#sk-container-id-10 div.sk-parallel-item::after {content: \"\";width: 100%;border-bottom: 1px solid gray;flex-grow: 1;}#sk-container-id-10 div.sk-label:hover label.sk-toggleable__label {background-color: #d4ebff;}#sk-container-id-10 div.sk-serial::before {content: \"\";position: absolute;border-left: 1px solid gray;box-sizing: border-box;top: 0;bottom: 0;left: 50%;z-index: 0;}#sk-container-id-10 div.sk-serial {display: flex;flex-direction: column;align-items: center;background-color: white;padding-right: 0.2em;padding-left: 0.2em;position: relative;}#sk-container-id-10 div.sk-item {position: relative;z-index: 1;}#sk-container-id-10 div.sk-parallel {display: flex;align-items: stretch;justify-content: center;background-color: white;position: relative;}#sk-container-id-10 div.sk-item::before, #sk-container-id-10 div.sk-parallel-item::before {content: \"\";position: absolute;border-left: 1px solid gray;box-sizing: border-box;top: 0;bottom: 0;left: 50%;z-index: -1;}#sk-container-id-10 div.sk-parallel-item {display: flex;flex-direction: column;z-index: 1;position: relative;background-color: white;}#sk-container-id-10 div.sk-parallel-item:first-child::after {align-self: flex-end;width: 50%;}#sk-container-id-10 div.sk-parallel-item:last-child::after {align-self: flex-start;width: 50%;}#sk-container-id-10 div.sk-parallel-item:only-child::after {width: 0;}#sk-container-id-10 div.sk-dashed-wrapped {border: 1px dashed gray;margin: 0 0.4em 0.5em 0.4em;box-sizing: border-box;padding-bottom: 0.4em;background-color: white;}#sk-container-id-10 div.sk-label label {font-family: monospace;font-weight: bold;display: inline-block;line-height: 1.2em;}#sk-container-id-10 div.sk-label-container {text-align: center;}#sk-container-id-10 div.sk-container {/* jupyter's `normalize.less` sets `[hidden] { display: none; }` but bootstrap.min.css set `[hidden] { display: none !important; }` so we also need the `!important` here to be able to override the default hidden behavior on the sphinx rendered scikit-learn.org. See: https://github.com/scikit-learn/scikit-learn/issues/21755 */display: inline-block !important;position: relative;}#sk-container-id-10 div.sk-text-repr-fallback {display: none;}</style><div id=\"sk-container-id-10\" class=\"sk-top-container\"><div class=\"sk-text-repr-fallback\"><pre>RandomForestClassifier(ccp_alpha=0.8763385964187631, criterion=&#x27;entropy&#x27;,\n",
       "                       max_depth=3, max_features=&#x27;log2&#x27;, min_samples_leaf=6,\n",
       "                       min_samples_split=7, n_estimators=126, n_jobs=-1,\n",
       "                       oob_score=True, random_state=12)</pre><b>In a Jupyter environment, please rerun this cell to show the HTML representation or trust the notebook. <br />On GitHub, the HTML representation is unable to render, please try loading this page with nbviewer.org.</b></div><div class=\"sk-container\" hidden><div class=\"sk-item\"><div class=\"sk-estimator sk-toggleable\"><input class=\"sk-toggleable__control sk-hidden--visually\" id=\"sk-estimator-id-12\" type=\"checkbox\" checked><label for=\"sk-estimator-id-12\" class=\"sk-toggleable__label sk-toggleable__label-arrow\">RandomForestClassifier</label><div class=\"sk-toggleable__content\"><pre>RandomForestClassifier(ccp_alpha=0.8763385964187631, criterion=&#x27;entropy&#x27;,\n",
       "                       max_depth=3, max_features=&#x27;log2&#x27;, min_samples_leaf=6,\n",
       "                       min_samples_split=7, n_estimators=126, n_jobs=-1,\n",
       "                       oob_score=True, random_state=12)</pre></div></div></div></div></div>"
      ],
      "text/plain": [
       "RandomForestClassifier(ccp_alpha=0.8763385964187631, criterion='entropy',\n",
       "                       max_depth=3, max_features='log2', min_samples_leaf=6,\n",
       "                       min_samples_split=7, n_estimators=126, n_jobs=-1,\n",
       "                       oob_score=True, random_state=12)"
      ]
     },
     "execution_count": 69,
     "metadata": {},
     "output_type": "execute_result"
    }
   ],
   "source": [
    "rf_hyper_model = RandomForestClassifier(random_state=12,n_jobs=-1)\n",
    "\n",
    "hyperparameter = {'n_estimators':np.arange(10,200),\n",
    "                'criterion':['gini','entropy'],\n",
    "                'max_depth':np.arange(3,8),\n",
    "                'min_samples_split':np.arange(2,20),\n",
    "                'min_samples_leaf':np.arange(3,10),\n",
    "                'max_features':['sqrt','log2'],\n",
    "                'oob_score':[True],\n",
    "                'ccp_alpha':list(np.random.random(10))}\n",
    "                             \n",
    "rscv_rf_model=RandomizedSearchCV(rf_hyper_model,hyperparameter,cv=5)\n",
    "rscv_rf_model.fit(x_train,y_train)\n",
    "\n",
    "rscv_rf_model.best_estimator_\n",
    "                        "
   ]
  },
  {
   "cell_type": "code",
   "execution_count": 70,
   "id": "56dfb463",
   "metadata": {},
   "outputs": [
    {
     "name": "stdout",
     "output_type": "stream",
     "text": [
      "Confusion matrix:\n",
      ": [[ 0  0]\n",
      " [59 82]]\n",
      "accuracy is : 0.5815602836879432\n",
      "classification report:\n",
      "               precision    recall  f1-score   support\n",
      "\n",
      "           0       0.00      0.00      0.00         0\n",
      "           1       1.00      0.58      0.74       141\n",
      "\n",
      "    accuracy                           0.58       141\n",
      "   macro avg       0.50      0.29      0.37       141\n",
      "weighted avg       1.00      0.58      0.74       141\n",
      "\n"
     ]
    }
   ],
   "source": [
    "## testing data accuracy\n",
    "model_name_list.append(\"RF With hyperrparameter tunning\")\n",
    "\n",
    "y_pred =rscv_rf_model.best_estimator_.predict(x_test)\n",
    "cnf_matrix=confusion_matrix(y_pred,y_test)\n",
    "print(\"Confusion matrix:\\n:\",cnf_matrix)\n",
    "\n",
    "accuracy =accuracy_score(y_pred,y_test)\n",
    "print(\"accuracy is :\",accuracy)\n",
    "test_accuracy_list.append(accuracy)\n",
    "clf_report =classification_report(y_pred,y_test)\n",
    "print(\"classification report:\\n\",clf_report)"
   ]
  },
  {
   "cell_type": "code",
   "execution_count": 71,
   "id": "00c2bc29",
   "metadata": {},
   "outputs": [
    {
     "name": "stdout",
     "output_type": "stream",
     "text": [
      "Confusion matrix:\n",
      ": [[  0   0]\n",
      " [262 302]]\n",
      "accuracy is : 0.5354609929078015\n",
      "classification report:\n",
      "               precision    recall  f1-score   support\n",
      "\n",
      "           0       0.00      0.00      0.00         0\n",
      "           1       1.00      0.54      0.70       564\n",
      "\n",
      "    accuracy                           0.54       564\n",
      "   macro avg       0.50      0.27      0.35       564\n",
      "weighted avg       1.00      0.54      0.70       564\n",
      "\n"
     ]
    }
   ],
   "source": [
    "## training data accuracy\n",
    "\n",
    "\n",
    "y_pred =rscv_rf_model.best_estimator_.predict(x_train)\n",
    "cnf_matrix=confusion_matrix(y_pred,y_train)\n",
    "print(\"Confusion matrix:\\n:\",cnf_matrix)\n",
    "\n",
    "accuracy =accuracy_score(y_pred,y_train)\n",
    "print(\"accuracy is :\",accuracy)\n",
    "train_accuracy_list.append(accuracy)\n",
    "clf_report =classification_report(y_pred,y_train)\n",
    "print(\"classification report:\\n\",clf_report)"
   ]
  },
  {
   "cell_type": "code",
   "execution_count": 72,
   "id": "5ea2c723",
   "metadata": {},
   "outputs": [],
   "source": [
    "# Hyperparameter Tunning with Adaboost"
   ]
  },
  {
   "cell_type": "code",
   "execution_count": 73,
   "id": "be6c1164",
   "metadata": {},
   "outputs": [
    {
     "data": {
      "text/html": [
       "<style>#sk-container-id-11 {color: black;background-color: white;}#sk-container-id-11 pre{padding: 0;}#sk-container-id-11 div.sk-toggleable {background-color: white;}#sk-container-id-11 label.sk-toggleable__label {cursor: pointer;display: block;width: 100%;margin-bottom: 0;padding: 0.3em;box-sizing: border-box;text-align: center;}#sk-container-id-11 label.sk-toggleable__label-arrow:before {content: \"▸\";float: left;margin-right: 0.25em;color: #696969;}#sk-container-id-11 label.sk-toggleable__label-arrow:hover:before {color: black;}#sk-container-id-11 div.sk-estimator:hover label.sk-toggleable__label-arrow:before {color: black;}#sk-container-id-11 div.sk-toggleable__content {max-height: 0;max-width: 0;overflow: hidden;text-align: left;background-color: #f0f8ff;}#sk-container-id-11 div.sk-toggleable__content pre {margin: 0.2em;color: black;border-radius: 0.25em;background-color: #f0f8ff;}#sk-container-id-11 input.sk-toggleable__control:checked~div.sk-toggleable__content {max-height: 200px;max-width: 100%;overflow: auto;}#sk-container-id-11 input.sk-toggleable__control:checked~label.sk-toggleable__label-arrow:before {content: \"▾\";}#sk-container-id-11 div.sk-estimator input.sk-toggleable__control:checked~label.sk-toggleable__label {background-color: #d4ebff;}#sk-container-id-11 div.sk-label input.sk-toggleable__control:checked~label.sk-toggleable__label {background-color: #d4ebff;}#sk-container-id-11 input.sk-hidden--visually {border: 0;clip: rect(1px 1px 1px 1px);clip: rect(1px, 1px, 1px, 1px);height: 1px;margin: -1px;overflow: hidden;padding: 0;position: absolute;width: 1px;}#sk-container-id-11 div.sk-estimator {font-family: monospace;background-color: #f0f8ff;border: 1px dotted black;border-radius: 0.25em;box-sizing: border-box;margin-bottom: 0.5em;}#sk-container-id-11 div.sk-estimator:hover {background-color: #d4ebff;}#sk-container-id-11 div.sk-parallel-item::after {content: \"\";width: 100%;border-bottom: 1px solid gray;flex-grow: 1;}#sk-container-id-11 div.sk-label:hover label.sk-toggleable__label {background-color: #d4ebff;}#sk-container-id-11 div.sk-serial::before {content: \"\";position: absolute;border-left: 1px solid gray;box-sizing: border-box;top: 0;bottom: 0;left: 50%;z-index: 0;}#sk-container-id-11 div.sk-serial {display: flex;flex-direction: column;align-items: center;background-color: white;padding-right: 0.2em;padding-left: 0.2em;position: relative;}#sk-container-id-11 div.sk-item {position: relative;z-index: 1;}#sk-container-id-11 div.sk-parallel {display: flex;align-items: stretch;justify-content: center;background-color: white;position: relative;}#sk-container-id-11 div.sk-item::before, #sk-container-id-11 div.sk-parallel-item::before {content: \"\";position: absolute;border-left: 1px solid gray;box-sizing: border-box;top: 0;bottom: 0;left: 50%;z-index: -1;}#sk-container-id-11 div.sk-parallel-item {display: flex;flex-direction: column;z-index: 1;position: relative;background-color: white;}#sk-container-id-11 div.sk-parallel-item:first-child::after {align-self: flex-end;width: 50%;}#sk-container-id-11 div.sk-parallel-item:last-child::after {align-self: flex-start;width: 50%;}#sk-container-id-11 div.sk-parallel-item:only-child::after {width: 0;}#sk-container-id-11 div.sk-dashed-wrapped {border: 1px dashed gray;margin: 0 0.4em 0.5em 0.4em;box-sizing: border-box;padding-bottom: 0.4em;background-color: white;}#sk-container-id-11 div.sk-label label {font-family: monospace;font-weight: bold;display: inline-block;line-height: 1.2em;}#sk-container-id-11 div.sk-label-container {text-align: center;}#sk-container-id-11 div.sk-container {/* jupyter's `normalize.less` sets `[hidden] { display: none; }` but bootstrap.min.css set `[hidden] { display: none !important; }` so we also need the `!important` here to be able to override the default hidden behavior on the sphinx rendered scikit-learn.org. See: https://github.com/scikit-learn/scikit-learn/issues/21755 */display: inline-block !important;position: relative;}#sk-container-id-11 div.sk-text-repr-fallback {display: none;}</style><div id=\"sk-container-id-11\" class=\"sk-top-container\"><div class=\"sk-text-repr-fallback\"><pre>AdaBoostClassifier(learning_rate=1.301, n_estimators=51, random_state=12)</pre><b>In a Jupyter environment, please rerun this cell to show the HTML representation or trust the notebook. <br />On GitHub, the HTML representation is unable to render, please try loading this page with nbviewer.org.</b></div><div class=\"sk-container\" hidden><div class=\"sk-item\"><div class=\"sk-estimator sk-toggleable\"><input class=\"sk-toggleable__control sk-hidden--visually\" id=\"sk-estimator-id-13\" type=\"checkbox\" checked><label for=\"sk-estimator-id-13\" class=\"sk-toggleable__label sk-toggleable__label-arrow\">AdaBoostClassifier</label><div class=\"sk-toggleable__content\"><pre>AdaBoostClassifier(learning_rate=1.301, n_estimators=51, random_state=12)</pre></div></div></div></div></div>"
      ],
      "text/plain": [
       "AdaBoostClassifier(learning_rate=1.301, n_estimators=51, random_state=12)"
      ]
     },
     "execution_count": 73,
     "metadata": {},
     "output_type": "execute_result"
    }
   ],
   "source": [
    "adb_hyper_clf=AdaBoostClassifier(random_state=12)\n",
    "\n",
    "hyperparameter = {'n_estimators':np.arange(10,100),\n",
    "                 'learning_rate':np.arange(0,2,0.001)}\n",
    "rscv_rf_model=RandomizedSearchCV(adb_hyper_clf,hyperparameter,cv=5)\n",
    "rscv_rf_model.fit(x_train,y_train)\n",
    "\n",
    "rscv_rf_model.best_estimator_\n"
   ]
  },
  {
   "cell_type": "code",
   "execution_count": 74,
   "id": "7850637c",
   "metadata": {},
   "outputs": [
    {
     "name": "stdout",
     "output_type": "stream",
     "text": [
      "Confusion Matrix :\n",
      " [[51  8]\n",
      " [16 66]]\n",
      "****************************************************************\n",
      "Accuracy Score : 0.8297872340425532\n",
      "Classification report :\n",
      "               precision    recall  f1-score   support\n",
      "\n",
      "           0       0.76      0.86      0.81        59\n",
      "           1       0.89      0.80      0.85        82\n",
      "\n",
      "    accuracy                           0.83       141\n",
      "   macro avg       0.83      0.83      0.83       141\n",
      "weighted avg       0.84      0.83      0.83       141\n",
      "\n"
     ]
    }
   ],
   "source": [
    "\n",
    "## Testing accuracy\n",
    "model_name_list.append(\"AdaBoost With Hyperparameter Tunning\")\n",
    "y_pred = rscv_rf_model.best_estimator_.predict(x_test)\n",
    "cnf_matrix = confusion_matrix(y_test, y_pred)\n",
    "print(\"Confusion Matrix :\\n\", cnf_matrix)\n",
    "print(\"*\"*64)\n",
    "accuracy = accuracy_score(y_test, y_pred)\n",
    "print(\"Accuracy Score :\", accuracy)\n",
    "test_accuracy_list.append(accuracy)\n",
    "\n",
    "clf_report = classification_report(y_test, y_pred)\n",
    "print(\"Classification report :\\n\", clf_report)"
   ]
  },
  {
   "cell_type": "code",
   "execution_count": 75,
   "id": "53c9fb7a",
   "metadata": {},
   "outputs": [
    {
     "name": "stdout",
     "output_type": "stream",
     "text": [
      "Confusion Matrix :\n",
      " [[222  40]\n",
      " [ 33 269]]\n",
      "****************************************************************\n",
      "Accuracy Score : 0.8705673758865248\n",
      "****************************************************************\n",
      "Classification report :\n",
      "               precision    recall  f1-score   support\n",
      "\n",
      "           0       0.87      0.85      0.86       262\n",
      "           1       0.87      0.89      0.88       302\n",
      "\n",
      "    accuracy                           0.87       564\n",
      "   macro avg       0.87      0.87      0.87       564\n",
      "weighted avg       0.87      0.87      0.87       564\n",
      "\n"
     ]
    }
   ],
   "source": [
    "y_pred_train = rscv_rf_model.best_estimator_.predict(x_train)\n",
    "cnf_matrix = confusion_matrix(y_train, y_pred_train)\n",
    "print(\"Confusion Matrix :\\n\", cnf_matrix)\n",
    "print(\"*\"*64)\n",
    "accuracy = accuracy_score(y_train, y_pred_train)\n",
    "print(\"Accuracy Score :\", accuracy)\n",
    "train_accuracy_list.append(accuracy)\n",
    "print(\"*\"*64)\n",
    "clf_report = classification_report(y_train, y_pred_train)\n",
    "print(\"Classification report :\\n\", clf_report)"
   ]
  },
  {
   "cell_type": "code",
   "execution_count": 76,
   "id": "6327ef0f",
   "metadata": {},
   "outputs": [],
   "source": [
    "### KNN With Normalization scaling"
   ]
  },
  {
   "cell_type": "code",
   "execution_count": 77,
   "id": "b55f86d6",
   "metadata": {},
   "outputs": [
    {
     "name": "stdout",
     "output_type": "stream",
     "text": [
      "confusion matrix \n",
      " [[ 0 59]\n",
      " [ 0 82]]\n",
      "****************************************************************\n",
      "Accuracy Score: 0.5815602836879432\n",
      "****************************************************************\n",
      "Classification report:\n",
      "               precision    recall  f1-score   support\n",
      "\n",
      "           0       0.00      0.00      0.00        59\n",
      "           1       0.58      1.00      0.74        82\n",
      "\n",
      "    accuracy                           0.58       141\n",
      "   macro avg       0.29      0.50      0.37       141\n",
      "weighted avg       0.34      0.58      0.43       141\n",
      "\n"
     ]
    }
   ],
   "source": [
    "# Testing Data\n",
    "# Prediction\n",
    "y_pred = knn_normal.predict(x_test)\n",
    "y_pred\n",
    "model_name_list.append(\"KNN with Normalization Scaling\")\n",
    "conf_matrix = confusion_matrix(y_test, y_pred)\n",
    "print(\"confusion matrix \\n\", conf_matrix)\n",
    "print(\"*\"*64)\n",
    "accuracy = accuracy_score(y_test, y_pred)\n",
    "print(\"Accuracy Score:\", accuracy)\n",
    "test_accuracy_list.append(accuracy)\n",
    "print(\"*\"*64)\n",
    "class_report = classification_report(y_test, y_pred)\n",
    "print(\"Classification report:\\n\", class_report)"
   ]
  },
  {
   "cell_type": "code",
   "execution_count": 78,
   "id": "7d36c0cf",
   "metadata": {},
   "outputs": [
    {
     "name": "stdout",
     "output_type": "stream",
     "text": [
      "Confusion Matrix :\n",
      " [[  0 262]\n",
      " [  0 302]]\n",
      "****************************************************************\n",
      "Accuracy Score : 0.5354609929078015\n",
      "****************************************************************\n",
      "Classification report :\n",
      "               precision    recall  f1-score   support\n",
      "\n",
      "           0       0.00      0.00      0.00       262\n",
      "           1       0.54      1.00      0.70       302\n",
      "\n",
      "    accuracy                           0.54       564\n",
      "   macro avg       0.27      0.50      0.35       564\n",
      "weighted avg       0.29      0.54      0.37       564\n",
      "\n"
     ]
    }
   ],
   "source": [
    "# Training Data\n",
    "y_pred_train = knn_normal.predict(x_train)\n",
    "cnf_matrix = confusion_matrix(y_train, y_pred_train)\n",
    "print(\"Confusion Matrix :\\n\", cnf_matrix)\n",
    "print(\"*\"*64)\n",
    "accuracy = accuracy_score(y_train, y_pred_train)\n",
    "print(\"Accuracy Score :\", accuracy)\n",
    "train_accuracy_list.append(accuracy)\n",
    "print(\"*\"*64)\n",
    "clf_report = classification_report(y_train, y_pred_train)\n",
    "print(\"Classification report :\\n\", clf_report)\n"
   ]
  },
  {
   "cell_type": "code",
   "execution_count": 79,
   "id": "7baf9915",
   "metadata": {},
   "outputs": [],
   "source": [
    "# KNN with standardization"
   ]
  },
  {
   "cell_type": "code",
   "execution_count": 80,
   "id": "c135fa11",
   "metadata": {},
   "outputs": [
    {
     "name": "stdout",
     "output_type": "stream",
     "text": [
      "confusion matrix \n",
      " [[ 0 59]\n",
      " [ 0 82]]\n",
      "****************************************************************\n",
      "Accuracy Score: 0.5815602836879432\n",
      "****************************************************************\n",
      "Classification report:\n",
      "               precision    recall  f1-score   support\n",
      "\n",
      "           0       0.00      0.00      0.00        59\n",
      "           1       0.58      1.00      0.74        82\n",
      "\n",
      "    accuracy                           0.58       141\n",
      "   macro avg       0.29      0.50      0.37       141\n",
      "weighted avg       0.34      0.58      0.43       141\n",
      "\n"
     ]
    }
   ],
   "source": [
    "# Testing Data\n",
    "# Prediction\n",
    "y_pred = knn_std.predict(x_test)\n",
    "y_pred\n",
    "model_name_list.append(\"KNN with Standardization Scaling\")\n",
    "conf_matrix = confusion_matrix(y_test, y_pred)\n",
    "print(\"confusion matrix \\n\", conf_matrix)\n",
    "print(\"*\"*64)\n",
    "accuracy = accuracy_score(y_test, y_pred)\n",
    "print(\"Accuracy Score:\", accuracy)\n",
    "test_accuracy_list.append(accuracy)\n",
    "print(\"*\"*64)\n",
    "class_report = classification_report(y_test, y_pred)\n",
    "print(\"Classification report:\\n\", class_report)\n"
   ]
  },
  {
   "cell_type": "code",
   "execution_count": 81,
   "id": "90dc8945",
   "metadata": {},
   "outputs": [
    {
     "name": "stdout",
     "output_type": "stream",
     "text": [
      "Confusion Matrix :\n",
      " [[  0 262]\n",
      " [  0 302]]\n",
      "****************************************************************\n",
      "Accuracy Score : 0.5354609929078015\n",
      "****************************************************************\n",
      "Classification report :\n",
      "               precision    recall  f1-score   support\n",
      "\n",
      "           0       0.00      0.00      0.00       262\n",
      "           1       0.54      1.00      0.70       302\n",
      "\n",
      "    accuracy                           0.54       564\n",
      "   macro avg       0.27      0.50      0.35       564\n",
      "weighted avg       0.29      0.54      0.37       564\n",
      "\n"
     ]
    }
   ],
   "source": [
    "# Training Data\n",
    "y_pred_train = knn_std.predict(x_train)\n",
    "cnf_matrix = confusion_matrix(y_train, y_pred_train)\n",
    "print(\"Confusion Matrix :\\n\", cnf_matrix)\n",
    "print(\"*\"*64)\n",
    "accuracy = accuracy_score(y_train, y_pred_train)\n",
    "print(\"Accuracy Score :\", accuracy)\n",
    "train_accuracy_list.append(accuracy)\n",
    "print(\"*\"*64)\n",
    "clf_report = classification_report(y_train, y_pred_train)\n",
    "print(\"Classification report :\\n\", clf_report)"
   ]
  },
  {
   "cell_type": "code",
   "execution_count": 82,
   "id": "dd814774",
   "metadata": {},
   "outputs": [
    {
     "data": {
      "text/plain": [
       "10"
      ]
     },
     "execution_count": 82,
     "metadata": {},
     "output_type": "execute_result"
    }
   ],
   "source": [
    "len(model_name_list)"
   ]
  },
  {
   "cell_type": "code",
   "execution_count": 83,
   "id": "fedc7d72",
   "metadata": {},
   "outputs": [
    {
     "data": {
      "text/plain": [
       "10"
      ]
     },
     "execution_count": 83,
     "metadata": {},
     "output_type": "execute_result"
    }
   ],
   "source": [
    "len(test_accuracy_list)"
   ]
  },
  {
   "cell_type": "code",
   "execution_count": 84,
   "id": "c98b3bf1",
   "metadata": {},
   "outputs": [
    {
     "data": {
      "text/plain": [
       "10"
      ]
     },
     "execution_count": 84,
     "metadata": {},
     "output_type": "execute_result"
    }
   ],
   "source": [
    "len(train_accuracy_list)"
   ]
  },
  {
   "cell_type": "code",
   "execution_count": 85,
   "id": "9981e52c",
   "metadata": {},
   "outputs": [
    {
     "data": {
      "text/html": [
       "<div>\n",
       "<style scoped>\n",
       "    .dataframe tbody tr th:only-of-type {\n",
       "        vertical-align: middle;\n",
       "    }\n",
       "\n",
       "    .dataframe tbody tr th {\n",
       "        vertical-align: top;\n",
       "    }\n",
       "\n",
       "    .dataframe thead th {\n",
       "        text-align: right;\n",
       "    }\n",
       "</style>\n",
       "<table border=\"1\" class=\"dataframe\">\n",
       "  <thead>\n",
       "    <tr style=\"text-align: right;\">\n",
       "      <th></th>\n",
       "      <th>Model_Name</th>\n",
       "      <th>Testing_accuracy</th>\n",
       "      <th>Trainin_accuracy</th>\n",
       "    </tr>\n",
       "  </thead>\n",
       "  <tbody>\n",
       "    <tr>\n",
       "      <th>0</th>\n",
       "      <td>Logistic_ model</td>\n",
       "      <td>0.73</td>\n",
       "      <td>0.77</td>\n",
       "    </tr>\n",
       "    <tr>\n",
       "      <th>1</th>\n",
       "      <td>KNN_ model</td>\n",
       "      <td>0.86</td>\n",
       "      <td>0.90</td>\n",
       "    </tr>\n",
       "    <tr>\n",
       "      <th>2</th>\n",
       "      <td>DT_ model</td>\n",
       "      <td>0.87</td>\n",
       "      <td>0.94</td>\n",
       "    </tr>\n",
       "    <tr>\n",
       "      <th>3</th>\n",
       "      <td>RandomForest_ model</td>\n",
       "      <td>0.89</td>\n",
       "      <td>0.94</td>\n",
       "    </tr>\n",
       "    <tr>\n",
       "      <th>4</th>\n",
       "      <td>Adaboost_ model</td>\n",
       "      <td>0.82</td>\n",
       "      <td>0.88</td>\n",
       "    </tr>\n",
       "    <tr>\n",
       "      <th>5</th>\n",
       "      <td>DT with Hyperparameter tunning</td>\n",
       "      <td>0.85</td>\n",
       "      <td>0.87</td>\n",
       "    </tr>\n",
       "    <tr>\n",
       "      <th>6</th>\n",
       "      <td>RF With hyperrparameter tunning</td>\n",
       "      <td>0.58</td>\n",
       "      <td>0.54</td>\n",
       "    </tr>\n",
       "    <tr>\n",
       "      <th>7</th>\n",
       "      <td>AdaBoost With Hyperparameter Tunning</td>\n",
       "      <td>0.83</td>\n",
       "      <td>0.87</td>\n",
       "    </tr>\n",
       "    <tr>\n",
       "      <th>8</th>\n",
       "      <td>KNN with Normalization Scaling</td>\n",
       "      <td>0.58</td>\n",
       "      <td>0.54</td>\n",
       "    </tr>\n",
       "    <tr>\n",
       "      <th>9</th>\n",
       "      <td>KNN with Standardization Scaling</td>\n",
       "      <td>0.58</td>\n",
       "      <td>0.54</td>\n",
       "    </tr>\n",
       "  </tbody>\n",
       "</table>\n",
       "</div>"
      ],
      "text/plain": [
       "                             Model_Name  Testing_accuracy  Trainin_accuracy\n",
       "0                       Logistic_ model              0.73              0.77\n",
       "1                            KNN_ model              0.86              0.90\n",
       "2                             DT_ model              0.87              0.94\n",
       "3                   RandomForest_ model              0.89              0.94\n",
       "4                       Adaboost_ model              0.82              0.88\n",
       "5        DT with Hyperparameter tunning              0.85              0.87\n",
       "6       RF With hyperrparameter tunning              0.58              0.54\n",
       "7  AdaBoost With Hyperparameter Tunning              0.83              0.87\n",
       "8        KNN with Normalization Scaling              0.58              0.54\n",
       "9      KNN with Standardization Scaling              0.58              0.54"
      ]
     },
     "execution_count": 85,
     "metadata": {},
     "output_type": "execute_result"
    }
   ],
   "source": [
    "dict={'Model_Name':model_name_list,'Testing_accuracy':test_accuracy_list,'Trainin_accuracy':train_accuracy_list}\n",
    "comparison_df=pd.DataFrame(dict)\n",
    "comparison_df"
   ]
  },
  {
   "cell_type": "markdown",
   "id": "efbdea6c",
   "metadata": {},
   "source": [
    "# Training on single row"
   ]
  },
  {
   "cell_type": "code",
   "execution_count": 86,
   "id": "d6ebd031",
   "metadata": {},
   "outputs": [
    {
     "data": {
      "text/html": [
       "<div>\n",
       "<style scoped>\n",
       "    .dataframe tbody tr th:only-of-type {\n",
       "        vertical-align: middle;\n",
       "    }\n",
       "\n",
       "    .dataframe tbody tr th {\n",
       "        vertical-align: top;\n",
       "    }\n",
       "\n",
       "    .dataframe thead th {\n",
       "        text-align: right;\n",
       "    }\n",
       "</style>\n",
       "<table border=\"1\" class=\"dataframe\">\n",
       "  <thead>\n",
       "    <tr style=\"text-align: right;\">\n",
       "      <th></th>\n",
       "      <th>0</th>\n",
       "    </tr>\n",
       "  </thead>\n",
       "  <tbody>\n",
       "    <tr>\n",
       "      <th>Plant</th>\n",
       "      <td>1.00</td>\n",
       "    </tr>\n",
       "    <tr>\n",
       "      <th>Surface</th>\n",
       "      <td>0.00</td>\n",
       "    </tr>\n",
       "    <tr>\n",
       "      <th>Pack</th>\n",
       "      <td>20.00</td>\n",
       "    </tr>\n",
       "    <tr>\n",
       "      <th>Price</th>\n",
       "      <td>9140.00</td>\n",
       "    </tr>\n",
       "    <tr>\n",
       "      <th>Year</th>\n",
       "      <td>2019.00</td>\n",
       "    </tr>\n",
       "    <tr>\n",
       "      <th>Awarded_points</th>\n",
       "      <td>87.00</td>\n",
       "    </tr>\n",
       "    <tr>\n",
       "      <th>Manufacturing_Plant_Bellary</th>\n",
       "      <td>1.00</td>\n",
       "    </tr>\n",
       "    <tr>\n",
       "      <th>Manufacturing_Plant_Vasind</th>\n",
       "      <td>0.00</td>\n",
       "    </tr>\n",
       "    <tr>\n",
       "      <th>Hub_Location_Aurangabad</th>\n",
       "      <td>1.00</td>\n",
       "    </tr>\n",
       "    <tr>\n",
       "      <th>Hub_Location_Goa</th>\n",
       "      <td>0.00</td>\n",
       "    </tr>\n",
       "    <tr>\n",
       "      <th>Hub_Location_Kolhapur</th>\n",
       "      <td>0.00</td>\n",
       "    </tr>\n",
       "    <tr>\n",
       "      <th>Hub_Location_Nagpur</th>\n",
       "      <td>0.00</td>\n",
       "    </tr>\n",
       "    <tr>\n",
       "      <th>Hub_Location_Nashik</th>\n",
       "      <td>0.00</td>\n",
       "    </tr>\n",
       "    <tr>\n",
       "      <th>Brand_AE</th>\n",
       "      <td>0.00</td>\n",
       "    </tr>\n",
       "    <tr>\n",
       "      <th>Brand_AI</th>\n",
       "      <td>0.00</td>\n",
       "    </tr>\n",
       "    <tr>\n",
       "      <th>Brand_ASI</th>\n",
       "      <td>1.00</td>\n",
       "    </tr>\n",
       "    <tr>\n",
       "      <th>Brand_EWP</th>\n",
       "      <td>0.00</td>\n",
       "    </tr>\n",
       "    <tr>\n",
       "      <th>Brand_HE</th>\n",
       "      <td>0.00</td>\n",
       "    </tr>\n",
       "    <tr>\n",
       "      <th>Brand_HI</th>\n",
       "      <td>0.00</td>\n",
       "    </tr>\n",
       "    <tr>\n",
       "      <th>Brand_HSI</th>\n",
       "      <td>0.00</td>\n",
       "    </tr>\n",
       "    <tr>\n",
       "      <th>Brand_IBWPE</th>\n",
       "      <td>0.00</td>\n",
       "    </tr>\n",
       "    <tr>\n",
       "      <th>Brand_IBWPI</th>\n",
       "      <td>0.00</td>\n",
       "    </tr>\n",
       "    <tr>\n",
       "      <th>Brand_IBWR</th>\n",
       "      <td>0.00</td>\n",
       "    </tr>\n",
       "    <tr>\n",
       "      <th>Brand_IWP</th>\n",
       "      <td>0.00</td>\n",
       "    </tr>\n",
       "  </tbody>\n",
       "</table>\n",
       "</div>"
      ],
      "text/plain": [
       "                                  0\n",
       "Plant                          1.00\n",
       "Surface                        0.00\n",
       "Pack                          20.00\n",
       "Price                       9140.00\n",
       "Year                        2019.00\n",
       "Awarded_points                87.00\n",
       "Manufacturing_Plant_Bellary    1.00\n",
       "Manufacturing_Plant_Vasind     0.00\n",
       "Hub_Location_Aurangabad        1.00\n",
       "Hub_Location_Goa               0.00\n",
       "Hub_Location_Kolhapur          0.00\n",
       "Hub_Location_Nagpur            0.00\n",
       "Hub_Location_Nashik            0.00\n",
       "Brand_AE                       0.00\n",
       "Brand_AI                       0.00\n",
       "Brand_ASI                      1.00\n",
       "Brand_EWP                      0.00\n",
       "Brand_HE                       0.00\n",
       "Brand_HI                       0.00\n",
       "Brand_HSI                      0.00\n",
       "Brand_IBWPE                    0.00\n",
       "Brand_IBWPI                    0.00\n",
       "Brand_IBWR                     0.00\n",
       "Brand_IWP                      0.00"
      ]
     },
     "execution_count": 86,
     "metadata": {},
     "output_type": "execute_result"
    }
   ],
   "source": [
    "x.head(1).T"
   ]
  },
  {
   "cell_type": "code",
   "execution_count": 87,
   "id": "be88ab47",
   "metadata": {},
   "outputs": [
    {
     "data": {
      "text/plain": [
       "(24, 1)"
      ]
     },
     "execution_count": 87,
     "metadata": {},
     "output_type": "execute_result"
    }
   ],
   "source": [
    "x.head(1).T.shape"
   ]
  },
  {
   "cell_type": "code",
   "execution_count": 88,
   "id": "769b56bb",
   "metadata": {},
   "outputs": [
    {
     "name": "stdout",
     "output_type": "stream",
     "text": [
      "Index(['Plant', 'Surface', 'Pack', 'Price', 'Year', 'Awarded_points',\n",
      "       'Manufacturing_Plant_Bellary', 'Manufacturing_Plant_Vasind',\n",
      "       'Hub_Location_Aurangabad', 'Hub_Location_Goa', 'Hub_Location_Kolhapur',\n",
      "       'Hub_Location_Nagpur', 'Hub_Location_Nashik', 'Brand_AE', 'Brand_AI',\n",
      "       'Brand_ASI', 'Brand_EWP', 'Brand_HE', 'Brand_HI', 'Brand_HSI',\n",
      "       'Brand_IBWPE', 'Brand_IBWPI', 'Brand_IBWR', 'Brand_IWP'],\n",
      "      dtype='object')\n"
     ]
    }
   ],
   "source": [
    "columns = x.columns\n",
    "print(columns)\n"
   ]
  },
  {
   "cell_type": "code",
   "execution_count": 89,
   "id": "119ec24d",
   "metadata": {},
   "outputs": [
    {
     "data": {
      "text/plain": [
       "24"
      ]
     },
     "execution_count": 89,
     "metadata": {},
     "output_type": "execute_result"
    }
   ],
   "source": [
    "len(columns)\n"
   ]
  },
  {
   "cell_type": "code",
   "execution_count": 90,
   "id": "e01399bf",
   "metadata": {},
   "outputs": [
    {
     "name": "stdout",
     "output_type": "stream",
     "text": [
      "{'One': 1, 'Two': 2, 'Three': 3, 'Four': 4, 'Five': 5}\n",
      "{'INTERIOR': 0, 'EXTERIOR': 1}\n"
     ]
    }
   ],
   "source": [
    "print(Plant_dict)\n",
    "print(Surface_dict)\n"
   ]
  },
  {
   "cell_type": "code",
   "execution_count": 91,
   "id": "09cc7fe7",
   "metadata": {},
   "outputs": [],
   "source": [
    "Plant = 'One'\n",
    "Surface = 'INTERIOR'\n",
    "Pack = 20\n",
    "Price= 9140\n",
    "Year= 2019\n",
    "Awarded_points= 87\n",
    "\n",
    "\n",
    "# one hot encoded \n",
    "Manufacturing_Plant = \"Bellary\"\n",
    "Hub_Location = \"Aurangabad\"\n",
    "Brand = \"ASI\"\n"
   ]
  },
  {
   "cell_type": "code",
   "execution_count": 92,
   "id": "57ebb96c",
   "metadata": {},
   "outputs": [
    {
     "name": "stdout",
     "output_type": "stream",
     "text": [
      "Manufacturing_Plant_Bellary\n",
      "Hub_Location_Aurangabad\n",
      "Brand_ASI\n"
     ]
    }
   ],
   "source": [
    "Manufacturing_Plant_col = \"Manufacturing_Plant_\" + Manufacturing_Plant\n",
    "Hub_Location_col = \"Hub_Location_\" + Hub_Location\n",
    "Brand_col = \"Brand_\" + Brand\n",
    "\n",
    "print(Manufacturing_Plant_col)\n",
    "print(Hub_Location_col)\n",
    "print(Brand_col)\n",
    "\n"
   ]
  },
  {
   "cell_type": "code",
   "execution_count": 93,
   "id": "059109d0",
   "metadata": {},
   "outputs": [
    {
     "data": {
      "text/plain": [
       "Index(['Plant', 'Surface', 'Pack', 'Price', 'Year', 'Awarded_points',\n",
       "       'Manufacturing_Plant_Bellary', 'Manufacturing_Plant_Vasind',\n",
       "       'Hub_Location_Aurangabad', 'Hub_Location_Goa', 'Hub_Location_Kolhapur',\n",
       "       'Hub_Location_Nagpur', 'Hub_Location_Nashik', 'Brand_AE', 'Brand_AI',\n",
       "       'Brand_ASI', 'Brand_EWP', 'Brand_HE', 'Brand_HI', 'Brand_HSI',\n",
       "       'Brand_IBWPE', 'Brand_IBWPI', 'Brand_IBWR', 'Brand_IWP'],\n",
       "      dtype='object')"
      ]
     },
     "execution_count": 93,
     "metadata": {},
     "output_type": "execute_result"
    }
   ],
   "source": [
    "columns"
   ]
  },
  {
   "cell_type": "code",
   "execution_count": 94,
   "id": "2aec59c4",
   "metadata": {},
   "outputs": [
    {
     "name": "stdout",
     "output_type": "stream",
     "text": [
      "6\n",
      "8\n",
      "15\n"
     ]
    }
   ],
   "source": [
    "Manufacturing_Plant_index = np.where (columns == Manufacturing_Plant_col)[0][0]\n",
    "Hub_Location_index = np.where(columns == Hub_Location_col)[0][0]\n",
    "Brand_index = np.where(columns == Brand_col)[0][0]\n",
    "\n",
    "print(Manufacturing_Plant_index)\n",
    "print(Hub_Location_index)\n",
    "print(Brand_index)\n"
   ]
  },
  {
   "cell_type": "code",
   "execution_count": 95,
   "id": "aceb48a0",
   "metadata": {},
   "outputs": [
    {
     "data": {
      "text/plain": [
       "array([0, 0, 0, 0, 0, 0, 0, 0, 0, 0, 0, 0, 0, 0, 0, 0, 0, 0, 0, 0, 0, 0,\n",
       "       0, 0])"
      ]
     },
     "execution_count": 95,
     "metadata": {},
     "output_type": "execute_result"
    }
   ],
   "source": [
    "array = np.zeros(len(columns),dtype=int)\n",
    "array"
   ]
  },
  {
   "cell_type": "code",
   "execution_count": 96,
   "id": "6b8f810a",
   "metadata": {},
   "outputs": [
    {
     "data": {
      "text/plain": [
       "array([   1,    0,   20, 9140, 2019,   87,    1,    0,    1,    0,    0,\n",
       "          0,    0,    0,    0,    1,    0,    0,    0,    0,    0,    0,\n",
       "          0,    0])"
      ]
     },
     "execution_count": 96,
     "metadata": {},
     "output_type": "execute_result"
    }
   ],
   "source": [
    "array[0] = Plant_dict[Plant]\n",
    "array[1] = Surface_dict[Surface]\n",
    "array[2] = Pack\n",
    "array[3] = Price\n",
    "array[4] = Year\n",
    "array[5] = Awarded_points\n",
    "\n",
    "\n",
    "array[Manufacturing_Plant_index] = 1\n",
    "array[Hub_Location_index] = 1\n",
    "array[Brand_index] = 1\n",
    "\n",
    "array"
   ]
  },
  {
   "cell_type": "code",
   "execution_count": 106,
   "id": "e2c67b38",
   "metadata": {},
   "outputs": [
    {
     "name": "stdout",
     "output_type": "stream",
     "text": [
      "As per the provided inputs deatils product Barcode/coupon code is valid.\n"
     ]
    }
   ],
   "source": [
    "coupon_prediction = rf_model.predict([array])[0]\n",
    "if coupon_prediction == 1:\n",
    "    print('As per the provided inputs deatils product Barcode/coupon code is valid.')\n",
    "else:\n",
    "    print('As per the provided inputs deatils product Barcode/coupon code is invalid.')"
   ]
  },
  {
   "cell_type": "code",
   "execution_count": 107,
   "id": "90596170",
   "metadata": {},
   "outputs": [
    {
     "data": {
      "text/plain": [
       "{'columns': ['Plant',\n",
       "  'Surface',\n",
       "  'Pack',\n",
       "  'Price',\n",
       "  'Year',\n",
       "  'Awarded_points',\n",
       "  'Manufacturing_Plant_Bellary',\n",
       "  'Manufacturing_Plant_Vasind',\n",
       "  'Hub_Location_Aurangabad',\n",
       "  'Hub_Location_Goa',\n",
       "  'Hub_Location_Kolhapur',\n",
       "  'Hub_Location_Nagpur',\n",
       "  'Hub_Location_Nashik',\n",
       "  'Brand_AE',\n",
       "  'Brand_AI',\n",
       "  'Brand_ASI',\n",
       "  'Brand_EWP',\n",
       "  'Brand_HE',\n",
       "  'Brand_HI',\n",
       "  'Brand_HSI',\n",
       "  'Brand_IBWPE',\n",
       "  'Brand_IBWPI',\n",
       "  'Brand_IBWR',\n",
       "  'Brand_IWP']}"
      ]
     },
     "execution_count": 107,
     "metadata": {},
     "output_type": "execute_result"
    }
   ],
   "source": [
    "# store all this column is json \n",
    "coupon_data = {\"columns\":list(columns)}\n",
    "coupon_data\n"
   ]
  },
  {
   "cell_type": "code",
   "execution_count": 108,
   "id": "a13fe316",
   "metadata": {},
   "outputs": [],
   "source": [
    "import json\n",
    "with open(\"coupon_data.json\", \"w\") as f:\n",
    " json.dump(coupon_data, f)\n"
   ]
  },
  {
   "cell_type": "code",
   "execution_count": 110,
   "id": "92354be8",
   "metadata": {},
   "outputs": [],
   "source": [
    "# Save Model in Pickle File\n",
    "import pickle\n",
    "with open(\"rf_model.pkl\", \"wb\") as f:\n",
    " pickle.dump(rf_model, f)"
   ]
  },
  {
   "cell_type": "code",
   "execution_count": null,
   "id": "eaaae578",
   "metadata": {},
   "outputs": [],
   "source": []
  }
 ],
 "metadata": {
  "kernelspec": {
   "display_name": "Python 3.9.12 ('base')",
   "language": "python",
   "name": "python3"
  },
  "language_info": {
   "codemirror_mode": {
    "name": "ipython",
    "version": 3
   },
   "file_extension": ".py",
   "mimetype": "text/x-python",
   "name": "python",
   "nbconvert_exporter": "python",
   "pygments_lexer": "ipython3",
   "version": "3.9.12"
  },
  "vscode": {
   "interpreter": {
    "hash": "a2ab3825ac7005fb7b26f112e9c99ae62f464c629e30b0d534c3b931b6cbc3ff"
   }
  }
 },
 "nbformat": 4,
 "nbformat_minor": 5
}
